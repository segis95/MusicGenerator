{
 "cells": [
  {
   "cell_type": "markdown",
   "metadata": {},
   "source": [
    " In this Release we chqnge the following:\n",
    " - eliminate concat between input pitch/rythm and manager output; \n",
    " - output is given in two ways by the manager;\n",
    " - "
   ]
  },
  {
   "cell_type": "code",
   "execution_count": 53,
   "metadata": {},
   "outputs": [
    {
     "name": "stdout",
     "output_type": "stream",
     "text": [
      "0\n",
      "1\n",
      "2\n",
      "3\n",
      "4\n",
      "5\n",
      "6\n",
      "7\n",
      "8\n",
      "9\n",
      "10\n"
     ]
    }
   ],
   "source": [
    "import tensorflow as tf\n",
    "import numpy as np\n",
    "from keras.models import load_model, Model\n",
    "from keras.layers import Dense, Activation, Dropout, Input, LSTM, Reshape, Lambda, RepeatVector, GRU, LSTM\n",
    "from keras.initializers import glorot_uniform\n",
    "from keras.utils import to_categorical\n",
    "from keras.optimizers import Adam\n",
    "from keras import backend as K\n",
    "from keras.layers.merge import Concatenate\n",
    "\n",
    "\n",
    "class ArchitectureSetting():\n",
    "    def __init__(self):\n",
    "        \n",
    "        self.Tx = 11\n",
    "        self.non_trainable_first = 10\n",
    "        \n",
    "        self.manager_internal_shape = 50\n",
    "        self.pitch_internal_shape = 50\n",
    "        self.rythm_internal_shape = 50\n",
    "        \n",
    "        self.pitch_output_shape = 25\n",
    "        self.rythm_output_shape = 5\n",
    "        \n",
    "        self.pitch_to_manager_shape = 25\n",
    "        self.rythm_to_manager_shape = 25\n",
    "        \n",
    "        self.manager_to_inter_pitch_shape = 40\n",
    "        self.manager_to_inter_rythm_shape = 20\n",
    "        \n",
    "        self.manager_gru = GRU(self.manager_internal_shape, return_state = False)\n",
    "        self.pitch_gru = GRU(self.pitch_internal_shape, return_state = False)\n",
    "        self.rythm_gru = GRU(self.rythm_internal_shape, return_state = False)\n",
    "\n",
    "        self.pitch_to_manager = Dense(self.pitch_to_manager_shape, activation='tanh')\n",
    "        self.rythm_to_manager = Dense(self.rythm_to_manager_shape, activation='tanh')\n",
    "\n",
    "        self.manager_to_inter_pitch = Dense(self.manager_to_inter_pitch_shape, activation='tanh')\n",
    "        self.manager_to_inter_rythm = Dense(self.manager_to_inter_rythm_shape, activation = 'tanh')\n",
    "        \n",
    "        self.inter_to_pitch = Dense(self.pitch_output_shape, activation = 'softmax')\n",
    "        self.inter_to_rythm = Dense(self.rythm_output_shape, activation = 'softmax')\n",
    "\n",
    "\n",
    "\n",
    "def build_model(setting):\n",
    "\n",
    "\n",
    "    \n",
    "    X_pitch = Input(shape = (setting.Tx, setting.pitch_output_shape), name = 'X_pitch')\n",
    "    X_rythm = Input(shape = (setting.Tx, setting.rythm_output_shape), name = 'X_rythm')\n",
    "    \n",
    "    reshapor_pitch = Reshape((setting.pitch_output_shape, 1))#?\n",
    "    reshapor_rythm = Reshape((setting.rythm_output_shape, 1))\n",
    "    \n",
    "    manager_state_0 = Input(shape=(setting.manager_internal_shape, ), name = 'manager_state_0')\n",
    "    pitch_state_0 = Input(shape = (setting.pitch_internal_shape, ), name = 'pitch_state_0')\n",
    "    rythm_state_0 = Input(shape = (setting.rythm_internal_shape, ), name = 'rythm_state_0')\n",
    "\n",
    "    manager_state = manager_state_0\n",
    "    pitch_state = pitch_state_0\n",
    "    rythm_state = rythm_state_0\n",
    "    \n",
    "    reshapor_concat = Reshape((setting.pitch_to_manager_shape + setting.rythm_to_manager_shape, 1))\n",
    "    \n",
    "\n",
    "    out_pitches = []\n",
    "    out_rythms = []\n",
    "\n",
    "    for t in range(Tx):\n",
    "        print(t)\n",
    "        \n",
    "        ################################################\n",
    "        get_pitch_t =  Lambda(lambda x: reshapor_pitch(x[:, t, :])) \n",
    "        get_rythm_t = Lambda(lambda x: reshapor_rythm(x[:, t, :]))  \n",
    "\n",
    "        pitch_state = setting.pitch_gru(get_pitch_t(X_pitch), initial_state = [pitch_state])\n",
    "        rythm_state = setting.rythm_gru(get_rythm_t(X_rythm), initial_state = [rythm_state])\n",
    "        \n",
    "        \n",
    "        concat = reshapor_concat(Concatenate(axis = 1)([setting.pitch_to_manager(pitch_state),\\\n",
    "                                                        setting.rythm_to_manager(rythm_state)]))\n",
    "        \n",
    "        manager_state = setting.manager_gru(concat, initial_state = [manager_state])\n",
    "        \n",
    "        if (t >= setting.non_trainable_first):\n",
    "\n",
    "            out_pitches.append(setting.inter_to_pitch(setting.manager_to_inter_pitch(manager_state)))\n",
    "            out_rythms.append(setting.inter_to_rythm(setting.manager_to_inter_rythm(manager_state)))\n",
    "        \n",
    "        \n",
    "        \n",
    "\n",
    "        out = out_pitches + out_rythms\n",
    "\n",
    "    model_general = Model(inputs = [X_pitch, X_rythm, pitch_state_0, rythm_state_0, manager_state_0], outputs = out)\n",
    "\n",
    "    return model_general\n",
    "\n",
    "\n",
    "setting = ArchitectureSetting()\n",
    "model = build_model(setting)\n",
    "\n",
    "from keras.losses import categorical_crossentropy#(y_true, y_pred)\n",
    "from keras import backend as K\n",
    "def custom_objective(y_true, y_pred):\n",
    "    #print(y_true.shape)\n",
    "    #print(y_pred.shape)\n",
    "    length_out = y_pred.shape[1] // 2\n",
    "    return K.mean(categorical_crossentropy(y_true[:,:length_out], y_pred[:,:length_out]) + categorical_crossentropy(y_true[:,length_out:], y_pred[:,length_out:]))\n",
    "\n",
    "opt = Adam()#lr=0.01, beta_1=0.9, beta_2=0.999, decay=0.01\n",
    "\n",
    "model.compile(optimizer=opt, loss=custom_objective, metrics=['accuracy'])"
   ]
  },
  {
   "cell_type": "code",
   "execution_count": 36,
   "metadata": {},
   "outputs": [
    {
     "name": "stdout",
     "output_type": "stream",
     "text": [
      "Epoch 1/1\n",
      "4000/4000 [==============================] - 41s 10ms/step - loss: 2.9530 - dense_87_loss: 2.3639 - dense_88_loss: 0.5891 - dense_87_acc: 0.1948 - dense_88_acc: 0.7415\n"
     ]
    },
    {
     "data": {
      "text/plain": [
       "<keras.callbacks.History at 0x1fd3d695080>"
      ]
     },
     "execution_count": 36,
     "metadata": {},
     "output_type": "execute_result"
    }
   ],
   "source": [
    "import pickle\n",
    "from keras.utils import np_utils\n",
    "\n",
    "rythm_X = pickle.load(open( \"jazz_rythm.txt\", \"rb\" ), encoding = 'bytes')\n",
    "pitch_X = pickle.load(open( \"jazz_pitch.txt\", \"rb\" ), encoding = 'bytes')\n",
    "\n",
    "non_trainable_first = setting.non_trainable_first\n",
    "Tx = setting.Tx\n",
    "\n",
    "pitch_output_shape = setting.pitch_output_shape\n",
    "rythm_output_shape = setting.rythm_output_shape\n",
    "\n",
    "X_pitch = []\n",
    "X_rythm = []\n",
    "\n",
    "y_pitch = []\n",
    "y_rythm = []\n",
    "\n",
    "encode_lengths = {1:0, 2:1, 4:2, 8:3, 16:4}\n",
    "\n",
    "def enc_l(arr):\n",
    "    return [encode_lengths[x] for x in arr]\n",
    "\n",
    "for pitch_s, rythm_s in zip(pitch_X, rythm_X):\n",
    "    lgth = (len(pitch_s) - 1) // Tx\n",
    "    for i in range(lgth):\n",
    "        \n",
    "        \n",
    "        X_pitch.append(np_utils.to_categorical(pitch_s[i * Tx: (i + 1) * Tx],pitch_output_shape ))\n",
    "        y_pitch.append(np_utils.to_categorical(pitch_s[i * Tx + non_trainable_first + 1: (i + 1) * Tx + 1],pitch_output_shape))\n",
    "        \n",
    "        X_rythm.append(np_utils.to_categorical(enc_l(rythm_s[i * Tx: (i + 1) * Tx]),rythm_output_shape))\n",
    "        y_rythm.append(np_utils.to_categorical(enc_l(rythm_s[i * Tx + non_trainable_first + 1: (i + 1) * Tx + 1]),rythm_output_shape))\n",
    "\n",
    "Y = [list(y_pitch[i])+list(y_rythm[i]) for i in range(len(y_pitch))]#\n",
    "Y = [np.array([y[i] for y in Y[:4000]]) for i in range(2)]\n",
    "\n",
    "X_pitch_np = np.array(X_pitch)[:4000]#[x for x in X_pitch]\n",
    "X_rythm_np = np.array(X_rythm)[:4000]\n",
    "\n",
    "from keras.callbacks import ModelCheckpoint\n",
    "\n",
    "m = X_pitch_np.shape[0]\n",
    "\n",
    "manager_internal_shape = setting.manager_internal_shape\n",
    "pitch_internal_shape = setting.pitch_internal_shape\n",
    "rythm_internal_shape = setting.rythm_internal_shape\n",
    "\n",
    "pitch_state_0 = np.zeros((m, pitch_internal_shape))\n",
    "rythm_state_0 = np.zeros((m, rythm_internal_shape))\n",
    "manager_state_0 = np.zeros((m, manager_internal_shape))\n",
    "\n",
    "\n",
    "\n",
    "model.fit([X_pitch_np, X_rythm_np,  pitch_state_0, rythm_state_0, manager_state_0], Y, batch_size = 100, epochs=1, verbose = 1, shuffle = True)\n"
   ]
  },
  {
   "cell_type": "code",
   "execution_count": null,
   "metadata": {},
   "outputs": [],
   "source": []
  },
  {
   "cell_type": "code",
   "execution_count": null,
   "metadata": {},
   "outputs": [],
   "source": [
    "\n"
   ]
  },
  {
   "cell_type": "code",
   "execution_count": null,
   "metadata": {},
   "outputs": [],
   "source": [
    "\n"
   ]
  },
  {
   "cell_type": "code",
   "execution_count": null,
   "metadata": {
    "scrolled": true
   },
   "outputs": [],
   "source": []
  },
  {
   "cell_type": "code",
   "execution_count": null,
   "metadata": {},
   "outputs": [],
   "source": []
  },
  {
   "cell_type": "code",
   "execution_count": null,
   "metadata": {},
   "outputs": [],
   "source": []
  },
  {
   "cell_type": "code",
   "execution_count": null,
   "metadata": {},
   "outputs": [],
   "source": []
  },
  {
   "cell_type": "code",
   "execution_count": null,
   "metadata": {},
   "outputs": [],
   "source": []
  },
  {
   "cell_type": "code",
   "execution_count": null,
   "metadata": {},
   "outputs": [],
   "source": [
    "rythm_X[0]"
   ]
  },
  {
   "cell_type": "code",
   "execution_count": null,
   "metadata": {},
   "outputs": [],
   "source": []
  },
  {
   "cell_type": "code",
   "execution_count": null,
   "metadata": {},
   "outputs": [],
   "source": [
    "      "
   ]
  },
  {
   "cell_type": "code",
   "execution_count": null,
   "metadata": {},
   "outputs": [],
   "source": []
  },
  {
   "cell_type": "code",
   "execution_count": null,
   "metadata": {},
   "outputs": [],
   "source": [
    "#Y = [[y_pitch[i], y_rythm[i]] for i in range(len(y_pitch))] \n",
    "np.array([len(y) for y in y_pitch])[np.array([len(y) for y in y_pitch]) != 1]"
   ]
  },
  {
   "cell_type": "code",
   "execution_count": null,
   "metadata": {},
   "outputs": [],
   "source": [
    "Y[0][0].shape"
   ]
  },
  {
   "cell_type": "code",
   "execution_count": null,
   "metadata": {},
   "outputs": [],
   "source": []
  },
  {
   "cell_type": "code",
   "execution_count": null,
   "metadata": {},
   "outputs": [],
   "source": [
    "np.min(X_pitch_np[0],axis = 1)"
   ]
  },
  {
   "cell_type": "code",
   "execution_count": null,
   "metadata": {},
   "outputs": [],
   "source": [
    "len(X_pitch)"
   ]
  },
  {
   "cell_type": "code",
   "execution_count": null,
   "metadata": {},
   "outputs": [],
   "source": []
  },
  {
   "cell_type": "code",
   "execution_count": null,
   "metadata": {},
   "outputs": [],
   "source": [
    "model.summ"
   ]
  },
  {
   "cell_type": "code",
   "execution_count": null,
   "metadata": {},
   "outputs": [],
   "source": [
    "X_pitch, X_rythm, pitch_state_0, rythm_state_0, manager_state_0"
   ]
  },
  {
   "cell_type": "code",
   "execution_count": null,
   "metadata": {},
   "outputs": [],
   "source": [
    "model.summary()"
   ]
  },
  {
   "cell_type": "code",
   "execution_count": null,
   "metadata": {},
   "outputs": [],
   "source": []
  },
  {
   "cell_type": "code",
   "execution_count": 41,
   "metadata": {},
   "outputs": [],
   "source": [
    "def make_prediction(setting, to_generate):\n",
    "\n",
    "    X_pitch = Input(shape = (setting.Tx, setting.pitch_output_shape), name = 'X_pitch')\n",
    "    X_rythm = Input(shape = (setting.Tx, setting.rythm_output_shape), name = 'X_rythm')\n",
    "    \n",
    "    reshapor_pitch = Reshape((setting.pitch_output_shape, 1))#?\n",
    "    reshapor_rythm = Reshape((setting.rythm_output_shape, 1))\n",
    "    \n",
    "    manager_state_0 = Input(shape=(setting.manager_internal_shape, ), name = 'manager_state_0')\n",
    "    pitch_state_0 = Input(shape = (setting.pitch_internal_shape, ), name = 'pitch_state_0')\n",
    "    rythm_state_0 = Input(shape = (setting.rythm_internal_shape, ), name = 'rythm_state_0')\n",
    "\n",
    "    manager_state = manager_state_0\n",
    "    pitch_state = pitch_state_0\n",
    "    rythm_state = rythm_state_0\n",
    "    \n",
    "    reshapor_pitch = Reshape((setting.pitch_output_shape, 1))\n",
    "    reshapor_rhythm = Reshape((setting.rythm_output_shape, 1))\n",
    "    \n",
    "    reshapor_concat = Reshape((setting.pitch_to_manager_shape + setting.rythm_to_manager_shape, 1))\n",
    "    \n",
    "\n",
    "    out_pitches = []\n",
    "    out_rythms = []\n",
    "\n",
    "\n",
    "    for t in range(non_trainable_first):\n",
    "        #print(t)\n",
    "\n",
    "        get_pitch_t =  Lambda(lambda x: reshapor_pitch(x[:, t, :])) \n",
    "        get_rythm_t = Lambda(lambda x: reshapor_rythm(x[:, t, :]))  \n",
    "\n",
    "        pitch_state = setting.pitch_gru(get_pitch_t(X_pitch), initial_state = [pitch_state])\n",
    "        rythm_state = setting.rythm_gru(get_rythm_t(X_rythm), initial_state = [rythm_state])\n",
    "        \n",
    "        \n",
    "        concat = reshapor_concat(Concatenate(axis = 1)([setting.pitch_to_manager(pitch_state),\\\n",
    "                                                        setting.rythm_to_manager(rythm_state)]))\n",
    "        \n",
    "        manager_state = setting.manager_gru(concat, initial_state = [manager_state])\n",
    "    \n",
    "        output_pitch = setting.inter_to_pitch(setting.manager_to_inter_pitch(manager_state))\n",
    "        output_rythm = setting.inter_to_rythm(setting.manager_to_inter_rythm(manager_state))\n",
    "        \n",
    "\n",
    "    \n",
    "\n",
    "    for t in range(to_generate):\n",
    "        #print(t)\n",
    "        \n",
    "        #Sample pitch\n",
    "        pitch = Lambda(lambda x: tf.one_hot(tf.multinomial(x, 1), pitch_output_shape))#np.random.choice(pitch_output_shape, output_pitch)\n",
    "        #pitch = Lambda(lambda x: tf.one_hot(tf.argmax(x, axis = 1), pitch_output_shape))\n",
    "\n",
    "        \n",
    "        #Sample rythm        \n",
    "        rythm = Lambda(lambda x: tf.one_hot(tf.multinomial(x, 1), rythm_output_shape))\n",
    "        #rythm = Lambda(lambda x: tf.one_hot(tf.argmax(x, axis = 1), rythm_output_shape))\n",
    "        \n",
    "        pitch_sampled = reshapor_pitch(pitch(output_pitch))\n",
    "        rythm_sampled = reshapor_rythm(rythm(output_rythm))\n",
    "        \n",
    "        #print(pitch_sampled)\n",
    "        out_pitches.append(pitch_sampled)\n",
    "        out_rythms.append(rythm_sampled)\n",
    "        #####################################\n",
    "        \n",
    "        pitch_state = setting.pitch_gru(pitch_sampled, initial_state = [pitch_state])\n",
    "        rythm_state = setting.rythm_gru(rythm_sampled, initial_state = [rythm_state])\n",
    "        \n",
    "        concat = reshapor_concat(Concatenate(axis = 1)([setting.pitch_to_manager(pitch_state),\\\n",
    "                                                setting.rythm_to_manager(rythm_state)]))\n",
    "        \n",
    "        manager_state = setting.manager_gru(concat, initial_state = [manager_state])\n",
    "        \n",
    "        \n",
    "        output_pitch = setting.inter_to_pitch(setting.manager_to_inter_pitch(manager_state))\n",
    "        output_rythm = setting.inter_to_rythm(setting.manager_to_inter_rythm(manager_state))\n",
    "        \n",
    "\n",
    "        \n",
    "\n",
    "    out = out_pitches + out_rythms\n",
    "\n",
    "    model_general = Model(inputs = [X_pitch, X_rythm, pitch_state_0, rythm_state_0, manager_state_0], outputs = out)\n",
    "\n",
    "    return model_general"
   ]
  },
  {
   "cell_type": "code",
   "execution_count": 42,
   "metadata": {},
   "outputs": [],
   "source": [
    "number_of_notes_to_generate = 25\n",
    "model_predict = make_prediction(setting, number_of_notes_to_generate)"
   ]
  },
  {
   "cell_type": "code",
   "execution_count": 51,
   "metadata": {},
   "outputs": [],
   "source": [
    "#m = X_pitch_np.shape[0]\n",
    "\n",
    "manager_internal_shape = setting.manager_internal_shape\n",
    "pitch_internal_shape = setting.pitch_internal_shape\n",
    "rythm_internal_shape = setting.rythm_internal_shape\n",
    "\n",
    "pitch_state_0 = np.zeros((1, pitch_internal_shape))\n",
    "rythm_state_0 = np.zeros((1, rythm_internal_shape))\n",
    "manager_state_0 = np.zeros((1, manager_internal_shape))\n",
    "\n",
    "X_pitch_np = np.array(X_pitch)[1000,:setting.Tx].reshape((1,setting.Tx,setting.pitch_output_shape))\n",
    "X_rythm_np = np.array(X_rythm)[1000,:setting.Tx].reshape((1,setting.Tx,setting.rythm_output_shape))\n",
    "#X_pitch_np = [np.argmax(x) for x in X_pitch_np]\n",
    "#X_rythm_np = [np.argmax(x) for x in X_rythm_np]\n",
    "\n",
    "result = model_predict.predict([X_pitch_np, X_rythm_np,  pitch_state_0, rythm_state_0, manager_state_0])"
   ]
  },
  {
   "cell_type": "code",
   "execution_count": 52,
   "metadata": {},
   "outputs": [
    {
     "name": "stdout",
     "output_type": "stream",
     "text": [
      "[0, 1, 2, 3, 4, 0, 0, 4, 3, 3, 4, 2, 0, 3, 3, 0, 0, 2, 0, 3, 4, 1, 3, 4, 1]\n",
      "[9, 3, 16, 2, 8, 0, 23, 12, 24, 5, 8, 8, 0, 12, 4, 16, 21, 3, 12, 21, 12, 3, 7, 23, 10]\n"
     ]
    },
    {
     "data": {
      "image/png": "[encoded data removed]",
      "text/plain": [
       "<Figure size 432x288 with 1 Axes>"
      ]
     },
     "metadata": {},
     "output_type": "display_data"
    },
    {
     "name": "stdout",
     "output_type": "stream",
     "text": [
      "0\n"
     ]
    }
   ],
   "source": [
    "\n",
    "seq_p = result[:number_of_notes_to_generate]\n",
    "seq_r = result[number_of_notes_to_generate:]\n",
    "\n",
    "\n",
    "\n",
    "X_pitch_np = [np.argmax(x) for x in seq_p]\n",
    "X_rythm_np = [np.argmax(x) for x in seq_r]\n",
    "\n",
    "print(X_rythm_np)\n",
    "print(X_pitch_np)\n",
    "create_track_new(X_rythm_np,X_pitch_np)"
   ]
  },
  {
   "cell_type": "code",
   "execution_count": null,
   "metadata": {},
   "outputs": [],
   "source": [
    "X_pitch_np = np.array(X_pitch)[2035,:8].reshape((1,8,25))\n",
    "X_rythm_np = np.array(X_rythm)[2035,:8].reshape((1,8,5))\n",
    "np.argmax(X_pitch_np, axis = 2)"
   ]
  },
  {
   "cell_type": "code",
   "execution_count": null,
   "metadata": {},
   "outputs": [],
   "source": [
    "seq_p = result[:number_of_notes_to_generate]\n",
    "seq_r = result[number_of_notes_to_generate:]\n",
    "\n",
    "\n",
    "\n",
    "X_pitch_np = [np.argmax(x) for x in seq_p]\n",
    "X_rythm_np = [np.argmax(x) for x in seq_r]\n",
    "\n",
    "print(X_rythm_np)\n",
    "print(X_pitch_np)\n",
    "create_track_new(X_rythm_np,X_pitch_np)"
   ]
  },
  {
   "cell_type": "code",
   "execution_count": 29,
   "metadata": {},
   "outputs": [],
   "source": [
    "from midiutil import MIDIFile\n",
    "import matplotlib.pyplot as plt\n",
    "\n",
    "\n",
    "def create_track_new(seq, seq_pitch):\n",
    "    \n",
    "    #num_to_len = {1:1, 2:2, 3:4, 4:8, 5:16, 6:32}\n",
    "    grain = 32\n",
    "    one_tact = 128\n",
    "    tacts_per_min = 75\n",
    "    tempo    = one_tact * tacts_per_min  # In BPM\n",
    "    volume   = 100  # 0-127, as per the MIDI standard\n",
    "    track    = 0\n",
    "    channel  = 0\n",
    "    time     = 0# to learn\n",
    "    \n",
    "    MyMIDI = MIDIFile(1)\n",
    "    MyMIDI.addTempo(track, time, tempo)\n",
    "    \n",
    "    MyMIDI.addNote(track, channel, 120, 0, one_tact / grain, volume)\n",
    "    tick_count = one_tact / grain\n",
    "    \n",
    "    current_pitch = 80\n",
    "    \n",
    "    tick_counts = [tick_count]\n",
    "    pitches = [current_pitch]\n",
    "    \n",
    "    decode_lengths  = {0:1, 1:2, 2:4, 3:8, 4:16}\n",
    "    for l,p in zip(seq, seq_pitch):\n",
    "        current_pitch += (p - 12)\n",
    "        if current_pitch < 50:\n",
    "            current_pitch += 50\n",
    "        if current_pitch > 100:\n",
    "            current_pitch -= 50\n",
    "        pitches += [current_pitch]\n",
    "        #length = num_to_len[l]\n",
    "        MyMIDI.addNote(track, channel, current_pitch, tick_count, one_tact / grain * (decode_lengths[l]), volume)\n",
    "        tick_count = tick_count + one_tact / grain * (decode_lengths[l])\n",
    "        tick_counts += [tick_count]\n",
    "    \n",
    "    plt.scatter(tick_counts, pitches, s = 1)\n",
    "    plt.show()\n",
    "    print(track)\n",
    "\n",
    "    with open(\"zzz.mid\", \"wb\") as output_file:\n",
    "        MyMIDI.writeFile(output_file) \n",
    "                \n",
    "                            \n",
    "                    \n",
    "\n"
   ]
  },
  {
   "cell_type": "code",
   "execution_count": null,
   "metadata": {},
   "outputs": [],
   "source": [
    "X_pitch_np = np.array(X_pitch)[12,:8]\n",
    "X_rythm_np = np.array(X_rythm)[12,:8]\n",
    "X_pitch_np = [np.argmax(x) for x in X_pitch_np]\n",
    "X_rythm_np = [np.argmax(x) for x in X_rythm_np]\n",
    "\n",
    "create_track_new(X_rythm_np, X_pitch_np)\n",
    "#print(np.max(np.argmax(X_rythm_np, axis = 1),axis = 1))"
   ]
  },
  {
   "cell_type": "code",
   "execution_count": null,
   "metadata": {},
   "outputs": [],
   "source": [
    "np.argmax(X_rythm_np[0])"
   ]
  },
  {
   "cell_type": "code",
   "execution_count": null,
   "metadata": {},
   "outputs": [],
   "source": [
    "np.argmax(X_pitch_np[1])"
   ]
  },
  {
   "cell_type": "code",
   "execution_count": null,
   "metadata": {},
   "outputs": [],
   "source": [
    "import mingus.core.intervals as intervals"
   ]
  },
  {
   "cell_type": "code",
   "execution_count": null,
   "metadata": {},
   "outputs": [],
   "source": [
    "manager_gru(manager_input)"
   ]
  },
  {
   "cell_type": "code",
   "execution_count": null,
   "metadata": {},
   "outputs": [],
   "source": [
    "out = manager_gru(manager_input)\n",
    "opt = Adam(lr=0.01, beta_1=0.9, beta_2=0.999, decay=0.01)\n",
    "manager = Model(inputs = [manager_input], outputs = out[:2])\n",
    "manager.compile(optimizer=opt, loss='categorical_crossentropy', metrics=['accuracy'])"
   ]
  },
  {
   "cell_type": "code",
   "execution_count": null,
   "metadata": {},
   "outputs": [],
   "source": [
    "out"
   ]
  },
  {
   "cell_type": "code",
   "execution_count": null,
   "metadata": {},
   "outputs": [],
   "source": [
    "manager.predict(np.ones((1,1,100)))"
   ]
  },
  {
   "cell_type": "code",
   "execution_count": null,
   "metadata": {},
   "outputs": [],
   "source": [
    "seq = manager_gru(manager_input).compile()"
   ]
  },
  {
   "cell_type": "code",
   "execution_count": null,
   "metadata": {},
   "outputs": [],
   "source": [
    "pitch_gru(pitch_input)"
   ]
  },
  {
   "cell_type": "code",
   "execution_count": null,
   "metadata": {},
   "outputs": [],
   "source": [
    "import numpy as np"
   ]
  },
  {
   "cell_type": "code",
   "execution_count": null,
   "metadata": {},
   "outputs": [],
   "source": [
    "sess = tf.Session()"
   ]
  },
  {
   "cell_type": "code",
   "execution_count": null,
   "metadata": {},
   "outputs": [],
   "source": [
    "pitch_output_shape = 10\n",
    "\n",
    "choices_pitch = tf.constant( np.array( [np.arange(pitch_output_shape)]), dtype=tf.int64)\n",
    "\n",
    "output_pitch = list(np.zeros(pitch_output_shape, dtype = 'int64'))\n",
    "output_pitch[5] = 0.5\n",
    "output_pitch[4] = 0.5\n",
    "\n",
    "output_pitch = tf.constant(output_pitch)\n",
    "sampled_ids_pitch = tf.multinomial([output_pitch], 12)"
   ]
  },
  {
   "cell_type": "code",
   "execution_count": null,
   "metadata": {},
   "outputs": [],
   "source": [
    "list(np.zeros(pitch_output_shape, dtype = 'int64'))"
   ]
  },
  {
   "cell_type": "code",
   "execution_count": null,
   "metadata": {},
   "outputs": [],
   "source": [
    "with tf.Session() as sess:\n",
    "    sample = sess.run(sampled_ids_pitch)\n",
    "    print(sample)\n",
    "    "
   ]
  },
  {
   "cell_type": "code",
   "execution_count": null,
   "metadata": {},
   "outputs": [],
   "source": [
    "# L has shape [2, 5, 2]\n",
    "L = tf.constant([[0.9, 0.1]])\n",
    "\n",
    "dims = L.get_shape().as_list()\n",
    "N = dims[-1]  # here N = 2\n",
    "\n",
    "logits = tf.reshape(L, [-1, N])\n",
    "\n",
    "\n",
    "samples = tf.multinomial(logits, 1)\n",
    "# We reshape to match the initial shape minus the last dimension\n",
    "res = tf.reshape(samples, dims[:-1])"
   ]
  },
  {
   "cell_type": "code",
   "execution_count": null,
   "metadata": {},
   "outputs": [],
   "source": [
    "with tf.Session() as sess:\n",
    "    sample = sess.run(res)\n",
    "    print(sample)"
   ]
  },
  {
   "cell_type": "code",
   "execution_count": 21,
   "metadata": {},
   "outputs": [
    {
     "name": "stdout",
     "output_type": "stream",
     "text": [
      "=== Dijkstra ===\n",
      "[('A', 'B', 7), ('A', 'D', 5), ('B', 'C', 8), ('B', 'D', 9), ('B', 'E', 7), ('C', 'E', 5), ('D', 'E', 15), ('D', 'F', 6), ('E', 'F', 8), ('E', 'G', 9), ('F', 'G', 11)]\n",
      "A -> E:\n",
      "(14, ('E', ('B', ('A', ()))))\n",
      "F -> E:\n",
      "inf\n"
     ]
    }
   ],
   "source": [
    "from collections import defaultdict\n",
    "from heapq import *\n",
    "\n",
    "def dijkstra(edges, f, t):\n",
    "    g = defaultdict(list)\n",
    "    for l,r,c in edges:\n",
    "        g[l].append((c,r))\n",
    "\n",
    "    q, seen, mins = [(0,f,())], set(), {f: 0}\n",
    "    while q:\n",
    "        (cost,v1,path) = heappop(q)\n",
    "        if v1 not in seen:\n",
    "            seen.add(v1)\n",
    "            path = (v1, path)\n",
    "            if v1 == t: return (cost, path)\n",
    "\n",
    "            for c, v2 in g.get(v1, ()):\n",
    "                if v2 in seen: continue\n",
    "                prev = mins.get(v2, None)\n",
    "                next = cost + c\n",
    "                if prev is None or next < prev:\n",
    "                    mins[v2] = next\n",
    "                    heappush(q, (next, v2, path))\n",
    "\n",
    "    return float(\"inf\")\n",
    "\n",
    "\n",
    "edges = [\n",
    "    (\"A\", \"B\", 7),\n",
    "    (\"A\", \"D\", 5),\n",
    "    (\"B\", \"C\", 8),\n",
    "    (\"B\", \"D\", 9),\n",
    "    (\"B\", \"E\", 7),\n",
    "    (\"C\", \"E\", 5),\n",
    "    (\"D\", \"E\", 15),\n",
    "    (\"D\", \"F\", 6),\n",
    "    (\"E\", \"F\", 8),\n",
    "    (\"E\", \"G\", 9),\n",
    "    (\"F\", \"G\", 11)\n",
    "]\n",
    "\n",
    "print (\"=== Dijkstra ===\")\n",
    "print (edges)\n",
    "print (\"A -> E:\")\n",
    "print (dijkstra(edges, \"A\", \"E\"))\n",
    "print (\"F -> E:\")\n",
    "print (dijkstra(edges, \"F\", \"E\"))"
   ]
  },
  {
   "cell_type": "code",
   "execution_count": 28,
   "metadata": {},
   "outputs": [
    {
     "data": {
      "text/plain": [
       "{1: 1, '12': 3}"
      ]
     },
     "execution_count": 28,
     "metadata": {},
     "output_type": "execute_result"
    }
   ],
   "source": [
    "{1:1, \"12\":3}\n"
   ]
  },
  {
   "cell_type": "code",
   "execution_count": 16,
   "metadata": {},
   "outputs": [],
   "source": [
    "g = Graph()\n",
    "g.add_node(1)\n",
    "g.add_node(2)\n",
    "g.add_node(3)\n",
    "g.add_node(4)\n",
    "g.add_edge(1, 2, 20)\n",
    "g.add_edge(2, 3, 20)"
   ]
  },
  {
   "cell_type": "code",
   "execution_count": 18,
   "metadata": {},
   "outputs": [
    {
     "ename": "KeyError",
     "evalue": "(2, 1)",
     "output_type": "error",
     "traceback": [
      "\u001b[1;31m---------------------------------------------------------------------------\u001b[0m",
      "\u001b[1;31mKeyError\u001b[0m                                  Traceback (most recent call last)",
      "\u001b[1;32m<ipython-input-18-4a0bec660600>\u001b[0m in \u001b[0;36m<module>\u001b[1;34m()\u001b[0m\n\u001b[1;32m----> 1\u001b[1;33m \u001b[0mdijsktra\u001b[0m\u001b[1;33m(\u001b[0m\u001b[0mg\u001b[0m\u001b[1;33m,\u001b[0m\u001b[1;36m1\u001b[0m\u001b[1;33m)\u001b[0m\u001b[1;33m\u001b[0m\u001b[0m\n\u001b[0m",
      "\u001b[1;32m<ipython-input-9-39a0c2dcdeee>\u001b[0m in \u001b[0;36mdijsktra\u001b[1;34m(graph, initial)\u001b[0m\n\u001b[0;32m     38\u001b[0m \u001b[1;33m\u001b[0m\u001b[0m\n\u001b[0;32m     39\u001b[0m     \u001b[1;32mfor\u001b[0m \u001b[0medge\u001b[0m \u001b[1;32min\u001b[0m \u001b[0mgraph\u001b[0m\u001b[1;33m.\u001b[0m\u001b[0medges\u001b[0m\u001b[1;33m[\u001b[0m\u001b[0mmin_node\u001b[0m\u001b[1;33m]\u001b[0m\u001b[1;33m:\u001b[0m\u001b[1;33m\u001b[0m\u001b[0m\n\u001b[1;32m---> 40\u001b[1;33m       \u001b[0mweight\u001b[0m \u001b[1;33m=\u001b[0m \u001b[0mcurrent_weight\u001b[0m \u001b[1;33m+\u001b[0m \u001b[0mgraph\u001b[0m\u001b[1;33m.\u001b[0m\u001b[0mdistances\u001b[0m\u001b[1;33m[\u001b[0m\u001b[1;33m(\u001b[0m\u001b[0mmin_node\u001b[0m\u001b[1;33m,\u001b[0m \u001b[0medge\u001b[0m\u001b[1;33m)\u001b[0m\u001b[1;33m]\u001b[0m\u001b[1;33m\u001b[0m\u001b[0m\n\u001b[0m\u001b[0;32m     41\u001b[0m       \u001b[1;32mif\u001b[0m \u001b[0medge\u001b[0m \u001b[1;32mnot\u001b[0m \u001b[1;32min\u001b[0m \u001b[0mvisited\u001b[0m \u001b[1;32mor\u001b[0m \u001b[0mweight\u001b[0m \u001b[1;33m<\u001b[0m \u001b[0mvisited\u001b[0m\u001b[1;33m[\u001b[0m\u001b[0medge\u001b[0m\u001b[1;33m]\u001b[0m\u001b[1;33m:\u001b[0m\u001b[1;33m\u001b[0m\u001b[0m\n\u001b[0;32m     42\u001b[0m         \u001b[0mvisited\u001b[0m\u001b[1;33m[\u001b[0m\u001b[0medge\u001b[0m\u001b[1;33m]\u001b[0m \u001b[1;33m=\u001b[0m \u001b[0mweight\u001b[0m\u001b[1;33m\u001b[0m\u001b[0m\n",
      "\u001b[1;31mKeyError\u001b[0m: (2, 1)"
     ]
    }
   ],
   "source": [
    "dijsktra(g,1)"
   ]
  },
  {
   "cell_type": "code",
   "execution_count": 27,
   "metadata": {},
   "outputs": [
    {
     "data": {
      "text/plain": [
       "1"
      ]
     },
     "execution_count": 27,
     "metadata": {},
     "output_type": "execute_result"
    }
   ],
   "source": [
    "int(\"+01\")"
   ]
  },
  {
   "cell_type": "code",
   "execution_count": 29,
   "metadata": {},
   "outputs": [],
   "source": [
    "from collections import deque"
   ]
  },
  {
   "cell_type": "code",
   "execution_count": 30,
   "metadata": {},
   "outputs": [],
   "source": [
    "d = deque()"
   ]
  },
  {
   "cell_type": "code",
   "execution_count": 34,
   "metadata": {},
   "outputs": [],
   "source": [
    "d.appendleft(1)"
   ]
  },
  {
   "cell_type": "code",
   "execution_count": 32,
   "metadata": {},
   "outputs": [
    {
     "data": {
      "text/plain": [
       "deque([[1, 2, 3, 4]])"
      ]
     },
     "execution_count": 32,
     "metadata": {},
     "output_type": "execute_result"
    }
   ],
   "source": [
    "d\n"
   ]
  },
  {
   "cell_type": "code",
   "execution_count": null,
   "metadata": {},
   "outputs": [],
   "source": []
  }
 ],
 "metadata": {
  "kernelspec": {
   "display_name": "Python [conda env:condathree]",
   "language": "python",
   "name": "conda-env-condathree-py"
  },
  "language_info": {
   "codemirror_mode": {
    "name": "ipython",
    "version": 3
   },
   "file_extension": ".py",
   "mimetype": "text/x-python",
   "name": "python",
   "nbconvert_exporter": "python",
   "pygments_lexer": "ipython3",
   "version": "3.5.5"
  }
 },
 "nbformat": 4,
 "nbformat_minor": 2
}
