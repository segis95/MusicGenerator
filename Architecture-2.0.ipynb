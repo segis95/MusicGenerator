{
 "cells": [
  {
   "cell_type": "code",
   "execution_count": 1,
   "metadata": {},
   "outputs": [
    {
     "name": "stderr",
     "output_type": "stream",
     "text": [
      "C:\\Users\\Charles\\Anaconda3\\envs\\condathree\\lib\\site-packages\\h5py\\__init__.py:36: FutureWarning: Conversion of the second argument of issubdtype from `float` to `np.floating` is deprecated. In future, it will be treated as `np.float64 == np.dtype(float).type`.\n",
      "  from ._conv import register_converters as _register_converters\n"
     ]
    }
   ],
   "source": [
    "import tensorflow as tf"
   ]
  },
  {
   "cell_type": "code",
   "execution_count": 2,
   "metadata": {},
   "outputs": [
    {
     "name": "stderr",
     "output_type": "stream",
     "text": [
      "Using TensorFlow backend.\n"
     ]
    }
   ],
   "source": [
    "from keras.models import load_model, Model\n",
    "from keras.layers import Dense, Activation, Dropout, Input, LSTM, Reshape, Lambda, RepeatVector, GRU, LSTM\n",
    "from keras.initializers import glorot_uniform\n",
    "from keras.utils import to_categorical\n",
    "from keras.optimizers import Adam\n",
    "from keras import backend as K\n",
    "from keras.layers.merge import Concatenate"
   ]
  },
  {
   "cell_type": "code",
   "execution_count": 3,
   "metadata": {},
   "outputs": [],
   "source": [
    "import numpy as np"
   ]
  },
  {
   "cell_type": "code",
   "execution_count": 4,
   "metadata": {
    "collapsed": true
   },
   "outputs": [],
   "source": [
    "manager_internal_shape = 100\n",
    "pitch_internal_shape = 100\n",
    "rhythm_internal_shape = 100\n",
    "\n",
    "pitch_output_shape = 33\n",
    "rhythm_output_shape = 16\n",
    "\n",
    "manager_gru = GRU(manager_internal_shape, return_state = False)\n",
    "pitch_gru = GRU(pitch_internal_shape, return_state = False)\n",
    "rhythm_gru = GRU(rhythm_internal_shape, return_state = False)\n",
    "\n",
    "densor_pitch = Dense(pitch_output_shape, activation='softmax')\n",
    "densor_rhythm = Dense(rhythm_output_shape, activation='softmax')"
   ]
  },
  {
   "cell_type": "code",
   "execution_count": 5,
   "metadata": {},
   "outputs": [],
   "source": [
    "def build_model(manager_gru, pitch_gru, rhythm_gru, densor_pitch, densor_rhythm):\n",
    "\n",
    "    non_trainable_first = 8\n",
    "\n",
    "    pitch_output_shape = 33\n",
    "    rhythm_output_shape = 16\n",
    "\n",
    "    manager_internal_shape = 100\n",
    "    pitch_internal_shape = 100\n",
    "    rhythm_internal_shape = 100\n",
    "\n",
    "    n_values = 70\n",
    "    Tx = 50\n",
    "    \n",
    "    X_pitch = Input(shape = (Tx, pitch_output_shape), name = 'X_pitch')\n",
    "    X_rhythm = Input(shape = (Tx, rhythm_output_shape), name = 'X_rhythm')\n",
    "\n",
    "    reshapor_pitch = Reshape((pitch_output_shape, 1))\n",
    "    reshapor_rhythm = Reshape((rhythm_output_shape, 1))\n",
    "    reshapor_manager = Reshape((manager_internal_shape, 1))\n",
    "    reshapor_concat = Reshape((pitch_internal_shape + rhythm_internal_shape, 1))\n",
    "\n",
    "\n",
    "    #densor_pitch = Dense(pitch_output_shape, activation='softmax')\n",
    "    #densor_rhythm = Dense(rhythm_output_shape, activation='softmax')\n",
    "\n",
    "    manager_state_0 = Input(shape=(manager_internal_shape, ), name = 'manager_state_0')\n",
    "    pitch_state_0 = Input(shape = (pitch_internal_shape, ), name = 'pitch_state_0')\n",
    "    rhythm_state_0 = Input(shape = (rhythm_internal_shape, ), name = 'rhythm_state_0')\n",
    "\n",
    "    manager_state = manager_state_0\n",
    "    pitch_state = pitch_state_0\n",
    "    rhythm_state = rhythm_state_0\n",
    "\n",
    "    #manager_gru = GRU(manager_internal_shape, return_state = False)\n",
    "    #pitch_gru = GRU(pitch_internal_shape, return_state = False)\n",
    "    #rhythm_gru = GRU(rhythm_internal_shape, return_state = False)\n",
    "\n",
    "    out_pitches = []\n",
    "    out_rhythms = []\n",
    "\n",
    "    for t in range(Tx):\n",
    "        print(t)\n",
    "\n",
    "        get_pitch_t =  Lambda(lambda x: reshapor_pitch(x[:,  t, :])) \n",
    "        get_rhythm_t = Lambda(lambda x: reshapor_rhythm(x[:, t, :]))\n",
    "\n",
    "        pitch = Concatenate(axis = 1)([get_pitch_t(X_pitch), reshapor_manager(manager_state)])\n",
    "        rhythm = Concatenate(axis = 1)([get_rhythm_t(X_rhythm), reshapor_manager(manager_state)])\n",
    "        \n",
    "        #print(get_pitch_t(X_pitch).shape)\n",
    "        \n",
    "        pitch_state = pitch_gru(pitch, initial_state = [pitch_state])\n",
    "        rhythm_state = rhythm_gru(rhythm, initial_state = [rhythm_state])\n",
    "\n",
    "        #print(pitch_state)\n",
    "\n",
    "        concat = reshapor_concat(Concatenate(axis = 1)([pitch_state, rhythm_state]))\n",
    "        manager_state = manager_gru(concat, initial_state = [manager_state])\n",
    "\n",
    "        if (t >= non_trainable_first):\n",
    "\n",
    "            out_pitches.append(densor_pitch(pitch_state))\n",
    "            out_rhythms.append(densor_rhythm(rhythm_state))\n",
    "\n",
    "        out = out_pitches + out_rhythms\n",
    "\n",
    "    model_general = Model(inputs = [X_pitch, X_rhythm, pitch_state_0, rhythm_state_0, manager_state_0], outputs = out)\n",
    "\n",
    "    return model_general\n"
   ]
  },
  {
   "cell_type": "code",
   "execution_count": 6,
   "metadata": {
    "scrolled": true
   },
   "outputs": [
    {
     "name": "stdout",
     "output_type": "stream",
     "text": [
      "0\n",
      "1\n",
      "2\n",
      "3\n",
      "4\n",
      "5\n",
      "6\n",
      "7\n",
      "8\n",
      "9\n",
      "10\n",
      "11\n",
      "12\n",
      "13\n",
      "14\n",
      "15\n",
      "16\n",
      "17\n",
      "18\n",
      "19\n",
      "20\n",
      "21\n",
      "22\n",
      "23\n",
      "24\n",
      "25\n",
      "26\n",
      "27\n",
      "28\n",
      "29\n",
      "30\n",
      "31\n",
      "32\n",
      "33\n",
      "34\n",
      "35\n",
      "36\n",
      "37\n",
      "38\n",
      "39\n",
      "40\n",
      "41\n",
      "42\n",
      "43\n",
      "44\n",
      "45\n",
      "46\n",
      "47\n",
      "48\n",
      "49\n"
     ]
    }
   ],
   "source": [
    "model = build_model(manager_gru, pitch_gru, rhythm_gru, densor_pitch, densor_rhythm)"
   ]
  },
  {
   "cell_type": "code",
   "execution_count": 7,
   "metadata": {},
   "outputs": [],
   "source": [
    "from keras.losses import categorical_crossentropy#(y_true, y_pred)\n",
    "from keras import backend as K\n",
    "def custom_objective(y_true, y_pred):\n",
    "    #print(y_true.shape)\n",
    "    #print(y_pred.shape)\n",
    "    length_out = y_pred.shape[1] // 2\n",
    "    return K.mean(categorical_crossentropy(y_true[:,:length_out], y_pred[:,:length_out]) + categorical_crossentropy(y_true[:,length_out:], y_pred[:,length_out:]))"
   ]
  },
  {
   "cell_type": "code",
   "execution_count": 8,
   "metadata": {},
   "outputs": [],
   "source": [
    "opt = Adam(lr=0.01, beta_1=0.9, beta_2=0.999, decay=0.01)\n",
    "\n",
    "model.compile(optimizer=opt, loss=custom_objective, metrics=['accuracy'])"
   ]
  },
  {
   "cell_type": "code",
   "execution_count": 9,
   "metadata": {},
   "outputs": [],
   "source": [
    "import pickle\n",
    "from keras.utils import np_utils"
   ]
  },
  {
   "cell_type": "code",
   "execution_count": 10,
   "metadata": {},
   "outputs": [],
   "source": [
    "rythm_X = pickle.load(open( \"jazz_rythm.txt\", \"rb\" ), encoding = 'bytes')"
   ]
  },
  {
   "cell_type": "code",
   "execution_count": 11,
   "metadata": {},
   "outputs": [],
   "source": [
    "pitch_X = pickle.load(open( \"jazz_pitch.txt\", \"rb\" ), encoding = 'bytes')"
   ]
  },
  {
   "cell_type": "code",
   "execution_count": 12,
   "metadata": {},
   "outputs": [],
   "source": [
    "non_trainable_first = 8\n",
    "Tx = 50\n",
    "\n",
    "pitch_output_shape = 33\n",
    "rythm_output_shape = 16\n",
    "\n",
    "X_pitch = []\n",
    "X_rythm = []\n",
    "\n",
    "y_pitch = []\n",
    "y_rythm = []\n",
    "\n",
    "\n",
    "\n",
    "for pitch_s, rythm_s in zip(pitch_X, rythm_X):\n",
    "    lgth = (len(pitch_s) - 1) // Tx\n",
    "    for i in range(lgth):\n",
    "        \n",
    "        \n",
    "        X_pitch.append(np_utils.to_categorical(pitch_s[i * Tx: (i + 1) * Tx],pitch_output_shape ))\n",
    "        y_pitch.append(np_utils.to_categorical(pitch_s[i * Tx + non_trainable_first + 1: (i + 1) * Tx + 1],pitch_output_shape))\n",
    "        \n",
    "        X_rythm.append(np_utils.to_categorical(rythm_s[i * Tx: (i + 1) * Tx],rythm_output_shape))\n",
    "        y_rythm.append(np_utils.to_categorical(rythm_s[i * Tx + non_trainable_first + 1: (i + 1) * Tx + 1],rythm_output_shape))\n",
    "        \n",
    "\n",
    "#Y = [[y_pitch[i], y_rythm[i]] for i in range(len(y_pitch))]        "
   ]
  },
  {
   "cell_type": "code",
   "execution_count": 28,
   "metadata": {},
   "outputs": [],
   "source": [
    "Y = [list(y_pitch[i])+list(y_rythm[i]) for i in range(len(y_pitch))]#\n",
    "Y = [np.array([y[i] for y in Y[:1500]]) for i in range(84)]"
   ]
  },
  {
   "cell_type": "code",
   "execution_count": 14,
   "metadata": {},
   "outputs": [
    {
     "data": {
      "text/plain": [
       "array([], dtype=int32)"
      ]
     },
     "execution_count": 14,
     "metadata": {},
     "output_type": "execute_result"
    }
   ],
   "source": [
    "#Y = [[y_pitch[i], y_rythm[i]] for i in range(len(y_pitch))] \n",
    "np.array([len(y) for y in y_pitch])[np.array([len(y) for y in y_pitch]) != 42]"
   ]
  },
  {
   "cell_type": "code",
   "execution_count": 101,
   "metadata": {},
   "outputs": [
    {
     "data": {
      "text/plain": [
       "(170,)"
      ]
     },
     "execution_count": 101,
     "metadata": {},
     "output_type": "execute_result"
    }
   ],
   "source": [
    "Y[0][0].shape"
   ]
  },
  {
   "cell_type": "code",
   "execution_count": 29,
   "metadata": {},
   "outputs": [],
   "source": [
    "X_pitch_np = np.array(X_pitch)[:1500]#[x for x in X_pitch]\n",
    "X_rythm_np = np.array(X_rythm)[:1500]"
   ]
  },
  {
   "cell_type": "code",
   "execution_count": 156,
   "metadata": {},
   "outputs": [
    {
     "data": {
      "text/plain": [
       "array([0., 0., 0., 0., 0., 0., 0., 0., 0., 0., 0., 0., 0., 0., 0., 0., 0.,\n",
       "       0., 0., 0., 0., 0., 0., 0., 0., 0., 0., 0., 0., 0., 0., 0., 0., 0.,\n",
       "       0., 0., 0., 0., 0., 0., 0., 0., 0., 0., 0., 0., 0., 0., 0., 0.],\n",
       "      dtype=float32)"
      ]
     },
     "execution_count": 156,
     "metadata": {},
     "output_type": "execute_result"
    }
   ],
   "source": [
    "np.min(X_pitch_np[0],axis = 1)"
   ]
  },
  {
   "cell_type": "code",
   "execution_count": 32,
   "metadata": {},
   "outputs": [
    {
     "data": {
      "text/plain": [
       "20776"
      ]
     },
     "execution_count": 32,
     "metadata": {},
     "output_type": "execute_result"
    }
   ],
   "source": [
    "len(X_pitch)"
   ]
  },
  {
   "cell_type": "code",
   "execution_count": 30,
   "metadata": {},
   "outputs": [
    {
     "name": "stdout",
     "output_type": "stream",
     "text": [
      "Epoch 1/1\n",
      "1500/1500 [==============================] - 441s 294ms/step - loss: 142.2731 - dense_1_loss: 2.4445 - dense_2_loss: 0.9451 - dense_1_acc: 0.1233 - dense_1_acc_1: 0.1307 - dense_1_acc_2: 0.1267 - dense_1_acc_3: 0.1247 - dense_1_acc_4: 0.1240 - dense_1_acc_5: 0.1367 - dense_1_acc_6: 0.1233 - dense_1_acc_7: 0.1193 - dense_1_acc_8: 0.1220 - dense_1_acc_9: 0.1240 - dense_1_acc_10: 0.1213 - dense_1_acc_11: 0.1267 - dense_1_acc_12: 0.1207 - dense_1_acc_13: 0.1320 - dense_1_acc_14: 0.1153 - dense_1_acc_15: 0.1193 - dense_1_acc_16: 0.1247 - dense_1_acc_17: 0.1267 - dense_1_acc_18: 0.1080 - dense_1_acc_19: 0.1333 - dense_1_acc_20: 0.1193 - dense_1_acc_21: 0.1207 - dense_1_acc_22: 0.1200 - dense_1_acc_23: 0.1280 - dense_1_acc_24: 0.1247 - dense_1_acc_25: 0.1247 - dense_1_acc_26: 0.1227 - dense_1_acc_27: 0.1113 - dense_1_acc_28: 0.1167 - dense_1_acc_29: 0.1380 - dense_1_acc_30: 0.1280 - dense_1_acc_31: 0.1267 - dense_1_acc_32: 0.1213 - dense_1_acc_33: 0.1273 - dense_1_acc_34: 0.1207 - dense_1_acc_35: 0.1293 - dense_1_acc_36: 0.1333 - dense_1_acc_37: 0.1193 - dense_1_acc_38: 0.1213 - dense_1_acc_39: 0.1260 - dense_1_acc_40: 0.1160 - dense_1_acc_41: 0.1153 - dense_2_acc: 0.7613 - dense_2_acc_1: 0.7847 - dense_2_acc_2: 0.7787 - dense_2_acc_3: 0.7913 - dense_2_acc_4: 0.7773 - dense_2_acc_5: 0.7747 - dense_2_acc_6: 0.7773 - dense_2_acc_7: 0.7940 - dense_2_acc_8: 0.7720 - dense_2_acc_9: 0.7800 - dense_2_acc_10: 0.7933 - dense_2_acc_11: 0.7913 - dense_2_acc_12: 0.7827 - dense_2_acc_13: 0.7820 - dense_2_acc_14: 0.7873 - dense_2_acc_15: 0.7840 - dense_2_acc_16: 0.7807 - dense_2_acc_17: 0.7913 - dense_2_acc_18: 0.7860 - dense_2_acc_19: 0.7700 - dense_2_acc_20: 0.7820 - dense_2_acc_21: 0.7847 - dense_2_acc_22: 0.7687 - dense_2_acc_23: 0.7933 - dense_2_acc_24: 0.8020 - dense_2_acc_25: 0.7793 - dense_2_acc_26: 0.7927 - dense_2_acc_27: 0.7740 - dense_2_acc_28: 0.7887 - dense_2_acc_29: 0.7827 - dense_2_acc_30: 0.7813 - dense_2_acc_31: 0.7833 - dense_2_acc_32: 0.7853 - dense_2_acc_33: 0.7693 - dense_2_acc_34: 0.8020 - dense_2_acc_35: 0.7693 - dense_2_acc_36: 0.7707 - dense_2_acc_37: 0.7987 - dense_2_acc_38: 0.7793 - dense_2_acc_39: 0.7827 - dense_2_acc_40: 0.7880 - dense_2_acc_41: 0.7873\n"
     ]
    },
    {
     "data": {
      "text/plain": [
       "<keras.callbacks.History at 0x1c76a3a0f60>"
      ]
     },
     "execution_count": 30,
     "metadata": {},
     "output_type": "execute_result"
    }
   ],
   "source": [
    "m = X_pitch_np.shape[0]\n",
    "\n",
    "manager_internal_shape = 100\n",
    "pitch_internal_shape = 100\n",
    "rhythm_internal_shape = 100\n",
    "\n",
    "pitch_state_0 = np.zeros((m, pitch_internal_shape))\n",
    "rhythm_state_0 = np.zeros((m, rhythm_internal_shape))\n",
    "manager_state_0 = np.zeros((m, manager_internal_shape))\n",
    "\n",
    "model.fit([X_pitch_np, X_rythm_np,  pitch_state_0, rhythm_state_0, manager_state_0], Y, batch_size = 100, epochs=1, verbose = 1)"
   ]
  },
  {
   "cell_type": "code",
   "execution_count": null,
   "metadata": {},
   "outputs": [],
   "source": [
    "model.summ"
   ]
  },
  {
   "cell_type": "code",
   "execution_count": null,
   "metadata": {},
   "outputs": [],
   "source": [
    "X_pitch, X_rhythm, pitch_state_0, rhythm_state_0, manager_state_0"
   ]
  },
  {
   "cell_type": "code",
   "execution_count": null,
   "metadata": {},
   "outputs": [],
   "source": [
    "model.summary()"
   ]
  },
  {
   "cell_type": "code",
   "execution_count": 21,
   "metadata": {},
   "outputs": [
    {
     "data": {
      "text/plain": [
       "array([ 0,  1,  2,  3,  4,  5,  6,  7,  8,  9, 10, 11])"
      ]
     },
     "execution_count": 21,
     "metadata": {},
     "output_type": "execute_result"
    }
   ],
   "source": []
  },
  {
   "cell_type": "code",
   "execution_count": 17,
   "metadata": {},
   "outputs": [],
   "source": [
    "def make_prediction(manager_gru, pitch_gru, rhythm_gru, densor_pitch, densor_rhythm):\n",
    "\n",
    "    non_trainable_first = 8\n",
    "\n",
    "    pitch_output_shape = 33\n",
    "    rhythm_output_shape = 16\n",
    "\n",
    "    manager_internal_shape = 100\n",
    "    pitch_internal_shape = 100\n",
    "    rhythm_internal_shape = 100\n",
    "\n",
    "    Tx = 50\n",
    "    \n",
    "    X_pitch = Input(shape = (non_trainable_first, pitch_output_shape), name = 'X_pitch')\n",
    "    X_rhythm = Input(shape = (non_trainable_first, rhythm_output_shape), name = 'X_rhythm')\n",
    "\n",
    "    reshapor_pitch = Reshape((pitch_output_shape, 1))\n",
    "    reshapor_rhythm = Reshape((rhythm_output_shape, 1))\n",
    "    reshapor_manager = Reshape((manager_internal_shape, 1))\n",
    "    \n",
    "    reshapor_concat = Reshape((pitch_internal_shape + rhythm_internal_shape, 1))\n",
    "\n",
    "\n",
    "    #densor_pitch = Dense(pitch_output_shape, activation='softmax')\n",
    "    #densor_rhythm = Dense(rhythm_output_shape, activation='softmax')\n",
    "\n",
    "    manager_state_0 = Input(shape=(manager_internal_shape, ), name = 'manager_state_0')\n",
    "    pitch_state_0 = Input(shape = (pitch_internal_shape, ), name = 'pitch_state_0')\n",
    "    rhythm_state_0 = Input(shape = (rhythm_internal_shape, ), name = 'rhythm_state_0')\n",
    "\n",
    "    manager_state = manager_state_0\n",
    "    pitch_state = pitch_state_0\n",
    "    rhythm_state = rhythm_state_0\n",
    "\n",
    "    #manager_gru = GRU(manager_internal_shape, return_state = False)\n",
    "    #pitch_gru = GRU(pitch_internal_shape, return_state = False)\n",
    "    #rhythm_gru = GRU(rhythm_internal_shape, return_state = False)\n",
    "\n",
    "\n",
    "\n",
    "    for t in range(non_trainable_first):\n",
    "        #print(t)\n",
    "\n",
    "        get_pitch_t =  Lambda(lambda x: reshapor_pitch(x[:,  t, :])) \n",
    "        get_rhythm_t = Lambda(lambda x: reshapor_rhythm(x[:, t, :]))\n",
    "\n",
    "        pitch = Concatenate(axis = 1)([get_pitch_t(X_pitch), reshapor_manager(manager_state)])\n",
    "        rhythm = Concatenate(axis = 1)([get_rhythm_t(X_rhythm), reshapor_manager(manager_state)])\n",
    "\n",
    "        pitch_state = pitch_gru(pitch, initial_state = [pitch_state])\n",
    "        rhythm_state = rhythm_gru(rhythm, initial_state = [rhythm_state])\n",
    "\n",
    "        #print(pitch_state)\n",
    "\n",
    "        concat = reshapor_concat(Concatenate(axis = 1)([pitch_state, rhythm_state]))\n",
    "        manager_state = manager_gru(concat, initial_state = [manager_state])\n",
    "        \n",
    "        output_pitch = densor_pitch(pitch_state)\n",
    "        output_rhythm = densor_rhythm(rhythm_state)\n",
    "    \n",
    "    out_pitches = []\n",
    "    out_rhythms = []\n",
    "    \n",
    "    \n",
    "\n",
    "    for t in range(100):\n",
    "        #print(t)\n",
    "        #Sample pitch\n",
    "        pitch = Lambda(lambda x: tf.one_hot(tf.multinomial(x, 1), pitch_output_shape))#np.random.choice(pitch_output_shape, output_pitch)\n",
    "        \n",
    "        #pitch = tf.one_hot(sampled_ids_pitch, pitch_output_shape)\n",
    "        \n",
    "        #Sample rhythm\n",
    "        \n",
    "        #sampled_ids_rhythm = tf.multinomial(output_rhythm, 1)\n",
    "        \n",
    "        rhythm = Lambda(lambda x: tf.one_hot(tf.multinomial(x, 1), rhythm_output_shape))\n",
    "    \n",
    "        pitch_sampled = reshapor_pitch(pitch(output_pitch))\n",
    "        rhythm_sampled = reshapor_rhythm(rhythm(output_rhythm))\n",
    "        \n",
    "        #print(pitch_sampled)\n",
    "        out_pitches.append(pitch_sampled)\n",
    "        out_rhythms.append(rhythm_sampled)\n",
    "        #####################################\n",
    "        pitch = Concatenate(axis = 1)([pitch_sampled, reshapor_manager(manager_state)])\n",
    "        rhythm = Concatenate(axis = 1)([rhythm_sampled, reshapor_manager(manager_state)])\n",
    "\n",
    "        pitch_state = pitch_gru(pitch, initial_state = [pitch_state])\n",
    "        rhythm_state = rhythm_gru(rhythm, initial_state = [rhythm_state])\n",
    "        \n",
    "        concat = reshapor_concat(Concatenate(axis = 1)([pitch_state, rhythm_state]))\n",
    "        manager_state = manager_gru(concat, initial_state = [manager_state])\n",
    "        \n",
    "        output_pitch = densor_pitch(pitch_state)\n",
    "        output_rhythm = densor_rhythm(rhythm_state)\n",
    "        \n",
    "\n",
    "        \n",
    "\n",
    "    out = out_pitches + out_rhythms\n",
    "\n",
    "    model_general = Model(inputs = [X_pitch, X_rhythm, pitch_state_0, rhythm_state_0, manager_state_0], outputs = out)\n",
    "\n",
    "    return model_general"
   ]
  },
  {
   "cell_type": "code",
   "execution_count": 33,
   "metadata": {},
   "outputs": [],
   "source": [
    "number_of_notes_to_generate = 100\n",
    "model_predict = make_prediction(manager_gru, pitch_gru, rhythm_gru, densor_pitch, densor_rhythm)"
   ]
  },
  {
   "cell_type": "code",
   "execution_count": 34,
   "metadata": {},
   "outputs": [],
   "source": [
    "#m = X_pitch_np.shape[0]\n",
    "\n",
    "manager_internal_shape = 100\n",
    "pitch_internal_shape = 100\n",
    "rhythm_internal_shape = 100\n",
    "\n",
    "pitch_state_0 = np.zeros((1, pitch_internal_shape))\n",
    "rhythm_state_0 = np.zeros((1, rhythm_internal_shape))\n",
    "manager_state_0 = np.zeros((1, manager_internal_shape))\n",
    "\n",
    "X_pitch_np = np.array(X_pitch)[18,:8].reshape((1,8,33))\n",
    "X_rythm_np = np.array(X_rythm)[18,:8].reshape((1,8,16))\n",
    "#X_pitch_np = [np.argmax(x) for x in X_pitch_np]\n",
    "#X_rythm_np = [np.argmax(x) for x in X_rythm_np]\n",
    "\n",
    "result = model_predict.predict([X_pitch_np, X_rythm_np,  pitch_state_0, rhythm_state_0, manager_state_0])"
   ]
  },
  {
   "cell_type": "code",
   "execution_count": 37,
   "metadata": {},
   "outputs": [
    {
     "name": "stdout",
     "output_type": "stream",
     "text": [
      "[14, 2, 6, 5, 12, 1, 15, 14, 7, 0, 9, 3, 1, 8, 14, 9, 7, 15, 10, 14, 11, 8, 0, 12, 6, 12, 9, 13, 4, 0, 0, 3, 3, 11, 10, 5, 12, 9, 8, 7, 1, 6, 5, 15, 8, 6, 11, 13, 13, 4, 4, 10, 0, 4, 3, 8, 15, 10, 0, 6, 7, 6, 12, 10, 6, 0, 9, 7, 2, 0, 14, 11, 11, 3, 2, 14, 2, 8, 4, 2, 14, 14, 11, 4, 7, 10, 1, 14, 13, 2, 0, 10, 3, 4, 6, 2, 11, 1, 3, 13]\n",
      "[22, 11, 26, 14, 31, 28, 4, 12, 7, 0, 28, 27, 15, 2, 20, 10, 29, 7, 3, 4, 31, 21, 11, 0, 3, 21, 27, 29, 8, 20, 4, 2, 10, 17, 25, 32, 23, 24, 9, 18, 30, 26, 26, 10, 11, 5, 26, 3, 0, 0, 2, 14, 7, 7, 1, 17, 4, 17, 16, 4, 17, 11, 30, 29, 27, 0, 16, 3, 23, 29, 4, 5, 3, 16, 19, 13, 20, 30, 10, 24, 21, 14, 8, 28, 3, 18, 15, 9, 17, 27, 31, 27, 12, 14, 7, 29, 0, 22, 4, 28]\n"
     ]
    },
    {
     "data": {
      "image/png": "[encoded data removed]",
      "text/plain": [
       "<Figure size 432x288 with 1 Axes>"
      ]
     },
     "metadata": {},
     "output_type": "display_data"
    },
    {
     "name": "stdout",
     "output_type": "stream",
     "text": [
      "0\n"
     ]
    }
   ],
   "source": [
    "seq_p = result[:number_of_notes_to_generate]\n",
    "seq_r = result[number_of_notes_to_generate:]\n",
    "\n",
    "\n",
    "\n",
    "X_pitch_np = [np.argmax(x) for x in seq_p]\n",
    "X_rythm_np = [np.argmax(x) for x in seq_r]\n",
    "\n",
    "print(X_rythm_np)\n",
    "print(X_pitch_np)\n",
    "create_track_new(X_rythm_np,X_pitch_np)"
   ]
  },
  {
   "cell_type": "code",
   "execution_count": 36,
   "metadata": {},
   "outputs": [],
   "source": [
    "from midiutil import MIDIFile\n",
    "import matplotlib.pyplot as plt\n",
    "\n",
    "def create_track_new(seq, seq_pitch):\n",
    "    \n",
    "    #num_to_len = {1:1, 2:2, 3:4, 4:8, 5:16, 6:32}\n",
    "    grain = 32\n",
    "    one_tact = 128\n",
    "    tacts_per_min = 75\n",
    "    tempo    = one_tact * tacts_per_min  # In BPM\n",
    "    volume   = 100  # 0-127, as per the MIDI standard\n",
    "    track    = 0\n",
    "    channel  = 0\n",
    "    time     = 0# to learn\n",
    "    \n",
    "    MyMIDI = MIDIFile(1)\n",
    "    MyMIDI.addTempo(track, time, tempo)\n",
    "    \n",
    "    MyMIDI.addNote(track, channel, 120, 0, one_tact / grain, volume)\n",
    "    tick_count = one_tact / grain\n",
    "    \n",
    "    current_pitch = 69\n",
    "    \n",
    "    tick_counts = [tick_count]\n",
    "    pitches = [current_pitch]\n",
    "    for l,p in zip(seq, seq_pitch):\n",
    "        current_pitch += (p - 16)\n",
    "        if current_pitch < 10:\n",
    "            current_pitch += 50\n",
    "        if current_pitch > 100:\n",
    "            current_pitch -= 50\n",
    "        pitches += [current_pitch]\n",
    "        #length = num_to_len[l]\n",
    "        MyMIDI.addNote(track, channel, current_pitch, tick_count, one_tact / grain * (l + 1), volume)\n",
    "        tick_count = tick_count + one_tact / grain * (l + 1)\n",
    "        tick_counts += [tick_count]\n",
    "    \n",
    "    plt.scatter(tick_counts, pitches, s = 1)\n",
    "    plt.show()\n",
    "    print(track)\n",
    "\n",
    "    with open(\"zzz.mid\", \"wb\") as output_file:\n",
    "        MyMIDI.writeFile(output_file) \n"
   ]
  },
  {
   "cell_type": "code",
   "execution_count": 129,
   "metadata": {},
   "outputs": [
    {
     "data": {
      "image/png": "[encoded data removed]",
      "text/plain": [
       "<Figure size 432x288 with 1 Axes>"
      ]
     },
     "metadata": {},
     "output_type": "display_data"
    },
    {
     "name": "stdout",
     "output_type": "stream",
     "text": [
      "0\n"
     ]
    }
   ],
   "source": [
    "X_pitch_np = np.array(X_pitch)[12,:8]\n",
    "X_rythm_np = np.array(X_rythm)[12,:8]\n",
    "X_pitch_np = [np.argmax(x) for x in X_pitch_np]\n",
    "X_rythm_np = [np.argmax(x) for x in X_rythm_np]\n",
    "\n",
    "create_track_new(X_rythm_np, X_pitch_np)\n",
    "#print(np.max(np.argmax(X_rythm_np, axis = 1),axis = 1))"
   ]
  },
  {
   "cell_type": "code",
   "execution_count": 93,
   "metadata": {},
   "outputs": [
    {
     "data": {
      "text/plain": [
       "0"
      ]
     },
     "execution_count": 93,
     "metadata": {},
     "output_type": "execute_result"
    }
   ],
   "source": [
    "np.argmax(X_rythm_np[0])"
   ]
  },
  {
   "cell_type": "code",
   "execution_count": 49,
   "metadata": {},
   "outputs": [
    {
     "data": {
      "text/plain": [
       "84"
      ]
     },
     "execution_count": 49,
     "metadata": {},
     "output_type": "execute_result"
    }
   ],
   "source": [
    "np.argmax(X_pitch_np[1])"
   ]
  },
  {
   "cell_type": "code",
   "execution_count": 52,
   "metadata": {},
   "outputs": [
    {
     "ename": "ModuleNotFoundError",
     "evalue": "No module named 'keys'",
     "output_type": "error",
     "traceback": [
      "\u001b[1;31m---------------------------------------------------------------------------\u001b[0m",
      "\u001b[1;31mModuleNotFoundError\u001b[0m                       Traceback (most recent call last)",
      "\u001b[1;32m<ipython-input-52-5cfd288110a9>\u001b[0m in \u001b[0;36m<module>\u001b[1;34m()\u001b[0m\n\u001b[1;32m----> 1\u001b[1;33m \u001b[1;32mimport\u001b[0m \u001b[0mmingus\u001b[0m\u001b[1;33m.\u001b[0m\u001b[0mcore\u001b[0m\u001b[1;33m.\u001b[0m\u001b[0mintervals\u001b[0m \u001b[1;32mas\u001b[0m \u001b[0mintervals\u001b[0m\u001b[1;33m\u001b[0m\u001b[0m\n\u001b[0m",
      "\u001b[1;32m~\\AppData\\Local\\conda\\conda\\envs\\condathree\\lib\\site-packages\\mingus\\core\\intervals.py\u001b[0m in \u001b[0;36m<module>\u001b[1;34m()\u001b[0m\n\u001b[0;32m     33\u001b[0m \u001b[1;33m\u001b[0m\u001b[0m\n\u001b[0;32m     34\u001b[0m \u001b[1;32mimport\u001b[0m \u001b[0mnotes\u001b[0m\u001b[1;33m\u001b[0m\u001b[0m\n\u001b[1;32m---> 35\u001b[1;33m \u001b[1;32mimport\u001b[0m \u001b[0mkeys\u001b[0m\u001b[1;33m\u001b[0m\u001b[0m\n\u001b[0m\u001b[0;32m     36\u001b[0m \u001b[1;33m\u001b[0m\u001b[0m\n\u001b[0;32m     37\u001b[0m \u001b[1;32mdef\u001b[0m \u001b[0minterval\u001b[0m\u001b[1;33m(\u001b[0m\u001b[0mkey\u001b[0m\u001b[1;33m,\u001b[0m \u001b[0mstart_note\u001b[0m\u001b[1;33m,\u001b[0m \u001b[0minterval\u001b[0m\u001b[1;33m)\u001b[0m\u001b[1;33m:\u001b[0m\u001b[1;33m\u001b[0m\u001b[0m\n",
      "\u001b[1;31mModuleNotFoundError\u001b[0m: No module named 'keys'"
     ]
    }
   ],
   "source": [
    "import mingus.core.intervals as intervals"
   ]
  },
  {
   "cell_type": "code",
   "execution_count": 35,
   "metadata": {},
   "outputs": [
    {
     "data": {
      "text/plain": [
       "[<tf.Tensor 'gru_7_10/TensorArrayReadV3:0' shape=(?, 200) dtype=float32>,\n",
       " <tf.Tensor 'gru_7_10/while/Exit_2:0' shape=(?, 200) dtype=float32>]"
      ]
     },
     "execution_count": 35,
     "metadata": {},
     "output_type": "execute_result"
    }
   ],
   "source": [
    "manager_gru(manager_input)"
   ]
  },
  {
   "cell_type": "code",
   "execution_count": 44,
   "metadata": {},
   "outputs": [],
   "source": [
    "out = manager_gru(manager_input)\n",
    "opt = Adam(lr=0.01, beta_1=0.9, beta_2=0.999, decay=0.01)\n",
    "manager = Model(inputs = [manager_input], outputs = out[:2])\n",
    "manager.compile(optimizer=opt, loss='categorical_crossentropy', metrics=['accuracy'])"
   ]
  },
  {
   "cell_type": "code",
   "execution_count": 39,
   "metadata": {},
   "outputs": [
    {
     "data": {
      "text/plain": [
       "[<tf.Tensor 'gru_7_9/TensorArrayReadV3:0' shape=(?, 200) dtype=float32>,\n",
       " <tf.Tensor 'gru_7_9/while/Exit_2:0' shape=(?, 200) dtype=float32>]"
      ]
     },
     "execution_count": 39,
     "metadata": {},
     "output_type": "execute_result"
    }
   ],
   "source": [
    "out"
   ]
  },
  {
   "cell_type": "code",
   "execution_count": null,
   "metadata": {},
   "outputs": [],
   "source": [
    "manager.predict(np.ones((1,1,100)))"
   ]
  },
  {
   "cell_type": "code",
   "execution_count": 29,
   "metadata": {},
   "outputs": [
    {
     "ename": "AttributeError",
     "evalue": "'list' object has no attribute 'compile'",
     "output_type": "error",
     "traceback": [
      "\u001b[1;31m---------------------------------------------------------------------------\u001b[0m",
      "\u001b[1;31mAttributeError\u001b[0m                            Traceback (most recent call last)",
      "\u001b[1;32m<ipython-input-29-30c1cb666597>\u001b[0m in \u001b[0;36m<module>\u001b[1;34m()\u001b[0m\n\u001b[1;32m----> 1\u001b[1;33m \u001b[0mseq\u001b[0m \u001b[1;33m=\u001b[0m \u001b[0mmanager_gru\u001b[0m\u001b[1;33m(\u001b[0m\u001b[0mmanager_input\u001b[0m\u001b[1;33m)\u001b[0m\u001b[1;33m.\u001b[0m\u001b[0mcompile\u001b[0m\u001b[1;33m(\u001b[0m\u001b[1;33m)\u001b[0m\u001b[1;33m\u001b[0m\u001b[0m\n\u001b[0m",
      "\u001b[1;31mAttributeError\u001b[0m: 'list' object has no attribute 'compile'"
     ]
    }
   ],
   "source": [
    "seq = manager_gru(manager_input).compile()"
   ]
  },
  {
   "cell_type": "code",
   "execution_count": 41,
   "metadata": {},
   "outputs": [
    {
     "data": {
      "text/plain": [
       "<tf.Tensor 'lstm_5/TensorArrayReadV3:0' shape=(?, 200) dtype=float32>"
      ]
     },
     "execution_count": 41,
     "metadata": {},
     "output_type": "execute_result"
    }
   ],
   "source": [
    "pitch_gru(pitch_input)"
   ]
  },
  {
   "cell_type": "code",
   "execution_count": 5,
   "metadata": {},
   "outputs": [],
   "source": [
    "import numpy as np"
   ]
  },
  {
   "cell_type": "code",
   "execution_count": 15,
   "metadata": {},
   "outputs": [],
   "source": [
    "sess = tf.Session()"
   ]
  },
  {
   "cell_type": "code",
   "execution_count": 39,
   "metadata": {},
   "outputs": [
    {
     "ename": "ValueError",
     "evalue": "Shape must be rank 2 but is rank 1 for 'multinomial_431/Multinomial' (op: 'Multinomial') with input shapes: [3], [].",
     "output_type": "error",
     "traceback": [
      "\u001b[1;31m---------------------------------------------------------------------------\u001b[0m",
      "\u001b[1;31mInvalidArgumentError\u001b[0m                      Traceback (most recent call last)",
      "\u001b[1;32m~\\Anaconda3\\envs\\condathree\\lib\\site-packages\\tensorflow\\python\\framework\\ops.py\u001b[0m in \u001b[0;36m_create_c_op\u001b[1;34m(graph, node_def, inputs, control_inputs)\u001b[0m\n\u001b[0;32m   1566\u001b[0m   \u001b[1;32mtry\u001b[0m\u001b[1;33m:\u001b[0m\u001b[1;33m\u001b[0m\u001b[0m\n\u001b[1;32m-> 1567\u001b[1;33m     \u001b[0mc_op\u001b[0m \u001b[1;33m=\u001b[0m \u001b[0mc_api\u001b[0m\u001b[1;33m.\u001b[0m\u001b[0mTF_FinishOperation\u001b[0m\u001b[1;33m(\u001b[0m\u001b[0mop_desc\u001b[0m\u001b[1;33m)\u001b[0m\u001b[1;33m\u001b[0m\u001b[0m\n\u001b[0m\u001b[0;32m   1568\u001b[0m   \u001b[1;32mexcept\u001b[0m \u001b[0merrors\u001b[0m\u001b[1;33m.\u001b[0m\u001b[0mInvalidArgumentError\u001b[0m \u001b[1;32mas\u001b[0m \u001b[0me\u001b[0m\u001b[1;33m:\u001b[0m\u001b[1;33m\u001b[0m\u001b[0m\n",
      "\u001b[1;31mInvalidArgumentError\u001b[0m: Shape must be rank 2 but is rank 1 for 'multinomial_431/Multinomial' (op: 'Multinomial') with input shapes: [3], [].",
      "\nDuring handling of the above exception, another exception occurred:\n",
      "\u001b[1;31mValueError\u001b[0m                                Traceback (most recent call last)",
      "\u001b[1;32m<ipython-input-39-bfae608b451b>\u001b[0m in \u001b[0;36m<module>\u001b[1;34m()\u001b[0m\n\u001b[0;32m      8\u001b[0m \u001b[1;33m\u001b[0m\u001b[0m\n\u001b[0;32m      9\u001b[0m \u001b[0moutput_pitch\u001b[0m \u001b[1;33m=\u001b[0m \u001b[0mtf\u001b[0m\u001b[1;33m.\u001b[0m\u001b[0mconstant\u001b[0m\u001b[1;33m(\u001b[0m\u001b[0moutput_pitch\u001b[0m\u001b[1;33m)\u001b[0m\u001b[1;33m\u001b[0m\u001b[0m\n\u001b[1;32m---> 10\u001b[1;33m \u001b[0msampled_ids_pitch\u001b[0m \u001b[1;33m=\u001b[0m \u001b[0mtf\u001b[0m\u001b[1;33m.\u001b[0m\u001b[0mmultinomial\u001b[0m\u001b[1;33m(\u001b[0m\u001b[1;33m[\u001b[0m\u001b[1;36m1\u001b[0m\u001b[1;33m,\u001b[0m\u001b[1;36m2\u001b[0m\u001b[1;33m,\u001b[0m\u001b[1;36m3\u001b[0m\u001b[1;33m]\u001b[0m\u001b[1;33m,\u001b[0m \u001b[1;36m12\u001b[0m\u001b[1;33m)\u001b[0m\u001b[1;33m\u001b[0m\u001b[0m\n\u001b[0m",
      "\u001b[1;32m~\\Anaconda3\\envs\\condathree\\lib\\site-packages\\tensorflow\\python\\ops\\random_ops.py\u001b[0m in \u001b[0;36mmultinomial\u001b[1;34m(logits, num_samples, seed, name, output_dtype)\u001b[0m\n\u001b[0;32m    351\u001b[0m     \u001b[0mseed1\u001b[0m\u001b[1;33m,\u001b[0m \u001b[0mseed2\u001b[0m \u001b[1;33m=\u001b[0m \u001b[0mrandom_seed\u001b[0m\u001b[1;33m.\u001b[0m\u001b[0mget_seed\u001b[0m\u001b[1;33m(\u001b[0m\u001b[0mseed\u001b[0m\u001b[1;33m)\u001b[0m\u001b[1;33m\u001b[0m\u001b[0m\n\u001b[0;32m    352\u001b[0m     return gen_random_ops.multinomial(\n\u001b[1;32m--> 353\u001b[1;33m         logits, num_samples, seed=seed1, seed2=seed2, output_dtype=output_dtype)\n\u001b[0m\u001b[0;32m    354\u001b[0m \u001b[1;33m\u001b[0m\u001b[0m\n\u001b[0;32m    355\u001b[0m \u001b[1;33m\u001b[0m\u001b[0m\n",
      "\u001b[1;32m~\\Anaconda3\\envs\\condathree\\lib\\site-packages\\tensorflow\\python\\ops\\gen_random_ops.py\u001b[0m in \u001b[0;36mmultinomial\u001b[1;34m(logits, num_samples, seed, seed2, output_dtype, name)\u001b[0m\n\u001b[0;32m     59\u001b[0m     _, _, _op = _op_def_lib._apply_op_helper(\n\u001b[0;32m     60\u001b[0m         \u001b[1;34m\"Multinomial\"\u001b[0m\u001b[1;33m,\u001b[0m \u001b[0mlogits\u001b[0m\u001b[1;33m=\u001b[0m\u001b[0mlogits\u001b[0m\u001b[1;33m,\u001b[0m \u001b[0mnum_samples\u001b[0m\u001b[1;33m=\u001b[0m\u001b[0mnum_samples\u001b[0m\u001b[1;33m,\u001b[0m \u001b[0mseed\u001b[0m\u001b[1;33m=\u001b[0m\u001b[0mseed\u001b[0m\u001b[1;33m,\u001b[0m\u001b[1;33m\u001b[0m\u001b[0m\n\u001b[1;32m---> 61\u001b[1;33m         seed2=seed2, output_dtype=output_dtype, name=name)\n\u001b[0m\u001b[0;32m     62\u001b[0m     \u001b[0m_result\u001b[0m \u001b[1;33m=\u001b[0m \u001b[0m_op\u001b[0m\u001b[1;33m.\u001b[0m\u001b[0moutputs\u001b[0m\u001b[1;33m[\u001b[0m\u001b[1;33m:\u001b[0m\u001b[1;33m]\u001b[0m\u001b[1;33m\u001b[0m\u001b[0m\n\u001b[0;32m     63\u001b[0m     \u001b[0m_inputs_flat\u001b[0m \u001b[1;33m=\u001b[0m \u001b[0m_op\u001b[0m\u001b[1;33m.\u001b[0m\u001b[0minputs\u001b[0m\u001b[1;33m\u001b[0m\u001b[0m\n",
      "\u001b[1;32m~\\Anaconda3\\envs\\condathree\\lib\\site-packages\\tensorflow\\python\\framework\\op_def_library.py\u001b[0m in \u001b[0;36m_apply_op_helper\u001b[1;34m(self, op_type_name, name, **keywords)\u001b[0m\n\u001b[0;32m    785\u001b[0m         op = g.create_op(op_type_name, inputs, output_types, name=scope,\n\u001b[0;32m    786\u001b[0m                          \u001b[0minput_types\u001b[0m\u001b[1;33m=\u001b[0m\u001b[0minput_types\u001b[0m\u001b[1;33m,\u001b[0m \u001b[0mattrs\u001b[0m\u001b[1;33m=\u001b[0m\u001b[0mattr_protos\u001b[0m\u001b[1;33m,\u001b[0m\u001b[1;33m\u001b[0m\u001b[0m\n\u001b[1;32m--> 787\u001b[1;33m                          op_def=op_def)\n\u001b[0m\u001b[0;32m    788\u001b[0m       \u001b[1;32mreturn\u001b[0m \u001b[0moutput_structure\u001b[0m\u001b[1;33m,\u001b[0m \u001b[0mop_def\u001b[0m\u001b[1;33m.\u001b[0m\u001b[0mis_stateful\u001b[0m\u001b[1;33m,\u001b[0m \u001b[0mop\u001b[0m\u001b[1;33m\u001b[0m\u001b[0m\n\u001b[0;32m    789\u001b[0m \u001b[1;33m\u001b[0m\u001b[0m\n",
      "\u001b[1;32m~\\Anaconda3\\envs\\condathree\\lib\\site-packages\\tensorflow\\python\\framework\\ops.py\u001b[0m in \u001b[0;36mcreate_op\u001b[1;34m(self, op_type, inputs, dtypes, input_types, name, attrs, op_def, compute_shapes, compute_device)\u001b[0m\n\u001b[0;32m   3390\u001b[0m           \u001b[0minput_types\u001b[0m\u001b[1;33m=\u001b[0m\u001b[0minput_types\u001b[0m\u001b[1;33m,\u001b[0m\u001b[1;33m\u001b[0m\u001b[0m\n\u001b[0;32m   3391\u001b[0m           \u001b[0moriginal_op\u001b[0m\u001b[1;33m=\u001b[0m\u001b[0mself\u001b[0m\u001b[1;33m.\u001b[0m\u001b[0m_default_original_op\u001b[0m\u001b[1;33m,\u001b[0m\u001b[1;33m\u001b[0m\u001b[0m\n\u001b[1;32m-> 3392\u001b[1;33m           op_def=op_def)\n\u001b[0m\u001b[0;32m   3393\u001b[0m \u001b[1;33m\u001b[0m\u001b[0m\n\u001b[0;32m   3394\u001b[0m       \u001b[1;31m# Note: shapes are lazily computed with the C API enabled.\u001b[0m\u001b[1;33m\u001b[0m\u001b[1;33m\u001b[0m\u001b[0m\n",
      "\u001b[1;32m~\\Anaconda3\\envs\\condathree\\lib\\site-packages\\tensorflow\\python\\framework\\ops.py\u001b[0m in \u001b[0;36m__init__\u001b[1;34m(self, node_def, g, inputs, output_types, control_inputs, input_types, original_op, op_def)\u001b[0m\n\u001b[0;32m   1732\u001b[0m           op_def, inputs, node_def.attr)\n\u001b[0;32m   1733\u001b[0m       self._c_op = _create_c_op(self._graph, node_def, grouped_inputs,\n\u001b[1;32m-> 1734\u001b[1;33m                                 control_input_ops)\n\u001b[0m\u001b[0;32m   1735\u001b[0m     \u001b[1;32melse\u001b[0m\u001b[1;33m:\u001b[0m\u001b[1;33m\u001b[0m\u001b[0m\n\u001b[0;32m   1736\u001b[0m       \u001b[0mself\u001b[0m\u001b[1;33m.\u001b[0m\u001b[0m_c_op\u001b[0m \u001b[1;33m=\u001b[0m \u001b[1;32mNone\u001b[0m\u001b[1;33m\u001b[0m\u001b[0m\n",
      "\u001b[1;32m~\\Anaconda3\\envs\\condathree\\lib\\site-packages\\tensorflow\\python\\framework\\ops.py\u001b[0m in \u001b[0;36m_create_c_op\u001b[1;34m(graph, node_def, inputs, control_inputs)\u001b[0m\n\u001b[0;32m   1568\u001b[0m   \u001b[1;32mexcept\u001b[0m \u001b[0merrors\u001b[0m\u001b[1;33m.\u001b[0m\u001b[0mInvalidArgumentError\u001b[0m \u001b[1;32mas\u001b[0m \u001b[0me\u001b[0m\u001b[1;33m:\u001b[0m\u001b[1;33m\u001b[0m\u001b[0m\n\u001b[0;32m   1569\u001b[0m     \u001b[1;31m# Convert to ValueError for backwards compatibility.\u001b[0m\u001b[1;33m\u001b[0m\u001b[1;33m\u001b[0m\u001b[0m\n\u001b[1;32m-> 1570\u001b[1;33m     \u001b[1;32mraise\u001b[0m \u001b[0mValueError\u001b[0m\u001b[1;33m(\u001b[0m\u001b[0mstr\u001b[0m\u001b[1;33m(\u001b[0m\u001b[0me\u001b[0m\u001b[1;33m)\u001b[0m\u001b[1;33m)\u001b[0m\u001b[1;33m\u001b[0m\u001b[0m\n\u001b[0m\u001b[0;32m   1571\u001b[0m \u001b[1;33m\u001b[0m\u001b[0m\n\u001b[0;32m   1572\u001b[0m   \u001b[1;32mreturn\u001b[0m \u001b[0mc_op\u001b[0m\u001b[1;33m\u001b[0m\u001b[0m\n",
      "\u001b[1;31mValueError\u001b[0m: Shape must be rank 2 but is rank 1 for 'multinomial_431/Multinomial' (op: 'Multinomial') with input shapes: [3], []."
     ]
    }
   ],
   "source": [
    "pitch_output_shape = 10\n",
    "\n",
    "choices_pitch = tf.constant( np.array( [np.arange(pitch_output_shape)]), dtype=tf.int64)\n",
    "\n",
    "output_pitch = list(np.zeros(pitch_output_shape, dtype = 'int64'))\n",
    "output_pitch[5] = 0.5\n",
    "output_pitch[4] = 0.5\n",
    "\n",
    "output_pitch = tf.constant(output_pitch)\n",
    "sampled_ids_pitch = tf.multinomial([output_pitch], 12)"
   ]
  },
  {
   "cell_type": "code",
   "execution_count": null,
   "metadata": {},
   "outputs": [],
   "source": [
    "list(np.zeros(pitch_output_shape, dtype = 'int64'))"
   ]
  },
  {
   "cell_type": "code",
   "execution_count": 12,
   "metadata": {},
   "outputs": [
    {
     "name": "stdout",
     "output_type": "stream",
     "text": [
      "[5 5 4 5 5 5 5 5 4 4]\n"
     ]
    }
   ],
   "source": [
    "with tf.Session() as sess:\n",
    "    sample = sess.run(sampled_ids_pitch)\n",
    "    print(sample)\n",
    "    "
   ]
  },
  {
   "cell_type": "code",
   "execution_count": 50,
   "metadata": {},
   "outputs": [],
   "source": [
    "# L has shape [2, 5, 2]\n",
    "L = tf.constant([[0.9, 0.1]])\n",
    "\n",
    "dims = L.get_shape().as_list()\n",
    "N = dims[-1]  # here N = 2\n",
    "\n",
    "logits = tf.reshape(L, [-1, N])\n",
    "\n",
    "\n",
    "samples = tf.multinomial(logits, 1)\n",
    "# We reshape to match the initial shape minus the last dimension\n",
    "res = tf.reshape(samples, dims[:-1])"
   ]
  },
  {
   "cell_type": "code",
   "execution_count": 54,
   "metadata": {},
   "outputs": [
    {
     "name": "stdout",
     "output_type": "stream",
     "text": [
      "[0]\n"
     ]
    }
   ],
   "source": [
    "with tf.Session() as sess:\n",
    "    sample = sess.run(res)\n",
    "    print(sample)"
   ]
  },
  {
   "cell_type": "code",
   "execution_count": null,
   "metadata": {},
   "outputs": [],
   "source": []
  }
 ],
 "metadata": {
  "kernelspec": {
   "display_name": "Python [conda env:condathree]",
   "language": "python",
   "name": "conda-env-condathree-py"
  },
  "language_info": {
   "codemirror_mode": {
    "name": "ipython",
    "version": 3
   },
   "file_extension": ".py",
   "mimetype": "text/x-python",
   "name": "python",
   "nbconvert_exporter": "python",
   "pygments_lexer": "ipython3",
   "version": "3.5.5"
  }
 },
 "nbformat": 4,
 "nbformat_minor": 2
}
