{
 "cells": [
  {
   "cell_type": "markdown",
   "metadata": {},
   "source": [
    " In this Release we chqnge the following:\n",
    " - encoder-decoder architecture + VAE; \n"
   ]
  },
  {
   "cell_type": "code",
   "execution_count": 18,
   "metadata": {},
   "outputs": [],
   "source": [
    "import keras\n",
    "from keras import backend as K\n",
    "from keras.models import Sequential, Model\n",
    "from keras.layers import Input, LSTM, RepeatVector, Concatenate\n",
    "from keras.layers.core import Flatten, Dense, Dropout, Lambda\n",
    "from keras.optimizers import SGD, RMSprop, Adam\n",
    "from keras import objectives\n",
    "import pickle\n",
    "\n",
    "\n",
    "def create_lstm_vae(input_dim_pitch, input_dim_rythm,\n",
    "    timesteps, \n",
    "    batch_size, \n",
    "    intermediate_dim_pitch, intermediate_dim_rythm,\n",
    "    latent_dim,\n",
    "    epsilon_std=1.):\n",
    "\n",
    "    \"\"\"\n",
    "    Creates an LSTM Variational Autoencoder (VAE). Returns VAE, Encoder, Generator. \n",
    "    # Arguments\n",
    "        input_dim: int.\n",
    "        timesteps: int, input timestep dimension.\n",
    "        batch_size: int.\n",
    "        intermediate_dim: int, output shape of LSTM. \n",
    "        latent_dim: int, latent z-layer shape. \n",
    "        epsilon_std: float, z-layer sigma.\n",
    "    # References\n",
    "        - [Building Autoencoders in Keras](https://blog.keras.io/building-autoencoders-in-keras.html)\n",
    "        - [Generating sentences from a continuous space](https://arxiv.org/abs/1511.06349)\n",
    "    \"\"\"\n",
    "    x_pitch = Input(shape=(timesteps, input_dim_pitch,), name = \"pitch_input\")\n",
    "    x_rythm = Input(shape=(timesteps, input_dim_rythm,), name = \"rythm_input\")\n",
    "\n",
    "    # LSTM encoding\n",
    "    h_pitch = LSTM(intermediate_dim_pitch)(x_pitch)\n",
    "    h_rythm = LSTM(intermediate_dim_rythm)(x_rythm)\n",
    "\n",
    "    h = Concatenate(axis = -1)([h_pitch, h_rythm])\n",
    "    # VAE Z layer\n",
    "    z_mean= Dense(latent_dim)(h)\n",
    "    z_log_sigma = Dense(latent_dim)(h)\n",
    "\n",
    "    \n",
    "    def sampling(args):\n",
    "        z_mean, z_log_sigma = args\n",
    "        epsilon = K.random_normal(shape=(batch_size, latent_dim),\n",
    "                                  mean=0., stddev=epsilon_std)\n",
    "        return z_mean + z_log_sigma * epsilon\n",
    "    \n",
    "\n",
    "\n",
    "    # note that \"output_shape\" isn't necessary with the TensorFlow backend\n",
    "    # so you could write `Lambda(sampling)([z_mean, z_log_sigma])`\n",
    "    z = Lambda(sampling, output_shape=(latent_dim,))([z_mean, z_log_sigma])\n",
    "\n",
    "    \n",
    "    # decoded LSTM layer\n",
    "    decoder_h_pitch = LSTM(intermediate_dim_pitch, return_sequences=True)\n",
    "    decoder_mean_pitch = LSTM(input_dim_pitch, return_sequences=True, name = \"pitch\")\n",
    "    \n",
    "    decoder_h_rythm = LSTM(intermediate_dim_rythm, return_sequences=True)\n",
    "    decoder_mean_rythm = LSTM(input_dim_rythm, return_sequences=True, name = \"rythm\")\n",
    "\n",
    "    h_decoded_pitch = RepeatVector(timesteps)(z)\n",
    "    h_decoded_pitch = decoder_h_pitch(h_decoded_pitch)\n",
    "    \n",
    "    h_decoded_rythm = RepeatVector(timesteps)(z)\n",
    "    h_decoded_rythm = decoder_h_rythm(h_decoded_rythm)\n",
    "\n",
    "    # decoded layer\n",
    "    x_decoded_mean_pitch = decoder_mean_pitch(h_decoded_pitch)\n",
    "    \n",
    "    x_decoded_mean_rythm = decoder_mean_rythm(h_decoded_rythm)\n",
    "    \n",
    "    # end-to-end autoencoder\n",
    "    vae = Model([x_pitch, x_rythm], [x_decoded_mean_pitch, x_decoded_mean_rythm])\n",
    "\n",
    "    # encoder, from inputs to latent space\n",
    "    '''\n",
    "    encoder_pitch = Model(x_pitch, z_mean)\n",
    "    encoder_rythm = Model(x_rythm, z_mean)\n",
    "\n",
    "    # generator, from latent space to reconstructed inputs\n",
    "    decoder_input_pitch = Input(shape=(latent_dim_pitch,))\n",
    "    decoder_input_rythm = Input(shape=(latent_dim_rythm,))\n",
    "\n",
    "    _h_decoded_pitch = RepeatVector(timesteps)(decoder_input_pitch)\n",
    "    _h_decoded_pitch = decoder_h_pitch(_h_decoded_pitch)\n",
    "    \n",
    "    _h_decoded_rythm = RepeatVector(timesteps)(decoder_input_rythm)\n",
    "    _h_decoded_rythm = decoder_h_rythm(_h_decoded_rythm)\n",
    "\n",
    "    \n",
    "    _x_decoded_mean_pitch = decoder_mean_pitch(_h_decoded_pitch)\n",
    "    generator_pitch = Model(decoder_input_pitch, _x_decoded_mean_pitch)\n",
    "    \n",
    "    _x_decoded_mean_rythm = decoder_mean_rythm(_h_decoded_rythm)\n",
    "    generator_rythm = Model(decoder_input_rythm, _x_decoded_mean_rythm)\n",
    "    '''\n",
    "    def vae_loss_pitch(x, x_decoded_mean):\n",
    "        xent_loss = objectives.categorical_crossentropy(x, x_decoded_mean)\n",
    "        kl_loss = - 0.5 * K.mean(1 + z_log_sigma - K.square(z_mean) - K.exp(z_log_sigma))\n",
    "        loss = xent_loss + kl_loss\n",
    "        return loss\n",
    "    \n",
    "    def vae_loss_rythm(x, x_decoded_mean):\n",
    "        loss = objectives.categorical_crossentropy(x, x_decoded_mean)\n",
    "        return loss\n",
    "\n",
    "    vae.compile(optimizer='adam', loss={\"pitch\":vae_loss_pitch, \"rythm\":vae_loss_rythm})\n",
    "    \n",
    "    return vae"
   ]
  },
  {
   "cell_type": "code",
   "execution_count": 29,
   "metadata": {},
   "outputs": [],
   "source": [
    "vae = create_lstm_vae(25, 5,\n",
    "    10, \n",
    "    100, \n",
    "    25, 25,\n",
    "    87,\n",
    "    epsilon_std=1.)"
   ]
  },
  {
   "cell_type": "code",
   "execution_count": 30,
   "metadata": {},
   "outputs": [
    {
     "name": "stdout",
     "output_type": "stream",
     "text": [
      "__________________________________________________________________________________________________\n",
      "Layer (type)                    Output Shape         Param #     Connected to                     \n",
      "==================================================================================================\n",
      "pitch_input (InputLayer)        (None, 10, 25)       0                                            \n",
      "__________________________________________________________________________________________________\n",
      "rythm_input (InputLayer)        (None, 10, 5)        0                                            \n",
      "__________________________________________________________________________________________________\n",
      "lstm_25 (LSTM)                  (None, 25)           5100        pitch_input[0][0]                \n",
      "__________________________________________________________________________________________________\n",
      "lstm_26 (LSTM)                  (None, 25)           3100        rythm_input[0][0]                \n",
      "__________________________________________________________________________________________________\n",
      "concatenate_8 (Concatenate)     (None, 50)           0           lstm_25[0][0]                    \n",
      "                                                                 lstm_26[0][0]                    \n",
      "__________________________________________________________________________________________________\n",
      "dense_13 (Dense)                (None, 87)           4437        concatenate_8[0][0]              \n",
      "__________________________________________________________________________________________________\n",
      "dense_14 (Dense)                (None, 87)           4437        concatenate_8[0][0]              \n",
      "__________________________________________________________________________________________________\n",
      "lambda_7 (Lambda)               (None, 87)           0           dense_13[0][0]                   \n",
      "                                                                 dense_14[0][0]                   \n",
      "__________________________________________________________________________________________________\n",
      "repeat_vector_11 (RepeatVector) (None, 10, 87)       0           lambda_7[0][0]                   \n",
      "__________________________________________________________________________________________________\n",
      "repeat_vector_12 (RepeatVector) (None, 10, 87)       0           lambda_7[0][0]                   \n",
      "__________________________________________________________________________________________________\n",
      "lstm_27 (LSTM)                  (None, 10, 25)       11300       repeat_vector_11[0][0]           \n",
      "__________________________________________________________________________________________________\n",
      "lstm_28 (LSTM)                  (None, 10, 25)       11300       repeat_vector_12[0][0]           \n",
      "__________________________________________________________________________________________________\n",
      "pitch (LSTM)                    (None, 10, 25)       5100        lstm_27[0][0]                    \n",
      "__________________________________________________________________________________________________\n",
      "rythm (LSTM)                    (None, 10, 5)        620         lstm_28[0][0]                    \n",
      "==================================================================================================\n",
      "Total params: 45,394\n",
      "Trainable params: 45,394\n",
      "Non-trainable params: 0\n",
      "__________________________________________________________________________________________________\n"
     ]
    }
   ],
   "source": [
    "vae.summary()"
   ]
  },
  {
   "cell_type": "code",
   "execution_count": 31,
   "metadata": {},
   "outputs": [
    {
     "name": "stdout",
     "output_type": "stream",
     "text": [
      "Epoch 1/1\n"
     ]
    },
    {
     "ename": "InvalidArgumentError",
     "evalue": "Incompatible shapes: [100] vs. [32]\n\t [[Node: training_1/Adam/gradients/loss_3/rythm_loss/mul_1_grad/BroadcastGradientArgs = BroadcastGradientArgs[T=DT_INT32, _class=[\"loc:@training_1/Adam/gradients/loss_3/rythm_loss/mul_1_grad/Sum\"], _device=\"/job:localhost/replica:0/task:0/device:GPU:0\"](training_1/Adam/gradients/loss_3/rythm_loss/mul_1_grad/Shape, training_1/Adam/gradients/loss_3/rythm_loss/mul_1_grad/Shape_1)]]\n\t [[Node: loss_3/rythm_loss/Mean_2/_711 = _Recv[client_terminated=false, recv_device=\"/job:localhost/replica:0/task:0/device:CPU:0\", send_device=\"/job:localhost/replica:0/task:0/device:GPU:0\", send_device_incarnation=1, tensor_name=\"edge_6812_loss_3/rythm_loss/Mean_2\", tensor_type=DT_FLOAT, _device=\"/job:localhost/replica:0/task:0/device:CPU:0\"]()]]\n\nCaused by op 'training_1/Adam/gradients/loss_3/rythm_loss/mul_1_grad/BroadcastGradientArgs', defined at:\n  File \"C:\\Users\\Charles\\Anaconda3\\envs\\condathree\\lib\\runpy.py\", line 193, in _run_module_as_main\n    \"__main__\", mod_spec)\n  File \"C:\\Users\\Charles\\Anaconda3\\envs\\condathree\\lib\\runpy.py\", line 85, in _run_code\n    exec(code, run_globals)\n  File \"C:\\Users\\Charles\\Anaconda3\\envs\\condathree\\lib\\site-packages\\ipykernel\\__main__.py\", line 3, in <module>\n    app.launch_new_instance()\n  File \"C:\\Users\\Charles\\Anaconda3\\envs\\condathree\\lib\\site-packages\\traitlets\\config\\application.py\", line 658, in launch_instance\n    app.start()\n  File \"C:\\Users\\Charles\\Anaconda3\\envs\\condathree\\lib\\site-packages\\ipykernel\\kernelapp.py\", line 486, in start\n    self.io_loop.start()\n  File \"C:\\Users\\Charles\\Anaconda3\\envs\\condathree\\lib\\site-packages\\tornado\\platform\\asyncio.py\", line 127, in start\n    self.asyncio_loop.run_forever()\n  File \"C:\\Users\\Charles\\Anaconda3\\envs\\condathree\\lib\\asyncio\\base_events.py\", line 421, in run_forever\n    self._run_once()\n  File \"C:\\Users\\Charles\\Anaconda3\\envs\\condathree\\lib\\asyncio\\base_events.py\", line 1425, in _run_once\n    handle._run()\n  File \"C:\\Users\\Charles\\Anaconda3\\envs\\condathree\\lib\\asyncio\\events.py\", line 127, in _run\n    self._callback(*self._args)\n  File \"C:\\Users\\Charles\\Anaconda3\\envs\\condathree\\lib\\site-packages\\tornado\\platform\\asyncio.py\", line 117, in _handle_events\n    handler_func(fileobj, events)\n  File \"C:\\Users\\Charles\\Anaconda3\\envs\\condathree\\lib\\site-packages\\tornado\\stack_context.py\", line 276, in null_wrapper\n    return fn(*args, **kwargs)\n  File \"C:\\Users\\Charles\\Anaconda3\\envs\\condathree\\lib\\site-packages\\zmq\\eventloop\\zmqstream.py\", line 450, in _handle_events\n    self._handle_recv()\n  File \"C:\\Users\\Charles\\Anaconda3\\envs\\condathree\\lib\\site-packages\\zmq\\eventloop\\zmqstream.py\", line 480, in _handle_recv\n    self._run_callback(callback, msg)\n  File \"C:\\Users\\Charles\\Anaconda3\\envs\\condathree\\lib\\site-packages\\zmq\\eventloop\\zmqstream.py\", line 432, in _run_callback\n    callback(*args, **kwargs)\n  File \"C:\\Users\\Charles\\Anaconda3\\envs\\condathree\\lib\\site-packages\\tornado\\stack_context.py\", line 276, in null_wrapper\n    return fn(*args, **kwargs)\n  File \"C:\\Users\\Charles\\Anaconda3\\envs\\condathree\\lib\\site-packages\\ipykernel\\kernelbase.py\", line 283, in dispatcher\n    return self.dispatch_shell(stream, msg)\n  File \"C:\\Users\\Charles\\Anaconda3\\envs\\condathree\\lib\\site-packages\\ipykernel\\kernelbase.py\", line 233, in dispatch_shell\n    handler(stream, idents, msg)\n  File \"C:\\Users\\Charles\\Anaconda3\\envs\\condathree\\lib\\site-packages\\ipykernel\\kernelbase.py\", line 399, in execute_request\n    user_expressions, allow_stdin)\n  File \"C:\\Users\\Charles\\Anaconda3\\envs\\condathree\\lib\\site-packages\\ipykernel\\ipkernel.py\", line 208, in do_execute\n    res = shell.run_cell(code, store_history=store_history, silent=silent)\n  File \"C:\\Users\\Charles\\Anaconda3\\envs\\condathree\\lib\\site-packages\\ipykernel\\zmqshell.py\", line 537, in run_cell\n    return super(ZMQInteractiveShell, self).run_cell(*args, **kwargs)\n  File \"C:\\Users\\Charles\\Anaconda3\\envs\\condathree\\lib\\site-packages\\IPython\\core\\interactiveshell.py\", line 2662, in run_cell\n    raw_cell, store_history, silent, shell_futures)\n  File \"C:\\Users\\Charles\\Anaconda3\\envs\\condathree\\lib\\site-packages\\IPython\\core\\interactiveshell.py\", line 2785, in _run_cell\n    interactivity=interactivity, compiler=compiler, result=result)\n  File \"C:\\Users\\Charles\\Anaconda3\\envs\\condathree\\lib\\site-packages\\IPython\\core\\interactiveshell.py\", line 2909, in run_ast_nodes\n    if self.run_code(code, result):\n  File \"C:\\Users\\Charles\\Anaconda3\\envs\\condathree\\lib\\site-packages\\IPython\\core\\interactiveshell.py\", line 2963, in run_code\n    exec(code_obj, self.user_global_ns, self.user_ns)\n  File \"<ipython-input-31-d98775f29a38>\", line 1, in <module>\n    vae.fit({\"pitch_input\":X_pitch_np, \"rythm_input\":X_rythm_np}, {\"pitch\":X_pitch_np, \"rythm\":X_rythm_np})\n  File \"C:\\Users\\Charles\\Anaconda3\\envs\\condathree\\lib\\site-packages\\keras\\engine\\training.py\", line 1682, in fit\n    self._make_train_function()\n  File \"C:\\Users\\Charles\\Anaconda3\\envs\\condathree\\lib\\site-packages\\keras\\engine\\training.py\", line 992, in _make_train_function\n    loss=self.total_loss)\n  File \"C:\\Users\\Charles\\Anaconda3\\envs\\condathree\\lib\\site-packages\\keras\\legacy\\interfaces.py\", line 91, in wrapper\n    return func(*args, **kwargs)\n  File \"C:\\Users\\Charles\\Anaconda3\\envs\\condathree\\lib\\site-packages\\keras\\optimizers.py\", line 445, in get_updates\n    grads = self.get_gradients(loss, params)\n  File \"C:\\Users\\Charles\\Anaconda3\\envs\\condathree\\lib\\site-packages\\keras\\optimizers.py\", line 78, in get_gradients\n    grads = K.gradients(loss, params)\n  File \"C:\\Users\\Charles\\Anaconda3\\envs\\condathree\\lib\\site-packages\\keras\\backend\\tensorflow_backend.py\", line 2519, in gradients\n    return tf.gradients(loss, variables, colocate_gradients_with_ops=True)\n  File \"C:\\Users\\Charles\\Anaconda3\\envs\\condathree\\lib\\site-packages\\tensorflow\\python\\ops\\gradients_impl.py\", line 494, in gradients\n    gate_gradients, aggregation_method, stop_gradients)\n  File \"C:\\Users\\Charles\\Anaconda3\\envs\\condathree\\lib\\site-packages\\tensorflow\\python\\ops\\gradients_impl.py\", line 636, in _GradientsHelper\n    lambda: grad_fn(op, *out_grads))\n  File \"C:\\Users\\Charles\\Anaconda3\\envs\\condathree\\lib\\site-packages\\tensorflow\\python\\ops\\gradients_impl.py\", line 385, in _MaybeCompile\n    return grad_fn()  # Exit early\n  File \"C:\\Users\\Charles\\Anaconda3\\envs\\condathree\\lib\\site-packages\\tensorflow\\python\\ops\\gradients_impl.py\", line 636, in <lambda>\n    lambda: grad_fn(op, *out_grads))\n  File \"C:\\Users\\Charles\\Anaconda3\\envs\\condathree\\lib\\site-packages\\tensorflow\\python\\ops\\math_grad.py\", line 874, in _MulGrad\n    rx, ry = gen_array_ops.broadcast_gradient_args(sx, sy)\n  File \"C:\\Users\\Charles\\Anaconda3\\envs\\condathree\\lib\\site-packages\\tensorflow\\python\\ops\\gen_array_ops.py\", line 812, in broadcast_gradient_args\n    \"BroadcastGradientArgs\", s0=s0, s1=s1, name=name)\n  File \"C:\\Users\\Charles\\Anaconda3\\envs\\condathree\\lib\\site-packages\\tensorflow\\python\\framework\\op_def_library.py\", line 787, in _apply_op_helper\n    op_def=op_def)\n  File \"C:\\Users\\Charles\\Anaconda3\\envs\\condathree\\lib\\site-packages\\tensorflow\\python\\framework\\ops.py\", line 3392, in create_op\n    op_def=op_def)\n  File \"C:\\Users\\Charles\\Anaconda3\\envs\\condathree\\lib\\site-packages\\tensorflow\\python\\framework\\ops.py\", line 1718, in __init__\n    self._traceback = self._graph._extract_stack()  # pylint: disable=protected-access\n\n...which was originally created as op 'loss_3/rythm_loss/mul_1', defined at:\n  File \"C:\\Users\\Charles\\Anaconda3\\envs\\condathree\\lib\\runpy.py\", line 193, in _run_module_as_main\n    \"__main__\", mod_spec)\n[elided 20 identical lines from previous traceback]\n  File \"C:\\Users\\Charles\\Anaconda3\\envs\\condathree\\lib\\site-packages\\IPython\\core\\interactiveshell.py\", line 2785, in _run_cell\n    interactivity=interactivity, compiler=compiler, result=result)\n  File \"C:\\Users\\Charles\\Anaconda3\\envs\\condathree\\lib\\site-packages\\IPython\\core\\interactiveshell.py\", line 2903, in run_ast_nodes\n    if self.run_code(code, result):\n  File \"C:\\Users\\Charles\\Anaconda3\\envs\\condathree\\lib\\site-packages\\IPython\\core\\interactiveshell.py\", line 2963, in run_code\n    exec(code_obj, self.user_global_ns, self.user_ns)\n  File \"<ipython-input-29-07dc8a1f21ca>\", line 6, in <module>\n    epsilon_std=1.)\n  File \"<ipython-input-18-e0f1bf65107e>\", line 110, in create_lstm_vae\n    vae.compile(optimizer='adam', loss={\"pitch\":vae_loss_pitch, \"rythm\":vae_loss_rythm})\n  File \"C:\\Users\\Charles\\Anaconda3\\envs\\condathree\\lib\\site-packages\\keras\\engine\\training.py\", line 830, in compile\n    sample_weight, mask)\n  File \"C:\\Users\\Charles\\Anaconda3\\envs\\condathree\\lib\\site-packages\\keras\\engine\\training.py\", line 445, in weighted\n    score_array *= weights\n  File \"C:\\Users\\Charles\\Anaconda3\\envs\\condathree\\lib\\site-packages\\tensorflow\\python\\ops\\math_ops.py\", line 979, in binary_op_wrapper\n    return func(x, y, name=name)\n  File \"C:\\Users\\Charles\\Anaconda3\\envs\\condathree\\lib\\site-packages\\tensorflow\\python\\ops\\math_ops.py\", line 1211, in _mul_dispatch\n    return gen_math_ops.mul(x, y, name=name)\n  File \"C:\\Users\\Charles\\Anaconda3\\envs\\condathree\\lib\\site-packages\\tensorflow\\python\\ops\\gen_math_ops.py\", line 5066, in mul\n    \"Mul\", x=x, y=y, name=name)\n  File \"C:\\Users\\Charles\\Anaconda3\\envs\\condathree\\lib\\site-packages\\tensorflow\\python\\framework\\op_def_library.py\", line 787, in _apply_op_helper\n    op_def=op_def)\n  File \"C:\\Users\\Charles\\Anaconda3\\envs\\condathree\\lib\\site-packages\\tensorflow\\python\\framework\\ops.py\", line 3392, in create_op\n    op_def=op_def)\n  File \"C:\\Users\\Charles\\Anaconda3\\envs\\condathree\\lib\\site-packages\\tensorflow\\python\\framework\\ops.py\", line 1718, in __init__\n    self._traceback = self._graph._extract_stack()  # pylint: disable=protected-access\n\nInvalidArgumentError (see above for traceback): Incompatible shapes: [100] vs. [32]\n\t [[Node: training_1/Adam/gradients/loss_3/rythm_loss/mul_1_grad/BroadcastGradientArgs = BroadcastGradientArgs[T=DT_INT32, _class=[\"loc:@training_1/Adam/gradients/loss_3/rythm_loss/mul_1_grad/Sum\"], _device=\"/job:localhost/replica:0/task:0/device:GPU:0\"](training_1/Adam/gradients/loss_3/rythm_loss/mul_1_grad/Shape, training_1/Adam/gradients/loss_3/rythm_loss/mul_1_grad/Shape_1)]]\n\t [[Node: loss_3/rythm_loss/Mean_2/_711 = _Recv[client_terminated=false, recv_device=\"/job:localhost/replica:0/task:0/device:CPU:0\", send_device=\"/job:localhost/replica:0/task:0/device:GPU:0\", send_device_incarnation=1, tensor_name=\"edge_6812_loss_3/rythm_loss/Mean_2\", tensor_type=DT_FLOAT, _device=\"/job:localhost/replica:0/task:0/device:CPU:0\"]()]]\n",
     "output_type": "error",
     "traceback": [
      "\u001b[1;31m---------------------------------------------------------------------------\u001b[0m",
      "\u001b[1;31mInvalidArgumentError\u001b[0m                      Traceback (most recent call last)",
      "\u001b[1;32m~\\Anaconda3\\envs\\condathree\\lib\\site-packages\\tensorflow\\python\\client\\session.py\u001b[0m in \u001b[0;36m_do_call\u001b[1;34m(self, fn, *args)\u001b[0m\n\u001b[0;32m   1321\u001b[0m     \u001b[1;32mtry\u001b[0m\u001b[1;33m:\u001b[0m\u001b[1;33m\u001b[0m\u001b[0m\n\u001b[1;32m-> 1322\u001b[1;33m       \u001b[1;32mreturn\u001b[0m \u001b[0mfn\u001b[0m\u001b[1;33m(\u001b[0m\u001b[1;33m*\u001b[0m\u001b[0margs\u001b[0m\u001b[1;33m)\u001b[0m\u001b[1;33m\u001b[0m\u001b[0m\n\u001b[0m\u001b[0;32m   1323\u001b[0m     \u001b[1;32mexcept\u001b[0m \u001b[0merrors\u001b[0m\u001b[1;33m.\u001b[0m\u001b[0mOpError\u001b[0m \u001b[1;32mas\u001b[0m \u001b[0me\u001b[0m\u001b[1;33m:\u001b[0m\u001b[1;33m\u001b[0m\u001b[0m\n",
      "\u001b[1;32m~\\Anaconda3\\envs\\condathree\\lib\\site-packages\\tensorflow\\python\\client\\session.py\u001b[0m in \u001b[0;36m_run_fn\u001b[1;34m(feed_dict, fetch_list, target_list, options, run_metadata)\u001b[0m\n\u001b[0;32m   1306\u001b[0m       return self._call_tf_sessionrun(\n\u001b[1;32m-> 1307\u001b[1;33m           options, feed_dict, fetch_list, target_list, run_metadata)\n\u001b[0m\u001b[0;32m   1308\u001b[0m \u001b[1;33m\u001b[0m\u001b[0m\n",
      "\u001b[1;32m~\\Anaconda3\\envs\\condathree\\lib\\site-packages\\tensorflow\\python\\client\\session.py\u001b[0m in \u001b[0;36m_call_tf_sessionrun\u001b[1;34m(self, options, feed_dict, fetch_list, target_list, run_metadata)\u001b[0m\n\u001b[0;32m   1408\u001b[0m           \u001b[0mself\u001b[0m\u001b[1;33m.\u001b[0m\u001b[0m_session\u001b[0m\u001b[1;33m,\u001b[0m \u001b[0moptions\u001b[0m\u001b[1;33m,\u001b[0m \u001b[0mfeed_dict\u001b[0m\u001b[1;33m,\u001b[0m \u001b[0mfetch_list\u001b[0m\u001b[1;33m,\u001b[0m \u001b[0mtarget_list\u001b[0m\u001b[1;33m,\u001b[0m\u001b[1;33m\u001b[0m\u001b[0m\n\u001b[1;32m-> 1409\u001b[1;33m           run_metadata)\n\u001b[0m\u001b[0;32m   1410\u001b[0m     \u001b[1;32melse\u001b[0m\u001b[1;33m:\u001b[0m\u001b[1;33m\u001b[0m\u001b[0m\n",
      "\u001b[1;31mInvalidArgumentError\u001b[0m: Incompatible shapes: [100] vs. [32]\n\t [[Node: training_1/Adam/gradients/loss_3/rythm_loss/mul_1_grad/BroadcastGradientArgs = BroadcastGradientArgs[T=DT_INT32, _class=[\"loc:@training_1/Adam/gradients/loss_3/rythm_loss/mul_1_grad/Sum\"], _device=\"/job:localhost/replica:0/task:0/device:GPU:0\"](training_1/Adam/gradients/loss_3/rythm_loss/mul_1_grad/Shape, training_1/Adam/gradients/loss_3/rythm_loss/mul_1_grad/Shape_1)]]\n\t [[Node: loss_3/rythm_loss/Mean_2/_711 = _Recv[client_terminated=false, recv_device=\"/job:localhost/replica:0/task:0/device:CPU:0\", send_device=\"/job:localhost/replica:0/task:0/device:GPU:0\", send_device_incarnation=1, tensor_name=\"edge_6812_loss_3/rythm_loss/Mean_2\", tensor_type=DT_FLOAT, _device=\"/job:localhost/replica:0/task:0/device:CPU:0\"]()]]",
      "\nDuring handling of the above exception, another exception occurred:\n",
      "\u001b[1;31mInvalidArgumentError\u001b[0m                      Traceback (most recent call last)",
      "\u001b[1;32m<ipython-input-31-d98775f29a38>\u001b[0m in \u001b[0;36m<module>\u001b[1;34m()\u001b[0m\n\u001b[1;32m----> 1\u001b[1;33m \u001b[0mvae\u001b[0m\u001b[1;33m.\u001b[0m\u001b[0mfit\u001b[0m\u001b[1;33m(\u001b[0m\u001b[1;33m{\u001b[0m\u001b[1;34m\"pitch_input\"\u001b[0m\u001b[1;33m:\u001b[0m\u001b[0mX_pitch_np\u001b[0m\u001b[1;33m,\u001b[0m \u001b[1;34m\"rythm_input\"\u001b[0m\u001b[1;33m:\u001b[0m\u001b[0mX_rythm_np\u001b[0m\u001b[1;33m}\u001b[0m\u001b[1;33m,\u001b[0m \u001b[1;33m{\u001b[0m\u001b[1;34m\"pitch\"\u001b[0m\u001b[1;33m:\u001b[0m\u001b[0mX_pitch_np\u001b[0m\u001b[1;33m,\u001b[0m \u001b[1;34m\"rythm\"\u001b[0m\u001b[1;33m:\u001b[0m\u001b[0mX_rythm_np\u001b[0m\u001b[1;33m}\u001b[0m\u001b[1;33m)\u001b[0m\u001b[1;33m\u001b[0m\u001b[0m\n\u001b[0m",
      "\u001b[1;32m~\\Anaconda3\\envs\\condathree\\lib\\site-packages\\keras\\engine\\training.py\u001b[0m in \u001b[0;36mfit\u001b[1;34m(self, x, y, batch_size, epochs, verbose, callbacks, validation_split, validation_data, shuffle, class_weight, sample_weight, initial_epoch, steps_per_epoch, validation_steps, **kwargs)\u001b[0m\n\u001b[0;32m   1703\u001b[0m                               \u001b[0minitial_epoch\u001b[0m\u001b[1;33m=\u001b[0m\u001b[0minitial_epoch\u001b[0m\u001b[1;33m,\u001b[0m\u001b[1;33m\u001b[0m\u001b[0m\n\u001b[0;32m   1704\u001b[0m                               \u001b[0msteps_per_epoch\u001b[0m\u001b[1;33m=\u001b[0m\u001b[0msteps_per_epoch\u001b[0m\u001b[1;33m,\u001b[0m\u001b[1;33m\u001b[0m\u001b[0m\n\u001b[1;32m-> 1705\u001b[1;33m                               validation_steps=validation_steps)\n\u001b[0m\u001b[0;32m   1706\u001b[0m \u001b[1;33m\u001b[0m\u001b[0m\n\u001b[0;32m   1707\u001b[0m     def evaluate(self, x=None, y=None,\n",
      "\u001b[1;32m~\\Anaconda3\\envs\\condathree\\lib\\site-packages\\keras\\engine\\training.py\u001b[0m in \u001b[0;36m_fit_loop\u001b[1;34m(self, f, ins, out_labels, batch_size, epochs, verbose, callbacks, val_f, val_ins, shuffle, callback_metrics, initial_epoch, steps_per_epoch, validation_steps)\u001b[0m\n\u001b[0;32m   1234\u001b[0m                         \u001b[0mins_batch\u001b[0m\u001b[1;33m[\u001b[0m\u001b[0mi\u001b[0m\u001b[1;33m]\u001b[0m \u001b[1;33m=\u001b[0m \u001b[0mins_batch\u001b[0m\u001b[1;33m[\u001b[0m\u001b[0mi\u001b[0m\u001b[1;33m]\u001b[0m\u001b[1;33m.\u001b[0m\u001b[0mtoarray\u001b[0m\u001b[1;33m(\u001b[0m\u001b[1;33m)\u001b[0m\u001b[1;33m\u001b[0m\u001b[0m\n\u001b[0;32m   1235\u001b[0m \u001b[1;33m\u001b[0m\u001b[0m\n\u001b[1;32m-> 1236\u001b[1;33m                     \u001b[0mouts\u001b[0m \u001b[1;33m=\u001b[0m \u001b[0mf\u001b[0m\u001b[1;33m(\u001b[0m\u001b[0mins_batch\u001b[0m\u001b[1;33m)\u001b[0m\u001b[1;33m\u001b[0m\u001b[0m\n\u001b[0m\u001b[0;32m   1237\u001b[0m                     \u001b[1;32mif\u001b[0m \u001b[1;32mnot\u001b[0m \u001b[0misinstance\u001b[0m\u001b[1;33m(\u001b[0m\u001b[0mouts\u001b[0m\u001b[1;33m,\u001b[0m \u001b[0mlist\u001b[0m\u001b[1;33m)\u001b[0m\u001b[1;33m:\u001b[0m\u001b[1;33m\u001b[0m\u001b[0m\n\u001b[0;32m   1238\u001b[0m                         \u001b[0mouts\u001b[0m \u001b[1;33m=\u001b[0m \u001b[1;33m[\u001b[0m\u001b[0mouts\u001b[0m\u001b[1;33m]\u001b[0m\u001b[1;33m\u001b[0m\u001b[0m\n",
      "\u001b[1;32m~\\Anaconda3\\envs\\condathree\\lib\\site-packages\\keras\\backend\\tensorflow_backend.py\u001b[0m in \u001b[0;36m__call__\u001b[1;34m(self, inputs)\u001b[0m\n\u001b[0;32m   2480\u001b[0m         \u001b[0msession\u001b[0m \u001b[1;33m=\u001b[0m \u001b[0mget_session\u001b[0m\u001b[1;33m(\u001b[0m\u001b[1;33m)\u001b[0m\u001b[1;33m\u001b[0m\u001b[0m\n\u001b[0;32m   2481\u001b[0m         updated = session.run(fetches=fetches, feed_dict=feed_dict,\n\u001b[1;32m-> 2482\u001b[1;33m                               **self.session_kwargs)\n\u001b[0m\u001b[0;32m   2483\u001b[0m         \u001b[1;32mreturn\u001b[0m \u001b[0mupdated\u001b[0m\u001b[1;33m[\u001b[0m\u001b[1;33m:\u001b[0m\u001b[0mlen\u001b[0m\u001b[1;33m(\u001b[0m\u001b[0mself\u001b[0m\u001b[1;33m.\u001b[0m\u001b[0moutputs\u001b[0m\u001b[1;33m)\u001b[0m\u001b[1;33m]\u001b[0m\u001b[1;33m\u001b[0m\u001b[0m\n\u001b[0;32m   2484\u001b[0m \u001b[1;33m\u001b[0m\u001b[0m\n",
      "\u001b[1;32m~\\Anaconda3\\envs\\condathree\\lib\\site-packages\\tensorflow\\python\\client\\session.py\u001b[0m in \u001b[0;36mrun\u001b[1;34m(self, fetches, feed_dict, options, run_metadata)\u001b[0m\n\u001b[0;32m    898\u001b[0m     \u001b[1;32mtry\u001b[0m\u001b[1;33m:\u001b[0m\u001b[1;33m\u001b[0m\u001b[0m\n\u001b[0;32m    899\u001b[0m       result = self._run(None, fetches, feed_dict, options_ptr,\n\u001b[1;32m--> 900\u001b[1;33m                          run_metadata_ptr)\n\u001b[0m\u001b[0;32m    901\u001b[0m       \u001b[1;32mif\u001b[0m \u001b[0mrun_metadata\u001b[0m\u001b[1;33m:\u001b[0m\u001b[1;33m\u001b[0m\u001b[0m\n\u001b[0;32m    902\u001b[0m         \u001b[0mproto_data\u001b[0m \u001b[1;33m=\u001b[0m \u001b[0mtf_session\u001b[0m\u001b[1;33m.\u001b[0m\u001b[0mTF_GetBuffer\u001b[0m\u001b[1;33m(\u001b[0m\u001b[0mrun_metadata_ptr\u001b[0m\u001b[1;33m)\u001b[0m\u001b[1;33m\u001b[0m\u001b[0m\n",
      "\u001b[1;32m~\\Anaconda3\\envs\\condathree\\lib\\site-packages\\tensorflow\\python\\client\\session.py\u001b[0m in \u001b[0;36m_run\u001b[1;34m(self, handle, fetches, feed_dict, options, run_metadata)\u001b[0m\n\u001b[0;32m   1133\u001b[0m     \u001b[1;32mif\u001b[0m \u001b[0mfinal_fetches\u001b[0m \u001b[1;32mor\u001b[0m \u001b[0mfinal_targets\u001b[0m \u001b[1;32mor\u001b[0m \u001b[1;33m(\u001b[0m\u001b[0mhandle\u001b[0m \u001b[1;32mand\u001b[0m \u001b[0mfeed_dict_tensor\u001b[0m\u001b[1;33m)\u001b[0m\u001b[1;33m:\u001b[0m\u001b[1;33m\u001b[0m\u001b[0m\n\u001b[0;32m   1134\u001b[0m       results = self._do_run(handle, final_targets, final_fetches,\n\u001b[1;32m-> 1135\u001b[1;33m                              feed_dict_tensor, options, run_metadata)\n\u001b[0m\u001b[0;32m   1136\u001b[0m     \u001b[1;32melse\u001b[0m\u001b[1;33m:\u001b[0m\u001b[1;33m\u001b[0m\u001b[0m\n\u001b[0;32m   1137\u001b[0m       \u001b[0mresults\u001b[0m \u001b[1;33m=\u001b[0m \u001b[1;33m[\u001b[0m\u001b[1;33m]\u001b[0m\u001b[1;33m\u001b[0m\u001b[0m\n",
      "\u001b[1;32m~\\Anaconda3\\envs\\condathree\\lib\\site-packages\\tensorflow\\python\\client\\session.py\u001b[0m in \u001b[0;36m_do_run\u001b[1;34m(self, handle, target_list, fetch_list, feed_dict, options, run_metadata)\u001b[0m\n\u001b[0;32m   1314\u001b[0m     \u001b[1;32mif\u001b[0m \u001b[0mhandle\u001b[0m \u001b[1;32mis\u001b[0m \u001b[1;32mNone\u001b[0m\u001b[1;33m:\u001b[0m\u001b[1;33m\u001b[0m\u001b[0m\n\u001b[0;32m   1315\u001b[0m       return self._do_call(_run_fn, feeds, fetches, targets, options,\n\u001b[1;32m-> 1316\u001b[1;33m                            run_metadata)\n\u001b[0m\u001b[0;32m   1317\u001b[0m     \u001b[1;32melse\u001b[0m\u001b[1;33m:\u001b[0m\u001b[1;33m\u001b[0m\u001b[0m\n\u001b[0;32m   1318\u001b[0m       \u001b[1;32mreturn\u001b[0m \u001b[0mself\u001b[0m\u001b[1;33m.\u001b[0m\u001b[0m_do_call\u001b[0m\u001b[1;33m(\u001b[0m\u001b[0m_prun_fn\u001b[0m\u001b[1;33m,\u001b[0m \u001b[0mhandle\u001b[0m\u001b[1;33m,\u001b[0m \u001b[0mfeeds\u001b[0m\u001b[1;33m,\u001b[0m \u001b[0mfetches\u001b[0m\u001b[1;33m)\u001b[0m\u001b[1;33m\u001b[0m\u001b[0m\n",
      "\u001b[1;32m~\\Anaconda3\\envs\\condathree\\lib\\site-packages\\tensorflow\\python\\client\\session.py\u001b[0m in \u001b[0;36m_do_call\u001b[1;34m(self, fn, *args)\u001b[0m\n\u001b[0;32m   1333\u001b[0m         \u001b[1;32mexcept\u001b[0m \u001b[0mKeyError\u001b[0m\u001b[1;33m:\u001b[0m\u001b[1;33m\u001b[0m\u001b[0m\n\u001b[0;32m   1334\u001b[0m           \u001b[1;32mpass\u001b[0m\u001b[1;33m\u001b[0m\u001b[0m\n\u001b[1;32m-> 1335\u001b[1;33m       \u001b[1;32mraise\u001b[0m \u001b[0mtype\u001b[0m\u001b[1;33m(\u001b[0m\u001b[0me\u001b[0m\u001b[1;33m)\u001b[0m\u001b[1;33m(\u001b[0m\u001b[0mnode_def\u001b[0m\u001b[1;33m,\u001b[0m \u001b[0mop\u001b[0m\u001b[1;33m,\u001b[0m \u001b[0mmessage\u001b[0m\u001b[1;33m)\u001b[0m\u001b[1;33m\u001b[0m\u001b[0m\n\u001b[0m\u001b[0;32m   1336\u001b[0m \u001b[1;33m\u001b[0m\u001b[0m\n\u001b[0;32m   1337\u001b[0m   \u001b[1;32mdef\u001b[0m \u001b[0m_extend_graph\u001b[0m\u001b[1;33m(\u001b[0m\u001b[0mself\u001b[0m\u001b[1;33m)\u001b[0m\u001b[1;33m:\u001b[0m\u001b[1;33m\u001b[0m\u001b[0m\n",
      "\u001b[1;31mInvalidArgumentError\u001b[0m: Incompatible shapes: [100] vs. [32]\n\t [[Node: training_1/Adam/gradients/loss_3/rythm_loss/mul_1_grad/BroadcastGradientArgs = BroadcastGradientArgs[T=DT_INT32, _class=[\"loc:@training_1/Adam/gradients/loss_3/rythm_loss/mul_1_grad/Sum\"], _device=\"/job:localhost/replica:0/task:0/device:GPU:0\"](training_1/Adam/gradients/loss_3/rythm_loss/mul_1_grad/Shape, training_1/Adam/gradients/loss_3/rythm_loss/mul_1_grad/Shape_1)]]\n\t [[Node: loss_3/rythm_loss/Mean_2/_711 = _Recv[client_terminated=false, recv_device=\"/job:localhost/replica:0/task:0/device:CPU:0\", send_device=\"/job:localhost/replica:0/task:0/device:GPU:0\", send_device_incarnation=1, tensor_name=\"edge_6812_loss_3/rythm_loss/Mean_2\", tensor_type=DT_FLOAT, _device=\"/job:localhost/replica:0/task:0/device:CPU:0\"]()]]\n\nCaused by op 'training_1/Adam/gradients/loss_3/rythm_loss/mul_1_grad/BroadcastGradientArgs', defined at:\n  File \"C:\\Users\\Charles\\Anaconda3\\envs\\condathree\\lib\\runpy.py\", line 193, in _run_module_as_main\n    \"__main__\", mod_spec)\n  File \"C:\\Users\\Charles\\Anaconda3\\envs\\condathree\\lib\\runpy.py\", line 85, in _run_code\n    exec(code, run_globals)\n  File \"C:\\Users\\Charles\\Anaconda3\\envs\\condathree\\lib\\site-packages\\ipykernel\\__main__.py\", line 3, in <module>\n    app.launch_new_instance()\n  File \"C:\\Users\\Charles\\Anaconda3\\envs\\condathree\\lib\\site-packages\\traitlets\\config\\application.py\", line 658, in launch_instance\n    app.start()\n  File \"C:\\Users\\Charles\\Anaconda3\\envs\\condathree\\lib\\site-packages\\ipykernel\\kernelapp.py\", line 486, in start\n    self.io_loop.start()\n  File \"C:\\Users\\Charles\\Anaconda3\\envs\\condathree\\lib\\site-packages\\tornado\\platform\\asyncio.py\", line 127, in start\n    self.asyncio_loop.run_forever()\n  File \"C:\\Users\\Charles\\Anaconda3\\envs\\condathree\\lib\\asyncio\\base_events.py\", line 421, in run_forever\n    self._run_once()\n  File \"C:\\Users\\Charles\\Anaconda3\\envs\\condathree\\lib\\asyncio\\base_events.py\", line 1425, in _run_once\n    handle._run()\n  File \"C:\\Users\\Charles\\Anaconda3\\envs\\condathree\\lib\\asyncio\\events.py\", line 127, in _run\n    self._callback(*self._args)\n  File \"C:\\Users\\Charles\\Anaconda3\\envs\\condathree\\lib\\site-packages\\tornado\\platform\\asyncio.py\", line 117, in _handle_events\n    handler_func(fileobj, events)\n  File \"C:\\Users\\Charles\\Anaconda3\\envs\\condathree\\lib\\site-packages\\tornado\\stack_context.py\", line 276, in null_wrapper\n    return fn(*args, **kwargs)\n  File \"C:\\Users\\Charles\\Anaconda3\\envs\\condathree\\lib\\site-packages\\zmq\\eventloop\\zmqstream.py\", line 450, in _handle_events\n    self._handle_recv()\n  File \"C:\\Users\\Charles\\Anaconda3\\envs\\condathree\\lib\\site-packages\\zmq\\eventloop\\zmqstream.py\", line 480, in _handle_recv\n    self._run_callback(callback, msg)\n  File \"C:\\Users\\Charles\\Anaconda3\\envs\\condathree\\lib\\site-packages\\zmq\\eventloop\\zmqstream.py\", line 432, in _run_callback\n    callback(*args, **kwargs)\n  File \"C:\\Users\\Charles\\Anaconda3\\envs\\condathree\\lib\\site-packages\\tornado\\stack_context.py\", line 276, in null_wrapper\n    return fn(*args, **kwargs)\n  File \"C:\\Users\\Charles\\Anaconda3\\envs\\condathree\\lib\\site-packages\\ipykernel\\kernelbase.py\", line 283, in dispatcher\n    return self.dispatch_shell(stream, msg)\n  File \"C:\\Users\\Charles\\Anaconda3\\envs\\condathree\\lib\\site-packages\\ipykernel\\kernelbase.py\", line 233, in dispatch_shell\n    handler(stream, idents, msg)\n  File \"C:\\Users\\Charles\\Anaconda3\\envs\\condathree\\lib\\site-packages\\ipykernel\\kernelbase.py\", line 399, in execute_request\n    user_expressions, allow_stdin)\n  File \"C:\\Users\\Charles\\Anaconda3\\envs\\condathree\\lib\\site-packages\\ipykernel\\ipkernel.py\", line 208, in do_execute\n    res = shell.run_cell(code, store_history=store_history, silent=silent)\n  File \"C:\\Users\\Charles\\Anaconda3\\envs\\condathree\\lib\\site-packages\\ipykernel\\zmqshell.py\", line 537, in run_cell\n    return super(ZMQInteractiveShell, self).run_cell(*args, **kwargs)\n  File \"C:\\Users\\Charles\\Anaconda3\\envs\\condathree\\lib\\site-packages\\IPython\\core\\interactiveshell.py\", line 2662, in run_cell\n    raw_cell, store_history, silent, shell_futures)\n  File \"C:\\Users\\Charles\\Anaconda3\\envs\\condathree\\lib\\site-packages\\IPython\\core\\interactiveshell.py\", line 2785, in _run_cell\n    interactivity=interactivity, compiler=compiler, result=result)\n  File \"C:\\Users\\Charles\\Anaconda3\\envs\\condathree\\lib\\site-packages\\IPython\\core\\interactiveshell.py\", line 2909, in run_ast_nodes\n    if self.run_code(code, result):\n  File \"C:\\Users\\Charles\\Anaconda3\\envs\\condathree\\lib\\site-packages\\IPython\\core\\interactiveshell.py\", line 2963, in run_code\n    exec(code_obj, self.user_global_ns, self.user_ns)\n  File \"<ipython-input-31-d98775f29a38>\", line 1, in <module>\n    vae.fit({\"pitch_input\":X_pitch_np, \"rythm_input\":X_rythm_np}, {\"pitch\":X_pitch_np, \"rythm\":X_rythm_np})\n  File \"C:\\Users\\Charles\\Anaconda3\\envs\\condathree\\lib\\site-packages\\keras\\engine\\training.py\", line 1682, in fit\n    self._make_train_function()\n  File \"C:\\Users\\Charles\\Anaconda3\\envs\\condathree\\lib\\site-packages\\keras\\engine\\training.py\", line 992, in _make_train_function\n    loss=self.total_loss)\n  File \"C:\\Users\\Charles\\Anaconda3\\envs\\condathree\\lib\\site-packages\\keras\\legacy\\interfaces.py\", line 91, in wrapper\n    return func(*args, **kwargs)\n  File \"C:\\Users\\Charles\\Anaconda3\\envs\\condathree\\lib\\site-packages\\keras\\optimizers.py\", line 445, in get_updates\n    grads = self.get_gradients(loss, params)\n  File \"C:\\Users\\Charles\\Anaconda3\\envs\\condathree\\lib\\site-packages\\keras\\optimizers.py\", line 78, in get_gradients\n    grads = K.gradients(loss, params)\n  File \"C:\\Users\\Charles\\Anaconda3\\envs\\condathree\\lib\\site-packages\\keras\\backend\\tensorflow_backend.py\", line 2519, in gradients\n    return tf.gradients(loss, variables, colocate_gradients_with_ops=True)\n  File \"C:\\Users\\Charles\\Anaconda3\\envs\\condathree\\lib\\site-packages\\tensorflow\\python\\ops\\gradients_impl.py\", line 494, in gradients\n    gate_gradients, aggregation_method, stop_gradients)\n  File \"C:\\Users\\Charles\\Anaconda3\\envs\\condathree\\lib\\site-packages\\tensorflow\\python\\ops\\gradients_impl.py\", line 636, in _GradientsHelper\n    lambda: grad_fn(op, *out_grads))\n  File \"C:\\Users\\Charles\\Anaconda3\\envs\\condathree\\lib\\site-packages\\tensorflow\\python\\ops\\gradients_impl.py\", line 385, in _MaybeCompile\n    return grad_fn()  # Exit early\n  File \"C:\\Users\\Charles\\Anaconda3\\envs\\condathree\\lib\\site-packages\\tensorflow\\python\\ops\\gradients_impl.py\", line 636, in <lambda>\n    lambda: grad_fn(op, *out_grads))\n  File \"C:\\Users\\Charles\\Anaconda3\\envs\\condathree\\lib\\site-packages\\tensorflow\\python\\ops\\math_grad.py\", line 874, in _MulGrad\n    rx, ry = gen_array_ops.broadcast_gradient_args(sx, sy)\n  File \"C:\\Users\\Charles\\Anaconda3\\envs\\condathree\\lib\\site-packages\\tensorflow\\python\\ops\\gen_array_ops.py\", line 812, in broadcast_gradient_args\n    \"BroadcastGradientArgs\", s0=s0, s1=s1, name=name)\n  File \"C:\\Users\\Charles\\Anaconda3\\envs\\condathree\\lib\\site-packages\\tensorflow\\python\\framework\\op_def_library.py\", line 787, in _apply_op_helper\n    op_def=op_def)\n  File \"C:\\Users\\Charles\\Anaconda3\\envs\\condathree\\lib\\site-packages\\tensorflow\\python\\framework\\ops.py\", line 3392, in create_op\n    op_def=op_def)\n  File \"C:\\Users\\Charles\\Anaconda3\\envs\\condathree\\lib\\site-packages\\tensorflow\\python\\framework\\ops.py\", line 1718, in __init__\n    self._traceback = self._graph._extract_stack()  # pylint: disable=protected-access\n\n...which was originally created as op 'loss_3/rythm_loss/mul_1', defined at:\n  File \"C:\\Users\\Charles\\Anaconda3\\envs\\condathree\\lib\\runpy.py\", line 193, in _run_module_as_main\n    \"__main__\", mod_spec)\n[elided 20 identical lines from previous traceback]\n  File \"C:\\Users\\Charles\\Anaconda3\\envs\\condathree\\lib\\site-packages\\IPython\\core\\interactiveshell.py\", line 2785, in _run_cell\n    interactivity=interactivity, compiler=compiler, result=result)\n  File \"C:\\Users\\Charles\\Anaconda3\\envs\\condathree\\lib\\site-packages\\IPython\\core\\interactiveshell.py\", line 2903, in run_ast_nodes\n    if self.run_code(code, result):\n  File \"C:\\Users\\Charles\\Anaconda3\\envs\\condathree\\lib\\site-packages\\IPython\\core\\interactiveshell.py\", line 2963, in run_code\n    exec(code_obj, self.user_global_ns, self.user_ns)\n  File \"<ipython-input-29-07dc8a1f21ca>\", line 6, in <module>\n    epsilon_std=1.)\n  File \"<ipython-input-18-e0f1bf65107e>\", line 110, in create_lstm_vae\n    vae.compile(optimizer='adam', loss={\"pitch\":vae_loss_pitch, \"rythm\":vae_loss_rythm})\n  File \"C:\\Users\\Charles\\Anaconda3\\envs\\condathree\\lib\\site-packages\\keras\\engine\\training.py\", line 830, in compile\n    sample_weight, mask)\n  File \"C:\\Users\\Charles\\Anaconda3\\envs\\condathree\\lib\\site-packages\\keras\\engine\\training.py\", line 445, in weighted\n    score_array *= weights\n  File \"C:\\Users\\Charles\\Anaconda3\\envs\\condathree\\lib\\site-packages\\tensorflow\\python\\ops\\math_ops.py\", line 979, in binary_op_wrapper\n    return func(x, y, name=name)\n  File \"C:\\Users\\Charles\\Anaconda3\\envs\\condathree\\lib\\site-packages\\tensorflow\\python\\ops\\math_ops.py\", line 1211, in _mul_dispatch\n    return gen_math_ops.mul(x, y, name=name)\n  File \"C:\\Users\\Charles\\Anaconda3\\envs\\condathree\\lib\\site-packages\\tensorflow\\python\\ops\\gen_math_ops.py\", line 5066, in mul\n    \"Mul\", x=x, y=y, name=name)\n  File \"C:\\Users\\Charles\\Anaconda3\\envs\\condathree\\lib\\site-packages\\tensorflow\\python\\framework\\op_def_library.py\", line 787, in _apply_op_helper\n    op_def=op_def)\n  File \"C:\\Users\\Charles\\Anaconda3\\envs\\condathree\\lib\\site-packages\\tensorflow\\python\\framework\\ops.py\", line 3392, in create_op\n    op_def=op_def)\n  File \"C:\\Users\\Charles\\Anaconda3\\envs\\condathree\\lib\\site-packages\\tensorflow\\python\\framework\\ops.py\", line 1718, in __init__\n    self._traceback = self._graph._extract_stack()  # pylint: disable=protected-access\n\nInvalidArgumentError (see above for traceback): Incompatible shapes: [100] vs. [32]\n\t [[Node: training_1/Adam/gradients/loss_3/rythm_loss/mul_1_grad/BroadcastGradientArgs = BroadcastGradientArgs[T=DT_INT32, _class=[\"loc:@training_1/Adam/gradients/loss_3/rythm_loss/mul_1_grad/Sum\"], _device=\"/job:localhost/replica:0/task:0/device:GPU:0\"](training_1/Adam/gradients/loss_3/rythm_loss/mul_1_grad/Shape, training_1/Adam/gradients/loss_3/rythm_loss/mul_1_grad/Shape_1)]]\n\t [[Node: loss_3/rythm_loss/Mean_2/_711 = _Recv[client_terminated=false, recv_device=\"/job:localhost/replica:0/task:0/device:CPU:0\", send_device=\"/job:localhost/replica:0/task:0/device:GPU:0\", send_device_incarnation=1, tensor_name=\"edge_6812_loss_3/rythm_loss/Mean_2\", tensor_type=DT_FLOAT, _device=\"/job:localhost/replica:0/task:0/device:CPU:0\"]()]]\n"
     ]
    }
   ],
   "source": [
    "vae.fit({\"pitch_input\":X_pitch_np, \"rythm_input\":X_rythm_np}, {\"pitch\":X_pitch_np, \"rythm\":X_rythm_np})"
   ]
  },
  {
   "cell_type": "code",
   "execution_count": 9,
   "metadata": {},
   "outputs": [],
   "source": [
    "from keras.utils import np_utils\n",
    "import numpy as np\n",
    "\n",
    "rythm_X = pickle.load(open( \"jazz_rythm.txt\", \"rb\" ), encoding = 'bytes')\n",
    "pitch_X = pickle.load(open( \"jazz_pitch.txt\", \"rb\" ), encoding = 'bytes')\n",
    "\n",
    "non_trainable_first = 10\n",
    "\n",
    "\n",
    "pitch_output_shape = 25\n",
    "rythm_output_shape = 5\n",
    "\n",
    "X_pitch = []\n",
    "X_rythm = []\n",
    "\n",
    "y_pitch = []\n",
    "y_rythm = []\n",
    "\n",
    "encode_lengths = {1:0, 2:1, 4:2, 8:3, 16:4}\n",
    "\n",
    "def enc_l(arr):\n",
    "    return [encode_lengths[x] for x in arr]\n",
    "\n",
    "for pitch_s, rythm_s in zip(pitch_X, rythm_X):\n",
    "    '''\n",
    "    lgth = (len(pitch_s) - 1) // Tx\n",
    "    for i in range(lgth):\n",
    "        \n",
    "        \n",
    "        X_pitch.append(np_utils.to_categorical(pitch_s[i * Tx: (i + 1) * Tx],pitch_output_shape ))\n",
    "        y_pitch.append(np_utils.to_categorical(pitch_s[i * Tx + non_trainable_first + 1: (i + 1) * Tx + 1],pitch_output_shape))\n",
    "        \n",
    "        X_rythm.append(np_utils.to_categorical(enc_l(rythm_s[i * Tx: (i + 1) * Tx]),rythm_output_shape))\n",
    "        y_rythm.append(np_utils.to_categorical(enc_l(rythm_s[i * Tx + non_trainable_first + 1: (i + 1) * Tx + 1]),rythm_output_shape))\n",
    "    '''\n",
    "    if len(pitch_s) < 24:\n",
    "        continue\n",
    "    lgth = (len(pitch_s) - 24)\n",
    "    \n",
    "    for i in range(lgth):\n",
    "        X_pitch.append(np_utils.to_categorical(pitch_s[i : i + 10], pitch_output_shape ))\n",
    "        y_pitch.append(np_utils.to_categorical(pitch_s[i + 10: i + 20],pitch_output_shape))\n",
    "        \n",
    "        X_rythm.append(np_utils.to_categorical(enc_l(rythm_s[i : i + 10]),rythm_output_shape))\n",
    "        y_rythm.append(np_utils.to_categorical(enc_l(rythm_s[i + 10: i + 20]),rythm_output_shape))\n",
    "        \n",
    "Y_pitch = [list(y_pitch[i]) for i in range(len(y_pitch))]#\n",
    "Y_pitch = np.array([y[0] for y in Y_pitch[:100000]])\n",
    "\n",
    "Y_rythm = [list(y_rythm[i]) for i in range(len(y_rythm))]#\n",
    "Y_rythm = np.array([y[0] for y in Y_rythm[:100000]])\n",
    "\n",
    "\n",
    "X_pitch_np = np.array(X_pitch)[:100000]#[x for x in X_pitch]\n",
    "X_rythm_np = np.array(X_rythm)[:100000]\n"
   ]
  },
  {
   "cell_type": "code",
   "execution_count": 24,
   "metadata": {},
   "outputs": [
    {
     "data": {
      "text/plain": [
       "(100000, 10, 25)"
      ]
     },
     "execution_count": 24,
     "metadata": {},
     "output_type": "execute_result"
    }
   ],
   "source": [
    "X_pitch_np.shape"
   ]
  },
  {
   "cell_type": "code",
   "execution_count": null,
   "metadata": {},
   "outputs": [],
   "source": []
  },
  {
   "cell_type": "code",
   "execution_count": null,
   "metadata": {},
   "outputs": [],
   "source": []
  },
  {
   "cell_type": "code",
   "execution_count": null,
   "metadata": {},
   "outputs": [],
   "source": []
  },
  {
   "cell_type": "code",
   "execution_count": null,
   "metadata": {},
   "outputs": [],
   "source": []
  },
  {
   "cell_type": "code",
   "execution_count": null,
   "metadata": {},
   "outputs": [],
   "source": []
  },
  {
   "cell_type": "code",
   "execution_count": null,
   "metadata": {},
   "outputs": [],
   "source": [
    "    y = Lambda(lambda x: K.mean(-0.5 * K.mean(1 + x[1] - K.square(x[0]) - K.exp(x[1]), axis=-1)))\n",
    "    y = y([z_mean, z_log_var])\n",
    "    out_z.append(y)\n",
    "    "
   ]
  },
  {
   "cell_type": "code",
   "execution_count": 48,
   "metadata": {},
   "outputs": [],
   "source": [
    "\n",
    "\n",
    "from keras.losses import categorical_crossentropy#(y_true, y_pred)\n",
    "from keras import backend as K\n",
    "\n",
    "     \n",
    "\n",
    "opt = Adam(lr=0.01, beta_1=0.9, beta_2=0.999, decay=0.01)#lr=0.01, beta_1=0.9, beta_2=0.999, decay=0.01\n",
    "\n",
    "model.compile(optimizer=opt, loss={'pitch':categorical_crossentropy, 'rythm':vae_lossvae_loss}, metrics=['accuracy'])"
   ]
  },
  {
   "cell_type": "code",
   "execution_count": 28,
   "metadata": {
    "scrolled": true
   },
   "outputs": [
    {
     "name": "stdout",
     "output_type": "stream",
     "text": [
      "Epoch 1/3\n",
      "100000/100000 [==============================] - 250s 3ms/step - loss: 0.4639 - inter_to_pitch_loss: 0.1582 - inter_to_rythm_loss: 0.3057 - inter_to_pitch_acc: 0.2639 - inter_to_rythm_acc: 0.4739\n",
      "Epoch 2/3\n",
      "100000/100000 [==============================] - 241s 2ms/step - loss: 0.4620 - inter_to_pitch_loss: 0.1573 - inter_to_rythm_loss: 0.3046 - inter_to_pitch_acc: 0.2641 - inter_to_rythm_acc: 0.4743\n",
      "Epoch 3/3\n",
      "100000/100000 [==============================] - 241s 2ms/step - loss: 0.4618 - inter_to_pitch_loss: 0.1573 - inter_to_rythm_loss: 0.3046 - inter_to_pitch_acc: 0.2641 - inter_to_rythm_acc: 0.4743\n"
     ]
    },
    {
     "data": {
      "text/plain": [
       "<keras.callbacks.History at 0x28ab462f128>"
      ]
     },
     "execution_count": 28,
     "metadata": {},
     "output_type": "execute_result"
    }
   ],
   "source": [
    "import pickle\n",
    "from keras.utils import np_utils\n",
    "from keras.callbacks import ModelCheckpoint\n",
    "\n",
    "rythm_X = pickle.load(open( \"jazz_rythm.txt\", \"rb\" ), encoding = 'bytes')\n",
    "pitch_X = pickle.load(open( \"jazz_pitch.txt\", \"rb\" ), encoding = 'bytes')\n",
    "\n",
    "non_trainable_first = setting.non_trainable_first\n",
    "Tx = setting.Tx\n",
    "\n",
    "pitch_output_shape = setting.pitch_output_shape\n",
    "rythm_output_shape = setting.rythm_output_shape\n",
    "\n",
    "X_pitch = []\n",
    "X_rythm = []\n",
    "\n",
    "y_pitch = []\n",
    "y_rythm = []\n",
    "\n",
    "encode_lengths = {1:0, 2:1, 4:2, 8:3, 16:4}\n",
    "\n",
    "def enc_l(arr):\n",
    "    return [encode_lengths[x] for x in arr]\n",
    "\n",
    "for pitch_s, rythm_s in zip(pitch_X, rythm_X):\n",
    "    '''\n",
    "    lgth = (len(pitch_s) - 1) // Tx\n",
    "    for i in range(lgth):\n",
    "        \n",
    "        \n",
    "        X_pitch.append(np_utils.to_categorical(pitch_s[i * Tx: (i + 1) * Tx],pitch_output_shape ))\n",
    "        y_pitch.append(np_utils.to_categorical(pitch_s[i * Tx + non_trainable_first + 1: (i + 1) * Tx + 1],pitch_output_shape))\n",
    "        \n",
    "        X_rythm.append(np_utils.to_categorical(enc_l(rythm_s[i * Tx: (i + 1) * Tx]),rythm_output_shape))\n",
    "        y_rythm.append(np_utils.to_categorical(enc_l(rythm_s[i * Tx + non_trainable_first + 1: (i + 1) * Tx + 1]),rythm_output_shape))\n",
    "    '''\n",
    "    if len(pitch_s) < 24:\n",
    "        continue\n",
    "    lgth = (len(pitch_s) - 24)\n",
    "    \n",
    "    for i in range(lgth):\n",
    "        X_pitch.append(np_utils.to_categorical(pitch_s[i : i + 10], pitch_output_shape ))\n",
    "        y_pitch.append(np_utils.to_categorical(pitch_s[i + 10: i + 20],pitch_output_shape))\n",
    "        \n",
    "        X_rythm.append(np_utils.to_categorical(enc_l(rythm_s[i : i + 10]),rythm_output_shape))\n",
    "        y_rythm.append(np_utils.to_categorical(enc_l(rythm_s[i + 10: i + 20]),rythm_output_shape))\n",
    "        \n",
    "Y_pitch = [list(y_pitch[i]) for i in range(len(y_pitch))]#\n",
    "Y_pitch = np.array([y[0] for y in Y_pitch[:100000]])\n",
    "\n",
    "Y_rythm = [list(y_rythm[i]) for i in range(len(y_rythm))]#\n",
    "Y_rythm = np.array([y[0] for y in Y_rythm[:100000]])\n",
    "\n",
    "\n",
    "X_pitch_np = np.array(X_pitch)[:100000]#[x for x in X_pitch]\n",
    "X_rythm_np = np.array(X_rythm)[:100000]\n",
    "\n",
    "\n",
    "\n",
    "m = X_pitch_np.shape[0]\n",
    "\n",
    "manager_internal_shape = setting.manager_internal_shape\n",
    "pitch_internal_shape = setting.pitch_internal_shape\n",
    "rythm_internal_shape = setting.rythm_internal_shape\n",
    "\n",
    "pitch_state_0 = np.zeros((m, pitch_internal_shape))\n",
    "rythm_state_0 = np.zeros((m, rythm_internal_shape))\n",
    "manager_state_0 = np.zeros((m, manager_internal_shape))\n",
    "\n",
    "\n",
    "\n",
    "model.fit([X_pitch_np, X_rythm_np,  pitch_state_0, rythm_state_0, manager_state_0],\\\n",
    "          {'inter_to_pitch':Y_pitch, 'inter_to_rythm':Y_rythm}, batch_size = 100, epochs=3, verbose = 1, shuffle = True)\n"
   ]
  },
  {
   "cell_type": "code",
   "execution_count": 3,
   "metadata": {},
   "outputs": [
    {
     "name": "stdout",
     "output_type": "stream",
     "text": [
      "__________________________________________________________________________________________________\n",
      "Layer (type)                    Output Shape         Param #     Connected to                     \n",
      "==================================================================================================\n",
      "X_pitch (InputLayer)            (None, 10, 25)       0                                            \n",
      "__________________________________________________________________________________________________\n",
      "X_rythm (InputLayer)            (None, 10, 5)        0                                            \n",
      "__________________________________________________________________________________________________\n",
      "lambda_1 (Lambda)               (None, 25, 1)        0           X_pitch[0][0]                    \n",
      "__________________________________________________________________________________________________\n",
      "pitch_state_0 (InputLayer)      (None, 100)          0                                            \n",
      "__________________________________________________________________________________________________\n",
      "lambda_2 (Lambda)               (None, 5, 1)         0           X_rythm[0][0]                    \n",
      "__________________________________________________________________________________________________\n",
      "rythm_state_0 (InputLayer)      (None, 100)          0                                            \n",
      "__________________________________________________________________________________________________\n",
      "pitch_gru (GRU)                 (None, 100)          30600       lambda_1[0][0]                   \n",
      "                                                                 pitch_state_0[0][0]              \n",
      "                                                                 lambda_3[0][0]                   \n",
      "                                                                 pitch_gru[0][0]                  \n",
      "                                                                 lambda_5[0][0]                   \n",
      "                                                                 pitch_gru[1][0]                  \n",
      "                                                                 lambda_7[0][0]                   \n",
      "                                                                 pitch_gru[2][0]                  \n",
      "                                                                 lambda_9[0][0]                   \n",
      "                                                                 pitch_gru[3][0]                  \n",
      "                                                                 lambda_11[0][0]                  \n",
      "                                                                 pitch_gru[4][0]                  \n",
      "                                                                 lambda_13[0][0]                  \n",
      "                                                                 pitch_gru[5][0]                  \n",
      "                                                                 lambda_15[0][0]                  \n",
      "                                                                 pitch_gru[6][0]                  \n",
      "                                                                 lambda_17[0][0]                  \n",
      "                                                                 pitch_gru[7][0]                  \n",
      "                                                                 lambda_19[0][0]                  \n",
      "                                                                 pitch_gru[8][0]                  \n",
      "__________________________________________________________________________________________________\n",
      "lambda_3 (Lambda)               (None, 25, 1)        0           X_pitch[0][0]                    \n",
      "__________________________________________________________________________________________________\n",
      "rythm_gru (GRU)                 (None, 100)          30600       lambda_2[0][0]                   \n",
      "                                                                 rythm_state_0[0][0]              \n",
      "                                                                 lambda_4[0][0]                   \n",
      "                                                                 rythm_gru[0][0]                  \n",
      "                                                                 lambda_6[0][0]                   \n",
      "                                                                 rythm_gru[1][0]                  \n",
      "                                                                 lambda_8[0][0]                   \n",
      "                                                                 rythm_gru[2][0]                  \n",
      "                                                                 lambda_10[0][0]                  \n",
      "                                                                 rythm_gru[3][0]                  \n",
      "                                                                 lambda_12[0][0]                  \n",
      "                                                                 rythm_gru[4][0]                  \n",
      "                                                                 lambda_14[0][0]                  \n",
      "                                                                 rythm_gru[5][0]                  \n",
      "                                                                 lambda_16[0][0]                  \n",
      "                                                                 rythm_gru[6][0]                  \n",
      "                                                                 lambda_18[0][0]                  \n",
      "                                                                 rythm_gru[7][0]                  \n",
      "                                                                 lambda_20[0][0]                  \n",
      "                                                                 rythm_gru[8][0]                  \n",
      "__________________________________________________________________________________________________\n",
      "lambda_4 (Lambda)               (None, 5, 1)         0           X_rythm[0][0]                    \n",
      "__________________________________________________________________________________________________\n",
      "lambda_5 (Lambda)               (None, 25, 1)        0           X_pitch[0][0]                    \n",
      "__________________________________________________________________________________________________\n",
      "lambda_6 (Lambda)               (None, 5, 1)         0           X_rythm[0][0]                    \n",
      "__________________________________________________________________________________________________\n",
      "lambda_7 (Lambda)               (None, 25, 1)        0           X_pitch[0][0]                    \n",
      "__________________________________________________________________________________________________\n",
      "lambda_8 (Lambda)               (None, 5, 1)         0           X_rythm[0][0]                    \n",
      "__________________________________________________________________________________________________\n",
      "lambda_9 (Lambda)               (None, 25, 1)        0           X_pitch[0][0]                    \n",
      "__________________________________________________________________________________________________\n",
      "lambda_10 (Lambda)              (None, 5, 1)         0           X_rythm[0][0]                    \n",
      "__________________________________________________________________________________________________\n",
      "lambda_11 (Lambda)              (None, 25, 1)        0           X_pitch[0][0]                    \n",
      "__________________________________________________________________________________________________\n",
      "lambda_12 (Lambda)              (None, 5, 1)         0           X_rythm[0][0]                    \n",
      "__________________________________________________________________________________________________\n",
      "lambda_13 (Lambda)              (None, 25, 1)        0           X_pitch[0][0]                    \n",
      "__________________________________________________________________________________________________\n",
      "lambda_14 (Lambda)              (None, 5, 1)         0           X_rythm[0][0]                    \n",
      "__________________________________________________________________________________________________\n",
      "lambda_15 (Lambda)              (None, 25, 1)        0           X_pitch[0][0]                    \n",
      "__________________________________________________________________________________________________\n",
      "lambda_16 (Lambda)              (None, 5, 1)         0           X_rythm[0][0]                    \n",
      "__________________________________________________________________________________________________\n",
      "lambda_17 (Lambda)              (None, 25, 1)        0           X_pitch[0][0]                    \n",
      "__________________________________________________________________________________________________\n",
      "lambda_18 (Lambda)              (None, 5, 1)         0           X_rythm[0][0]                    \n",
      "__________________________________________________________________________________________________\n",
      "lambda_19 (Lambda)              (None, 25, 1)        0           X_pitch[0][0]                    \n",
      "__________________________________________________________________________________________________\n",
      "lambda_20 (Lambda)              (None, 5, 1)         0           X_rythm[0][0]                    \n",
      "__________________________________________________________________________________________________\n",
      "pitch_to_manager (Dense)        (None, 25)           2525        pitch_gru[9][0]                  \n",
      "__________________________________________________________________________________________________\n",
      "rythm_to_manager (Dense)        (None, 25)           2525        rythm_gru[9][0]                  \n",
      "__________________________________________________________________________________________________\n",
      "concatenate_10 (Concatenate)    (None, 50)           0           pitch_to_manager[9][0]           \n",
      "                                                                 rythm_to_manager[9][0]           \n",
      "__________________________________________________________________________________________________\n",
      "manager_gru (Dense)             (None, 50)           2550        concatenate_10[0][0]             \n",
      "__________________________________________________________________________________________________\n",
      "manager_to_inter_pitch (Dense)  (None, 40)           2040        manager_gru[9][0]                \n",
      "__________________________________________________________________________________________________\n",
      "manager_to_inter_rythm (Dense)  (None, 20)           1020        manager_gru[9][0]                \n",
      "__________________________________________________________________________________________________\n",
      "inter_to_pitch (Dense)          (None, 25)           1025        manager_to_inter_pitch[0][0]     \n",
      "__________________________________________________________________________________________________\n",
      "inter_to_rythm (Dense)          (None, 5)            105         manager_to_inter_rythm[0][0]     \n",
      "==================================================================================================\n",
      "Total params: 72,990\n",
      "Trainable params: 72,990\n",
      "Non-trainable params: 0\n",
      "__________________________________________________________________________________________________\n"
     ]
    }
   ],
   "source": [
    "model.summary()"
   ]
  },
  {
   "cell_type": "code",
   "execution_count": 102,
   "metadata": {},
   "outputs": [
    {
     "data": {
      "text/plain": [
       "array([[-0.00303974,  0.01886736,  0.00392841, -0.01842227,  0.00013647,\n",
       "        -0.00563659, -0.01032083,  0.00584648, -0.00346822,  0.0241624 ,\n",
       "         0.00054345, -0.00762069, -0.02385939, -0.00364046, -0.00440928,\n",
       "         0.00369517,  0.00283302,  0.01686856,  0.00075944,  0.00324114,\n",
       "        -0.00750755,  0.0016992 ,  0.00205383, -0.00329115,  0.00167905,\n",
       "        -0.00539649,  0.00516429,  0.00055218,  0.00847614,  0.00336826,\n",
       "        -0.00218078,  0.00959649, -0.00207382,  0.00411171,  0.00456343,\n",
       "        -0.00243597, -0.00496944, -0.01918453, -0.00143453, -0.00519804,\n",
       "        -0.00333782,  0.00389768,  0.00318724, -0.00197877, -0.00155421,\n",
       "         0.0232743 , -0.01861566,  0.00743173, -0.00796284,  0.00015538,\n",
       "         0.00155061,  0.00525048, -0.01116654, -0.00073952, -0.01000661,\n",
       "        -0.0152561 , -0.0030193 ,  0.00052883,  0.02785456, -0.00092636,\n",
       "         0.00263312,  0.00427835,  0.00212559,  0.00173554, -0.02528634,\n",
       "         0.02076484,  0.00462911,  0.00630576,  0.0112776 ,  0.01012975,\n",
       "         0.00156908, -0.01051525, -0.00983557, -0.0164377 , -0.02821422,\n",
       "         0.02268887,  0.00034591, -0.00013769,  0.02066932,  0.00059021,\n",
       "         0.00305941, -0.0122254 ,  0.00320004, -0.00428293,  0.02134067,\n",
       "        -0.00444869, -0.00502408, -0.00371888,  0.00645998, -0.01294471,\n",
       "        -0.01001865, -0.00489579, -0.014148  , -0.01459313,  0.00545017,\n",
       "        -0.00218607, -0.01052067, -0.00145383,  0.00336791,  0.00084177]],\n",
       "      dtype=float32)"
      ]
     },
     "execution_count": 102,
     "metadata": {},
     "output_type": "execute_result"
    }
   ],
   "source": [
    "element = 1000\n",
    "\n",
    "Y_pitch = [list(y_pitch[i]) for i in range(len(y_pitch))]#\n",
    "Y_pitch = np.array([y[0] for y in Y_pitch[element]])\n",
    "\n",
    "Y_rythm = [list(y_rythm[i]) for i in range(len(y_rythm))]#\n",
    "Y_rythm = np.array([y[0] for y in Y_rythm[element]])\n",
    "\n",
    "\n",
    "X_pitch_np = np.array(X_pitch)[element:element + 1]#[x for x in X_pitch]\n",
    "X_rythm_np = np.array(X_rythm)[element:element + 1]\n",
    "\n",
    "\n",
    "m = X_pitch_np.shape[0]\n",
    "\n",
    "manager_internal_shape = setting.manager_internal_shape\n",
    "pitch_internal_shape = setting.pitch_internal_shape\n",
    "rythm_internal_shape = setting.rythm_internal_shape\n",
    "\n",
    "pitch_state_0 = np.zeros((m, pitch_internal_shape))\n",
    "rythm_state_0 = np.zeros((m, rythm_internal_shape))\n",
    "manager_state_0 = np.zeros((m, manager_internal_shape))\n",
    "\n",
    "layer_name = 'pitch_gru'\n",
    "intermediate_layer_model = Model(inputs=model.input,\n",
    "                                 outputs=model.get_layer(layer_name).get_output_at(0))\n",
    "intermediate_layer_model.predict([X_pitch_np, X_rythm_np,  pitch_state_0, rythm_state_0, manager_state_0])"
   ]
  },
  {
   "cell_type": "code",
   "execution_count": 101,
   "metadata": {},
   "outputs": [
    {
     "data": {
      "text/plain": [
       "array([[-0.00361132,  0.01873892,  0.00460489, -0.0188433 , -0.00026344,\n",
       "        -0.00626706, -0.01000399,  0.00605333, -0.00357501,  0.02389743,\n",
       "         0.00056244, -0.00812239, -0.02412687, -0.00366494, -0.00474457,\n",
       "         0.00424624,  0.00304369,  0.01643826,  0.00083183,  0.00274095,\n",
       "        -0.00750325,  0.00175363,  0.0017711 , -0.00265339,  0.0018587 ,\n",
       "        -0.0050061 ,  0.006204  ,  0.00074088,  0.00894731,  0.00335177,\n",
       "        -0.00177686,  0.00921258, -0.00203514,  0.00452002,  0.00534161,\n",
       "        -0.0025859 , -0.00480505, -0.01841985, -0.00212035, -0.00461425,\n",
       "        -0.00311361,  0.00426954,  0.00272169, -0.00230937, -0.0018312 ,\n",
       "         0.02289029, -0.01818012,  0.00767828, -0.00764846,  0.00080984,\n",
       "         0.00122366,  0.00527267, -0.01103281, -0.00069241, -0.0103082 ,\n",
       "        -0.01592911, -0.00265925,  0.00059422,  0.02734835, -0.00045626,\n",
       "         0.00272808,  0.0045769 ,  0.00127139,  0.00160058, -0.02557486,\n",
       "         0.02080528,  0.00524872,  0.00623439,  0.01069896,  0.01023731,\n",
       "         0.00086824, -0.01076188, -0.01039971, -0.01665107, -0.02726377,\n",
       "         0.0229337 ,  0.00036264, -0.00016896,  0.02078515,  0.00041637,\n",
       "         0.00245587, -0.01150901,  0.00372202, -0.00485508,  0.02187854,\n",
       "        -0.00371085, -0.00511165, -0.00373974,  0.00668083, -0.01268301,\n",
       "        -0.01001723, -0.00467524, -0.01380512, -0.01414278,  0.00556358,\n",
       "        -0.00197954, -0.01127381, -0.00170571,  0.00389464,  0.00040761]],\n",
       "      dtype=float32)"
      ]
     },
     "execution_count": 101,
     "metadata": {},
     "output_type": "execute_result"
    }
   ],
   "source": [
    "element = 2345\n",
    "\n",
    "Y_pitch = [list(y_pitch[i]) for i in range(len(y_pitch))]#\n",
    "Y_pitch = np.array([y[0] for y in Y_pitch[element]])\n",
    "\n",
    "Y_rythm = [list(y_rythm[i]) for i in range(len(y_rythm))]#\n",
    "Y_rythm = np.array([y[0] for y in Y_rythm[element]])\n",
    "\n",
    "\n",
    "X_pitch_np = np.array(X_pitch)[element:element + 1]#[x for x in X_pitch]\n",
    "X_rythm_np = np.array(X_rythm)[element:element + 1]\n",
    "\n",
    "\n",
    "m = X_pitch_np.shape[0]\n",
    "\n",
    "manager_internal_shape = setting.manager_internal_shape\n",
    "pitch_internal_shape = setting.pitch_internal_shape\n",
    "rythm_internal_shape = setting.rythm_internal_shape\n",
    "\n",
    "pitch_state_0 = np.zeros((m, pitch_internal_shape))\n",
    "rythm_state_0 = np.zeros((m, rythm_internal_shape))\n",
    "manager_state_0 = np.zeros((m, manager_internal_shape))\n",
    "\n",
    "layer_name = 'pitch_gru'\n",
    "intermediate_layer_model = Model(inputs=model.input,\n",
    "                                 outputs=model.get_layer(layer_name).get_output_at(0))\n",
    "intermediate_layer_model.predict([X_pitch_np, X_rythm_np,  pitch_state_0, rythm_state_0, manager_state_0])"
   ]
  },
  {
   "cell_type": "code",
   "execution_count": 82,
   "metadata": {},
   "outputs": [
    {
     "data": {
      "image/png": "[encoded data removed]",
      "text/plain": [
       "<Figure size 432x288 with 1 Axes>"
      ]
     },
     "metadata": {},
     "output_type": "display_data"
    }
   ],
   "source": [
    "h = plt.hist(reduce(lambda x,y:x+y,rythm_X), bins = 5)"
   ]
  },
  {
   "cell_type": "code",
   "execution_count": 83,
   "metadata": {},
   "outputs": [
    {
     "data": {
      "text/plain": [
       "array([0.81278173, 0.1345765 , 0.04761897, 0.        , 0.00502279])"
      ]
     },
     "execution_count": 83,
     "metadata": {},
     "output_type": "execute_result"
    }
   ],
   "source": [
    "h[0] / np.sum(h[0])"
   ]
  },
  {
   "cell_type": "code",
   "execution_count": 44,
   "metadata": {},
   "outputs": [
    {
     "data": {
      "text/plain": [
       "[<tf.Tensor 'dense_35/Softmax:0' shape=(?, 25) dtype=float32>,\n",
       " <tf.Tensor 'dense_36/Softmax:0' shape=(?, 5) dtype=float32>]"
      ]
     },
     "execution_count": 44,
     "metadata": {},
     "output_type": "execute_result"
    }
   ],
   "source": [
    "\n",
    "model.get_output_at(0)"
   ]
  },
  {
   "cell_type": "code",
   "execution_count": 78,
   "metadata": {
    "scrolled": true
   },
   "outputs": [
    {
     "name": "stdout",
     "output_type": "stream",
     "text": [
      "__________________________________________________________________________________________________\n",
      "Layer (type)                    Output Shape         Param #     Connected to                     \n",
      "==================================================================================================\n",
      "X_pitch (InputLayer)            (None, 10, 25)       0                                            \n",
      "__________________________________________________________________________________________________\n",
      "X_rythm (InputLayer)            (None, 10, 5)        0                                            \n",
      "__________________________________________________________________________________________________\n",
      "lambda_741 (Lambda)             (None, 25, 1)        0           X_pitch[0][0]                    \n",
      "__________________________________________________________________________________________________\n",
      "pitch_state_0 (InputLayer)      (None, 100)          0                                            \n",
      "__________________________________________________________________________________________________\n",
      "lambda_742 (Lambda)             (None, 5, 1)         0           X_rythm[0][0]                    \n",
      "__________________________________________________________________________________________________\n",
      "rythm_state_0 (InputLayer)      (None, 100)          0                                            \n",
      "__________________________________________________________________________________________________\n",
      "pitch_gru (GRU)                 (None, 100)          30600       lambda_741[0][0]                 \n",
      "                                                                 pitch_state_0[0][0]              \n",
      "                                                                 lambda_743[0][0]                 \n",
      "                                                                 pitch_gru[0][0]                  \n",
      "                                                                 lambda_745[0][0]                 \n",
      "                                                                 pitch_gru[1][0]                  \n",
      "                                                                 lambda_747[0][0]                 \n",
      "                                                                 pitch_gru[2][0]                  \n",
      "                                                                 lambda_749[0][0]                 \n",
      "                                                                 pitch_gru[3][0]                  \n",
      "                                                                 lambda_751[0][0]                 \n",
      "                                                                 pitch_gru[4][0]                  \n",
      "                                                                 lambda_753[0][0]                 \n",
      "                                                                 pitch_gru[5][0]                  \n",
      "                                                                 lambda_755[0][0]                 \n",
      "                                                                 pitch_gru[6][0]                  \n",
      "                                                                 lambda_757[0][0]                 \n",
      "                                                                 pitch_gru[7][0]                  \n",
      "                                                                 lambda_759[0][0]                 \n",
      "                                                                 pitch_gru[8][0]                  \n",
      "__________________________________________________________________________________________________\n",
      "lambda_743 (Lambda)             (None, 25, 1)        0           X_pitch[0][0]                    \n",
      "__________________________________________________________________________________________________\n",
      "rythm_gru (GRU)                 (None, 100)          30600       lambda_742[0][0]                 \n",
      "                                                                 rythm_state_0[0][0]              \n",
      "                                                                 lambda_744[0][0]                 \n",
      "                                                                 rythm_gru[0][0]                  \n",
      "                                                                 lambda_746[0][0]                 \n",
      "                                                                 rythm_gru[1][0]                  \n",
      "                                                                 lambda_748[0][0]                 \n",
      "                                                                 rythm_gru[2][0]                  \n",
      "                                                                 lambda_750[0][0]                 \n",
      "                                                                 rythm_gru[3][0]                  \n",
      "                                                                 lambda_752[0][0]                 \n",
      "                                                                 rythm_gru[4][0]                  \n",
      "                                                                 lambda_754[0][0]                 \n",
      "                                                                 rythm_gru[5][0]                  \n",
      "                                                                 lambda_756[0][0]                 \n",
      "                                                                 rythm_gru[6][0]                  \n",
      "                                                                 lambda_758[0][0]                 \n",
      "                                                                 rythm_gru[7][0]                  \n",
      "                                                                 lambda_760[0][0]                 \n",
      "                                                                 rythm_gru[8][0]                  \n",
      "__________________________________________________________________________________________________\n",
      "lambda_744 (Lambda)             (None, 5, 1)         0           X_rythm[0][0]                    \n",
      "__________________________________________________________________________________________________\n",
      "lambda_745 (Lambda)             (None, 25, 1)        0           X_pitch[0][0]                    \n",
      "__________________________________________________________________________________________________\n",
      "lambda_746 (Lambda)             (None, 5, 1)         0           X_rythm[0][0]                    \n",
      "__________________________________________________________________________________________________\n",
      "lambda_747 (Lambda)             (None, 25, 1)        0           X_pitch[0][0]                    \n",
      "__________________________________________________________________________________________________\n",
      "lambda_748 (Lambda)             (None, 5, 1)         0           X_rythm[0][0]                    \n",
      "__________________________________________________________________________________________________\n",
      "lambda_749 (Lambda)             (None, 25, 1)        0           X_pitch[0][0]                    \n",
      "__________________________________________________________________________________________________\n",
      "lambda_750 (Lambda)             (None, 5, 1)         0           X_rythm[0][0]                    \n",
      "__________________________________________________________________________________________________\n",
      "lambda_751 (Lambda)             (None, 25, 1)        0           X_pitch[0][0]                    \n",
      "__________________________________________________________________________________________________\n",
      "lambda_752 (Lambda)             (None, 5, 1)         0           X_rythm[0][0]                    \n",
      "__________________________________________________________________________________________________\n",
      "lambda_753 (Lambda)             (None, 25, 1)        0           X_pitch[0][0]                    \n",
      "__________________________________________________________________________________________________\n",
      "lambda_754 (Lambda)             (None, 5, 1)         0           X_rythm[0][0]                    \n",
      "__________________________________________________________________________________________________\n",
      "lambda_755 (Lambda)             (None, 25, 1)        0           X_pitch[0][0]                    \n",
      "__________________________________________________________________________________________________\n",
      "lambda_756 (Lambda)             (None, 5, 1)         0           X_rythm[0][0]                    \n",
      "__________________________________________________________________________________________________\n",
      "lambda_757 (Lambda)             (None, 25, 1)        0           X_pitch[0][0]                    \n",
      "__________________________________________________________________________________________________\n",
      "lambda_758 (Lambda)             (None, 5, 1)         0           X_rythm[0][0]                    \n",
      "__________________________________________________________________________________________________\n",
      "lambda_759 (Lambda)             (None, 25, 1)        0           X_pitch[0][0]                    \n",
      "__________________________________________________________________________________________________\n",
      "lambda_760 (Lambda)             (None, 5, 1)         0           X_rythm[0][0]                    \n",
      "__________________________________________________________________________________________________\n",
      "pitch_to_manager (Dense)        (None, 25)           2525        pitch_gru[0][0]                  \n",
      "                                                                 pitch_gru[1][0]                  \n",
      "                                                                 pitch_gru[2][0]                  \n",
      "                                                                 pitch_gru[3][0]                  \n",
      "                                                                 pitch_gru[4][0]                  \n",
      "                                                                 pitch_gru[5][0]                  \n",
      "                                                                 pitch_gru[6][0]                  \n",
      "                                                                 pitch_gru[7][0]                  \n",
      "                                                                 pitch_gru[8][0]                  \n",
      "                                                                 pitch_gru[9][0]                  \n",
      "__________________________________________________________________________________________________\n",
      "rythm_to_manager (Dense)        (None, 25)           2525        rythm_gru[0][0]                  \n",
      "                                                                 rythm_gru[1][0]                  \n",
      "                                                                 rythm_gru[2][0]                  \n",
      "                                                                 rythm_gru[3][0]                  \n",
      "                                                                 rythm_gru[4][0]                  \n",
      "                                                                 rythm_gru[5][0]                  \n",
      "                                                                 rythm_gru[6][0]                  \n",
      "                                                                 rythm_gru[7][0]                  \n",
      "                                                                 rythm_gru[8][0]                  \n",
      "                                                                 rythm_gru[9][0]                  \n",
      "__________________________________________________________________________________________________\n",
      "concatenate_380 (Concatenate)   (None, 50)           0           pitch_to_manager[9][0]           \n",
      "                                                                 rythm_to_manager[9][0]           \n",
      "__________________________________________________________________________________________________\n",
      "concatenate_379 (Concatenate)   (None, 50)           0           pitch_to_manager[8][0]           \n",
      "                                                                 rythm_to_manager[8][0]           \n",
      "__________________________________________________________________________________________________\n",
      "concatenate_378 (Concatenate)   (None, 50)           0           pitch_to_manager[7][0]           \n",
      "                                                                 rythm_to_manager[7][0]           \n",
      "__________________________________________________________________________________________________\n",
      "concatenate_377 (Concatenate)   (None, 50)           0           pitch_to_manager[6][0]           \n",
      "                                                                 rythm_to_manager[6][0]           \n",
      "__________________________________________________________________________________________________\n",
      "concatenate_376 (Concatenate)   (None, 50)           0           pitch_to_manager[5][0]           \n",
      "                                                                 rythm_to_manager[5][0]           \n",
      "__________________________________________________________________________________________________\n",
      "concatenate_375 (Concatenate)   (None, 50)           0           pitch_to_manager[4][0]           \n",
      "                                                                 rythm_to_manager[4][0]           \n",
      "__________________________________________________________________________________________________\n",
      "concatenate_374 (Concatenate)   (None, 50)           0           pitch_to_manager[3][0]           \n",
      "                                                                 rythm_to_manager[3][0]           \n",
      "__________________________________________________________________________________________________\n",
      "concatenate_373 (Concatenate)   (None, 50)           0           pitch_to_manager[2][0]           \n",
      "                                                                 rythm_to_manager[2][0]           \n",
      "__________________________________________________________________________________________________\n",
      "concatenate_372 (Concatenate)   (None, 50)           0           pitch_to_manager[1][0]           \n",
      "                                                                 rythm_to_manager[1][0]           \n",
      "__________________________________________________________________________________________________\n",
      "concatenate_371 (Concatenate)   (None, 50)           0           pitch_to_manager[0][0]           \n",
      "                                                                 rythm_to_manager[0][0]           \n",
      "__________________________________________________________________________________________________\n",
      "reshapor_concat (Reshape)       (None, 50, 1)        0           concatenate_371[0][0]            \n",
      "                                                                 concatenate_372[0][0]            \n",
      "                                                                 concatenate_373[0][0]            \n",
      "                                                                 concatenate_374[0][0]            \n",
      "                                                                 concatenate_375[0][0]            \n",
      "                                                                 concatenate_376[0][0]            \n",
      "                                                                 concatenate_377[0][0]            \n",
      "                                                                 concatenate_378[0][0]            \n",
      "                                                                 concatenate_379[0][0]            \n",
      "                                                                 concatenate_380[0][0]            \n",
      "__________________________________________________________________________________________________\n",
      "manager_state_0 (InputLayer)    (None, 100)          0                                            \n",
      "__________________________________________________________________________________________________\n",
      "manager_gru (GRU)               (None, 100)          30600       reshapor_concat[0][0]            \n",
      "                                                                 manager_state_0[0][0]            \n",
      "                                                                 reshapor_concat[1][0]            \n",
      "                                                                 manager_gru[0][0]                \n",
      "                                                                 reshapor_concat[2][0]            \n",
      "                                                                 manager_gru[1][0]                \n",
      "                                                                 reshapor_concat[3][0]            \n",
      "                                                                 manager_gru[2][0]                \n",
      "                                                                 reshapor_concat[4][0]            \n",
      "                                                                 manager_gru[3][0]                \n",
      "                                                                 reshapor_concat[5][0]            \n",
      "                                                                 manager_gru[4][0]                \n",
      "                                                                 reshapor_concat[6][0]            \n",
      "                                                                 manager_gru[5][0]                \n",
      "                                                                 reshapor_concat[7][0]            \n",
      "                                                                 manager_gru[6][0]                \n",
      "                                                                 reshapor_concat[8][0]            \n",
      "                                                                 manager_gru[7][0]                \n",
      "                                                                 reshapor_concat[9][0]            \n",
      "                                                                 manager_gru[8][0]                \n",
      "__________________________________________________________________________________________________\n",
      "manager_to_inter_pitch (Dense)  (None, 40)           4040        manager_gru[9][0]                \n",
      "__________________________________________________________________________________________________\n",
      "manager_to_inter_rythm (Dense)  (None, 20)           2020        manager_gru[9][0]                \n",
      "__________________________________________________________________________________________________\n",
      "inter_to_pitch (Dense)          (None, 25)           1025        manager_to_inter_pitch[0][0]     \n",
      "__________________________________________________________________________________________________\n",
      "inter_to_rythm (Dense)          (None, 5)            105         manager_to_inter_rythm[0][0]     \n",
      "==================================================================================================\n",
      "Total params: 104,040\n",
      "Trainable params: 104,040\n",
      "Non-trainable params: 0\n",
      "__________________________________________________________________________________________________\n"
     ]
    }
   ],
   "source": [
    "model.summary()"
   ]
  },
  {
   "cell_type": "code",
   "execution_count": 25,
   "metadata": {},
   "outputs": [],
   "source": [
    "h = np.array(np.log2(np.array(reduce(lambda x,y:x+y,rythm_X))) , dtype = 'int32')"
   ]
  },
  {
   "cell_type": "code",
   "execution_count": 26,
   "metadata": {},
   "outputs": [
    {
     "data": {
      "text/plain": [
       "{0, 1, 2, 3, 4}"
      ]
     },
     "execution_count": 26,
     "metadata": {},
     "output_type": "execute_result"
    }
   ],
   "source": [
    "set(h)"
   ]
  },
  {
   "cell_type": "code",
   "execution_count": 18,
   "metadata": {},
   "outputs": [
    {
     "data": {
      "text/plain": [
       "{1, 2, 4, 8, 16}"
      ]
     },
     "execution_count": 18,
     "metadata": {},
     "output_type": "execute_result"
    }
   ],
   "source": [
    "set(h)"
   ]
  },
  {
   "cell_type": "code",
   "execution_count": 19,
   "metadata": {},
   "outputs": [
    {
     "data": {
      "text/plain": [
       "0.0"
      ]
     },
     "execution_count": 19,
     "metadata": {},
     "output_type": "execute_result"
    }
   ],
   "source": [
    "np.log(1)"
   ]
  },
  {
   "cell_type": "code",
   "execution_count": null,
   "metadata": {},
   "outputs": [],
   "source": []
  },
  {
   "cell_type": "code",
   "execution_count": null,
   "metadata": {},
   "outputs": [],
   "source": [
    "rythm_X[0]"
   ]
  },
  {
   "cell_type": "code",
   "execution_count": null,
   "metadata": {},
   "outputs": [],
   "source": []
  },
  {
   "cell_type": "code",
   "execution_count": null,
   "metadata": {},
   "outputs": [],
   "source": [
    "      "
   ]
  },
  {
   "cell_type": "code",
   "execution_count": null,
   "metadata": {},
   "outputs": [],
   "source": []
  },
  {
   "cell_type": "code",
   "execution_count": null,
   "metadata": {},
   "outputs": [],
   "source": [
    "#Y = [[y_pitch[i], y_rythm[i]] for i in range(len(y_pitch))] \n",
    "np.array([len(y) for y in y_pitch])[np.array([len(y) for y in y_pitch]) != 1]"
   ]
  },
  {
   "cell_type": "code",
   "execution_count": null,
   "metadata": {},
   "outputs": [],
   "source": [
    "Y[0][0].shape"
   ]
  },
  {
   "cell_type": "code",
   "execution_count": null,
   "metadata": {},
   "outputs": [],
   "source": []
  },
  {
   "cell_type": "code",
   "execution_count": null,
   "metadata": {},
   "outputs": [],
   "source": [
    "np.min(X_pitch_np[0],axis = 1)"
   ]
  },
  {
   "cell_type": "code",
   "execution_count": null,
   "metadata": {},
   "outputs": [],
   "source": [
    "len(X_pitch)"
   ]
  },
  {
   "cell_type": "code",
   "execution_count": null,
   "metadata": {},
   "outputs": [],
   "source": []
  },
  {
   "cell_type": "code",
   "execution_count": null,
   "metadata": {},
   "outputs": [],
   "source": [
    "model.summ"
   ]
  },
  {
   "cell_type": "code",
   "execution_count": null,
   "metadata": {},
   "outputs": [],
   "source": [
    "X_pitch, X_rythm, pitch_state_0, rythm_state_0, manager_state_0"
   ]
  },
  {
   "cell_type": "code",
   "execution_count": null,
   "metadata": {},
   "outputs": [],
   "source": [
    "model.summary()"
   ]
  },
  {
   "cell_type": "code",
   "execution_count": null,
   "metadata": {},
   "outputs": [],
   "source": []
  },
  {
   "cell_type": "code",
   "execution_count": 24,
   "metadata": {},
   "outputs": [],
   "source": [
    "def make_prediction(setting, to_generate):\n",
    "\n",
    "    X_pitch = Input(shape = (setting.Tx, setting.pitch_output_shape), name = 'X_pitch')\n",
    "    X_rythm = Input(shape = (setting.Tx, setting.rythm_output_shape), name = 'X_rythm')\n",
    "    \n",
    "    reshapor_pitch = Reshape((setting.pitch_output_shape, 1))#?\n",
    "    reshapor_rythm = Reshape((setting.rythm_output_shape, 1))\n",
    "    \n",
    "    manager_state_0 = Input(shape=(setting.manager_internal_shape, ), name = 'manager_state_0')\n",
    "    pitch_state_0 = Input(shape = (setting.pitch_internal_shape, ), name = 'pitch_state_0')\n",
    "    rythm_state_0 = Input(shape = (setting.rythm_internal_shape, ), name = 'rythm_state_0')\n",
    "\n",
    "    manager_state = manager_state_0\n",
    "    pitch_state = pitch_state_0\n",
    "    rythm_state = rythm_state_0\n",
    "    \n",
    "    reshapor_pitch = Reshape((setting.pitch_output_shape, 1))\n",
    "    reshapor_rhythm = Reshape((setting.rythm_output_shape, 1))\n",
    "    \n",
    "    reshapor_concat = Reshape((setting.pitch_to_manager_shape + setting.rythm_to_manager_shape, 1))\n",
    "    \n",
    "\n",
    "    out_pitches = []\n",
    "    out_rythms = []\n",
    "\n",
    "\n",
    "    for t in range(non_trainable_first):\n",
    "        #print(t)\n",
    "\n",
    "        get_pitch_t =  Lambda(lambda x: reshapor_pitch(x[:, t, :])) \n",
    "        get_rythm_t = Lambda(lambda x: reshapor_rythm(x[:, t, :]))  \n",
    "\n",
    "        pitch_state = setting.pitch_gru(get_pitch_t(X_pitch), initial_state = [pitch_state])\n",
    "        rythm_state = setting.rythm_gru(get_rythm_t(X_rythm), initial_state = [rythm_state])\n",
    "        \n",
    "        \n",
    "        concat = reshapor_concat(Concatenate(axis = 1)([setting.pitch_to_manager(pitch_state),\\\n",
    "                                                        setting.rythm_to_manager(rythm_state)]))\n",
    "        \n",
    "        manager_state = setting.manager_gru(concat, initial_state = [manager_state])\n",
    "    \n",
    "        output_pitch = setting.inter_to_pitch(setting.manager_to_inter_pitch(manager_state))\n",
    "        output_rythm = setting.inter_to_rythm(setting.manager_to_inter_rythm(manager_state))\n",
    "        \n",
    "\n",
    "    \n",
    "\n",
    "    for t in range(to_generate):\n",
    "        #print(t)\n",
    "        \n",
    "        #Sample pitch\n",
    "        #pitch = Lambda(lambda x: tf.one_hot(tf.multinomial(x, 1), pitch_output_shape))#np.random.choice(pitch_output_shape, output_pitch)\n",
    "        pitch = Lambda(lambda x: tf.one_hot(tf.argmax(x, axis = 1), pitch_output_shape))\n",
    "\n",
    "        \n",
    "        #Sample rythm        \n",
    "        #rythm = Lambda(lambda x: tf.one_hot(tf.multinomial(x, 1), rythm_output_shape))\n",
    "        rythm = Lambda(lambda x: tf.one_hot(tf.argmax(x, axis = 1), rythm_output_shape))\n",
    "        \n",
    "        pitch_sampled = reshapor_pitch(pitch(output_pitch))\n",
    "        rythm_sampled = reshapor_rythm(rythm(output_rythm))\n",
    "        \n",
    "        #print(pitch_sampled)\n",
    "        out_pitches.append(pitch_sampled)\n",
    "        out_rythms.append(rythm_sampled)\n",
    "        #####################################\n",
    "        \n",
    "        pitch_state = setting.pitch_gru(pitch_sampled, initial_state = [pitch_state])\n",
    "        rythm_state = setting.rythm_gru(rythm_sampled, initial_state = [rythm_state])\n",
    "        \n",
    "        concat = reshapor_concat(Concatenate(axis = 1)([setting.pitch_to_manager(pitch_state),\\\n",
    "                                                setting.rythm_to_manager(rythm_state)]))\n",
    "        \n",
    "        manager_state = setting.manager_gru(concat, initial_state = [manager_state])\n",
    "        \n",
    "        \n",
    "        output_pitch = setting.inter_to_pitch(setting.manager_to_inter_pitch(manager_state))\n",
    "        output_rythm = setting.inter_to_rythm(setting.manager_to_inter_rythm(manager_state))\n",
    "        \n",
    "\n",
    "        \n",
    "\n",
    "    out = out_pitches + out_rythms\n",
    "\n",
    "    model_general = Model(inputs = [X_pitch, X_rythm, pitch_state_0, rythm_state_0, manager_state_0], outputs = out)\n",
    "\n",
    "    return model_general"
   ]
  },
  {
   "cell_type": "code",
   "execution_count": 25,
   "metadata": {},
   "outputs": [],
   "source": [
    "number_of_notes_to_generate = 100\n",
    "model_predict = make_prediction(setting, number_of_notes_to_generate)"
   ]
  },
  {
   "cell_type": "code",
   "execution_count": 26,
   "metadata": {},
   "outputs": [],
   "source": [
    "#m = X_pitch_np.shape[0]\n",
    "\n",
    "manager_internal_shape = setting.manager_internal_shape\n",
    "pitch_internal_shape = setting.pitch_internal_shape\n",
    "rythm_internal_shape = setting.rythm_internal_shape\n",
    "\n",
    "pitch_state_0 = np.zeros((1, pitch_internal_shape))\n",
    "rythm_state_0 = np.zeros((1, rythm_internal_shape))\n",
    "manager_state_0 = np.zeros((1, manager_internal_shape))\n",
    "\n",
    "X_pitch_np = np.array(X_pitch)[1000,:setting.Tx].reshape((1,setting.Tx,setting.pitch_output_shape))\n",
    "X_rythm_np = np.array(X_rythm)[1000,:setting.Tx].reshape((1,setting.Tx,setting.rythm_output_shape))\n",
    "#X_pitch_np = [np.argmax(x) for x in X_pitch_np]\n",
    "#X_rythm_np = [np.argmax(x) for x in X_rythm_np]\n",
    "\n",
    "result = model_predict.predict([X_pitch_np, X_rythm_np,  pitch_state_0, rythm_state_0, manager_state_0])"
   ]
  },
  {
   "cell_type": "code",
   "execution_count": 27,
   "metadata": {},
   "outputs": [
    {
     "name": "stdout",
     "output_type": "stream",
     "text": [
      "[1, 1, 1, 1, 1, 1, 1, 1, 1, 1, 1, 1, 1, 1, 1, 1, 1, 1, 1, 1, 1, 1, 1, 1, 1, 1, 1, 1, 1, 1, 1, 1, 1, 1, 1, 1, 1, 1, 1, 1, 1, 1, 1, 1, 1, 1, 1, 1, 1, 1, 1, 1, 1, 1, 1, 1, 1, 1, 1, 1, 1, 1, 1, 1, 1, 1, 1, 1, 1, 1, 1, 1, 1, 1, 1, 1, 1, 1, 1, 1, 1, 1, 1, 1, 1, 1, 1, 1, 1, 1, 1, 1, 1, 1, 1, 1, 1, 1, 1, 1]\n",
      "[12, 12, 12, 12, 12, 12, 12, 12, 12, 12, 12, 12, 12, 12, 12, 12, 12, 12, 12, 12, 12, 12, 12, 12, 12, 12, 12, 12, 12, 12, 12, 12, 12, 12, 12, 12, 12, 12, 12, 12, 12, 12, 12, 12, 12, 12, 12, 12, 12, 12, 12, 12, 12, 12, 12, 12, 12, 12, 12, 12, 12, 12, 12, 12, 12, 12, 12, 12, 12, 12, 12, 12, 12, 12, 12, 12, 12, 12, 12, 12, 12, 12, 12, 12, 12, 12, 12, 12, 12, 12, 12, 12, 12, 12, 12, 12, 12, 12, 12, 12]\n"
     ]
    },
    {
     "data": {
      "image/png": "[encoded data removed]",
      "text/plain": [
       "<Figure size 432x288 with 1 Axes>"
      ]
     },
     "metadata": {},
     "output_type": "display_data"
    },
    {
     "name": "stdout",
     "output_type": "stream",
     "text": [
      "0\n"
     ]
    }
   ],
   "source": [
    "\n",
    "seq_p = result[:number_of_notes_to_generate]\n",
    "seq_r = result[number_of_notes_to_generate:]\n",
    "\n",
    "\n",
    "\n",
    "X_pitch_np = [np.argmax(x) for x in seq_p]\n",
    "X_rythm_np = [np.argmax(x) for x in seq_r]\n",
    "\n",
    "print(X_rythm_np)\n",
    "print(X_pitch_np)\n",
    "create_track_new(X_rythm_np,X_pitch_np)"
   ]
  },
  {
   "cell_type": "code",
   "execution_count": null,
   "metadata": {},
   "outputs": [],
   "source": [
    "X_pitch_np = np.array(X_pitch)[2035,:8].reshape((1,8,25))\n",
    "X_rythm_np = np.array(X_rythm)[2035,:8].reshape((1,8,5))\n",
    "np.argmax(X_pitch_np, axis = 2)"
   ]
  },
  {
   "cell_type": "code",
   "execution_count": null,
   "metadata": {},
   "outputs": [],
   "source": [
    "seq_p = result[:number_of_notes_to_generate]\n",
    "seq_r = result[number_of_notes_to_generate:]\n",
    "\n",
    "\n",
    "\n",
    "X_pitch_np = [np.argmax(x) for x in seq_p]\n",
    "X_rythm_np = [np.argmax(x) for x in seq_r]\n",
    "\n",
    "print(X_rythm_np)\n",
    "print(X_pitch_np)\n",
    "create_track_new(X_rythm_np,X_pitch_np)"
   ]
  },
  {
   "cell_type": "code",
   "execution_count": 6,
   "metadata": {},
   "outputs": [],
   "source": [
    "def create_track_new(seq, seq_pitch):\n",
    "    \n",
    "    #num_to_len = {1:1, 2:2, 3:4, 4:8, 5:16, 6:32}\n",
    "    grain = 32\n",
    "    one_tact = 128\n",
    "    tacts_per_min = 75\n",
    "    tempo    = one_tact * tacts_per_min  # In BPM\n",
    "    volume   = 100  # 0-127, as per the MIDI standard\n",
    "    track    = 0\n",
    "    channel  = 0\n",
    "    time     = 0# to learn\n",
    "    \n",
    "    MyMIDI = MIDIFile(1)\n",
    "    MyMIDI.addTempo(track, time, tempo)\n",
    "    \n",
    "    MyMIDI.addNote(track, channel, 120, 0, one_tact / grain, volume)\n",
    "    tick_count = one_tact / grain\n",
    "    \n",
    "    current_pitch = 80\n",
    "    \n",
    "    tick_counts = [tick_count]\n",
    "    pitches = [current_pitch]\n",
    "    \n",
    "    decode_lengths  = {0:1, 1:2, 2:4, 3:8, 4:16}\n",
    "    for l,p in zip(seq, seq_pitch):\n",
    "        current_pitch += (p - 12)\n",
    "        if current_pitch < 50:\n",
    "            current_pitch += 50\n",
    "        if current_pitch > 100:\n",
    "            current_pitch -= 50\n",
    "        pitches += [current_pitch]\n",
    "        #length = num_to_len[l]\n",
    "        MyMIDI.addNote(track, channel, current_pitch, tick_count, one_tact / grain * (decode_lengths[l]), volume)\n",
    "        tick_count = tick_count + one_tact / grain * (decode_lengths[l])\n",
    "        tick_counts += [tick_count]\n",
    "    \n",
    "    plt.scatter(tick_counts, pitches, s = 1)\n",
    "    plt.show()\n",
    "    print(track)\n",
    "\n",
    "    with open(\"zzz.mid\", \"wb\") as output_file:\n",
    "        MyMIDI.writeFile(output_file) \n",
    "                \n",
    "                            \n",
    "                    \n",
    "\n"
   ]
  },
  {
   "cell_type": "code",
   "execution_count": null,
   "metadata": {},
   "outputs": [],
   "source": [
    "X_pitch_np = np.array(X_pitch)[12,:8]\n",
    "X_rythm_np = np.array(X_rythm)[12,:8]\n",
    "X_pitch_np = [np.argmax(x) for x in X_pitch_np]\n",
    "X_rythm_np = [np.argmax(x) for x in X_rythm_np]\n",
    "\n",
    "create_track_new(X_rythm_np, X_pitch_np)\n",
    "#print(np.max(np.argmax(X_rythm_np, axis = 1),axis = 1))"
   ]
  },
  {
   "cell_type": "code",
   "execution_count": null,
   "metadata": {},
   "outputs": [],
   "source": [
    "np.argmax(X_rythm_np[0])"
   ]
  },
  {
   "cell_type": "code",
   "execution_count": null,
   "metadata": {},
   "outputs": [],
   "source": [
    "np.argmax(X_pitch_np[1])"
   ]
  },
  {
   "cell_type": "code",
   "execution_count": null,
   "metadata": {},
   "outputs": [],
   "source": [
    "import mingus.core.intervals as intervals"
   ]
  },
  {
   "cell_type": "code",
   "execution_count": null,
   "metadata": {},
   "outputs": [],
   "source": [
    "manager_gru(manager_input)"
   ]
  },
  {
   "cell_type": "code",
   "execution_count": null,
   "metadata": {},
   "outputs": [],
   "source": [
    "out = manager_gru(manager_input)\n",
    "opt = Adam(lr=0.01, beta_1=0.9, beta_2=0.999, decay=0.01)\n",
    "manager = Model(inputs = [manager_input], outputs = out[:2])\n",
    "manager.compile(optimizer=opt, loss='categorical_crossentropy', metrics=['accuracy'])"
   ]
  },
  {
   "cell_type": "code",
   "execution_count": null,
   "metadata": {},
   "outputs": [],
   "source": [
    "out"
   ]
  },
  {
   "cell_type": "code",
   "execution_count": null,
   "metadata": {},
   "outputs": [],
   "source": [
    "manager.predict(np.ones((1,1,100)))"
   ]
  },
  {
   "cell_type": "code",
   "execution_count": null,
   "metadata": {},
   "outputs": [],
   "source": [
    "seq = manager_gru(manager_input).compile()"
   ]
  },
  {
   "cell_type": "code",
   "execution_count": null,
   "metadata": {},
   "outputs": [],
   "source": [
    "pitch_gru(pitch_input)"
   ]
  },
  {
   "cell_type": "code",
   "execution_count": null,
   "metadata": {},
   "outputs": [],
   "source": [
    "import numpy as np"
   ]
  },
  {
   "cell_type": "code",
   "execution_count": null,
   "metadata": {},
   "outputs": [],
   "source": [
    "sess = tf.Session()"
   ]
  },
  {
   "cell_type": "code",
   "execution_count": null,
   "metadata": {},
   "outputs": [],
   "source": [
    "pitch_output_shape = 10\n",
    "\n",
    "choices_pitch = tf.constant( np.array( [np.arange(pitch_output_shape)]), dtype=tf.int64)\n",
    "\n",
    "output_pitch = list(np.zeros(pitch_output_shape, dtype = 'int64'))\n",
    "output_pitch[5] = 0.5\n",
    "output_pitch[4] = 0.5\n",
    "\n",
    "output_pitch = tf.constant(output_pitch)\n",
    "sampled_ids_pitch = tf.multinomial([output_pitch], 12)"
   ]
  },
  {
   "cell_type": "code",
   "execution_count": null,
   "metadata": {},
   "outputs": [],
   "source": [
    "list(np.zeros(pitch_output_shape, dtype = 'int64'))"
   ]
  },
  {
   "cell_type": "code",
   "execution_count": null,
   "metadata": {},
   "outputs": [],
   "source": [
    "with tf.Session() as sess:\n",
    "    sample = sess.run(sampled_ids_pitch)\n",
    "    print(sample)\n",
    "    "
   ]
  },
  {
   "cell_type": "code",
   "execution_count": null,
   "metadata": {},
   "outputs": [],
   "source": [
    "# L has shape [2, 5, 2]\n",
    "L = tf.constant([[0.9, 0.1]])\n",
    "\n",
    "dims = L.get_shape().as_list()\n",
    "N = dims[-1]  # here N = 2\n",
    "\n",
    "logits = tf.reshape(L, [-1, N])\n",
    "\n",
    "\n",
    "samples = tf.multinomial(logits, 1)\n",
    "# We reshape to match the initial shape minus the last dimension\n",
    "res = tf.reshape(samples, dims[:-1])"
   ]
  },
  {
   "cell_type": "code",
   "execution_count": null,
   "metadata": {},
   "outputs": [],
   "source": [
    "with tf.Session() as sess:\n",
    "    sample = sess.run(res)\n",
    "    print(sample)"
   ]
  },
  {
   "cell_type": "code",
   "execution_count": 21,
   "metadata": {},
   "outputs": [
    {
     "name": "stdout",
     "output_type": "stream",
     "text": [
      "=== Dijkstra ===\n",
      "[('A', 'B', 7), ('A', 'D', 5), ('B', 'C', 8), ('B', 'D', 9), ('B', 'E', 7), ('C', 'E', 5), ('D', 'E', 15), ('D', 'F', 6), ('E', 'F', 8), ('E', 'G', 9), ('F', 'G', 11)]\n",
      "A -> E:\n",
      "(14, ('E', ('B', ('A', ()))))\n",
      "F -> E:\n",
      "inf\n"
     ]
    }
   ],
   "source": [
    "from collections import defaultdict\n",
    "from heapq import *\n",
    "\n",
    "def dijkstra(edges, f, t):\n",
    "    g = defaultdict(list)\n",
    "    for l,r,c in edges:\n",
    "        g[l].append((c,r))\n",
    "\n",
    "    q, seen, mins = [(0,f,())], set(), {f: 0}\n",
    "    while q:\n",
    "        (cost,v1,path) = heappop(q)\n",
    "        if v1 not in seen:\n",
    "            seen.add(v1)\n",
    "            path = (v1, path)\n",
    "            if v1 == t: return (cost, path)\n",
    "\n",
    "            for c, v2 in g.get(v1, ()):\n",
    "                if v2 in seen: continue\n",
    "                prev = mins.get(v2, None)\n",
    "                next = cost + c\n",
    "                if prev is None or next < prev:\n",
    "                    mins[v2] = next\n",
    "                    heappush(q, (next, v2, path))\n",
    "\n",
    "    return float(\"inf\")\n",
    "\n",
    "\n",
    "edges = [\n",
    "    (\"A\", \"B\", 7),\n",
    "    (\"A\", \"D\", 5),\n",
    "    (\"B\", \"C\", 8),\n",
    "    (\"B\", \"D\", 9),\n",
    "    (\"B\", \"E\", 7),\n",
    "    (\"C\", \"E\", 5),\n",
    "    (\"D\", \"E\", 15),\n",
    "    (\"D\", \"F\", 6),\n",
    "    (\"E\", \"F\", 8),\n",
    "    (\"E\", \"G\", 9),\n",
    "    (\"F\", \"G\", 11)\n",
    "]\n",
    "\n",
    "print (\"=== Dijkstra ===\")\n",
    "print (edges)\n",
    "print (\"A -> E:\")\n",
    "print (dijkstra(edges, \"A\", \"E\"))\n",
    "print (\"F -> E:\")\n",
    "print (dijkstra(edges, \"F\", \"E\"))"
   ]
  },
  {
   "cell_type": "code",
   "execution_count": 28,
   "metadata": {},
   "outputs": [
    {
     "data": {
      "text/plain": [
       "{1: 1, '12': 3}"
      ]
     },
     "execution_count": 28,
     "metadata": {},
     "output_type": "execute_result"
    }
   ],
   "source": [
    "{1:1, \"12\":3}\n"
   ]
  },
  {
   "cell_type": "code",
   "execution_count": 16,
   "metadata": {},
   "outputs": [],
   "source": [
    "g = Graph()\n",
    "g.add_node(1)\n",
    "g.add_node(2)\n",
    "g.add_node(3)\n",
    "g.add_node(4)\n",
    "g.add_edge(1, 2, 20)\n",
    "g.add_edge(2, 3, 20)"
   ]
  },
  {
   "cell_type": "code",
   "execution_count": 18,
   "metadata": {},
   "outputs": [
    {
     "ename": "KeyError",
     "evalue": "(2, 1)",
     "output_type": "error",
     "traceback": [
      "\u001b[1;31m---------------------------------------------------------------------------\u001b[0m",
      "\u001b[1;31mKeyError\u001b[0m                                  Traceback (most recent call last)",
      "\u001b[1;32m<ipython-input-18-4a0bec660600>\u001b[0m in \u001b[0;36m<module>\u001b[1;34m()\u001b[0m\n\u001b[1;32m----> 1\u001b[1;33m \u001b[0mdijsktra\u001b[0m\u001b[1;33m(\u001b[0m\u001b[0mg\u001b[0m\u001b[1;33m,\u001b[0m\u001b[1;36m1\u001b[0m\u001b[1;33m)\u001b[0m\u001b[1;33m\u001b[0m\u001b[0m\n\u001b[0m",
      "\u001b[1;32m<ipython-input-9-39a0c2dcdeee>\u001b[0m in \u001b[0;36mdijsktra\u001b[1;34m(graph, initial)\u001b[0m\n\u001b[0;32m     38\u001b[0m \u001b[1;33m\u001b[0m\u001b[0m\n\u001b[0;32m     39\u001b[0m     \u001b[1;32mfor\u001b[0m \u001b[0medge\u001b[0m \u001b[1;32min\u001b[0m \u001b[0mgraph\u001b[0m\u001b[1;33m.\u001b[0m\u001b[0medges\u001b[0m\u001b[1;33m[\u001b[0m\u001b[0mmin_node\u001b[0m\u001b[1;33m]\u001b[0m\u001b[1;33m:\u001b[0m\u001b[1;33m\u001b[0m\u001b[0m\n\u001b[1;32m---> 40\u001b[1;33m       \u001b[0mweight\u001b[0m \u001b[1;33m=\u001b[0m \u001b[0mcurrent_weight\u001b[0m \u001b[1;33m+\u001b[0m \u001b[0mgraph\u001b[0m\u001b[1;33m.\u001b[0m\u001b[0mdistances\u001b[0m\u001b[1;33m[\u001b[0m\u001b[1;33m(\u001b[0m\u001b[0mmin_node\u001b[0m\u001b[1;33m,\u001b[0m \u001b[0medge\u001b[0m\u001b[1;33m)\u001b[0m\u001b[1;33m]\u001b[0m\u001b[1;33m\u001b[0m\u001b[0m\n\u001b[0m\u001b[0;32m     41\u001b[0m       \u001b[1;32mif\u001b[0m \u001b[0medge\u001b[0m \u001b[1;32mnot\u001b[0m \u001b[1;32min\u001b[0m \u001b[0mvisited\u001b[0m \u001b[1;32mor\u001b[0m \u001b[0mweight\u001b[0m \u001b[1;33m<\u001b[0m \u001b[0mvisited\u001b[0m\u001b[1;33m[\u001b[0m\u001b[0medge\u001b[0m\u001b[1;33m]\u001b[0m\u001b[1;33m:\u001b[0m\u001b[1;33m\u001b[0m\u001b[0m\n\u001b[0;32m     42\u001b[0m         \u001b[0mvisited\u001b[0m\u001b[1;33m[\u001b[0m\u001b[0medge\u001b[0m\u001b[1;33m]\u001b[0m \u001b[1;33m=\u001b[0m \u001b[0mweight\u001b[0m\u001b[1;33m\u001b[0m\u001b[0m\n",
      "\u001b[1;31mKeyError\u001b[0m: (2, 1)"
     ]
    }
   ],
   "source": [
    "dijsktra(g,1)"
   ]
  },
  {
   "cell_type": "code",
   "execution_count": 27,
   "metadata": {},
   "outputs": [
    {
     "data": {
      "text/plain": [
       "1"
      ]
     },
     "execution_count": 27,
     "metadata": {},
     "output_type": "execute_result"
    }
   ],
   "source": [
    "int(\"+01\")"
   ]
  },
  {
   "cell_type": "code",
   "execution_count": 29,
   "metadata": {},
   "outputs": [],
   "source": [
    "from collections import deque"
   ]
  },
  {
   "cell_type": "code",
   "execution_count": 30,
   "metadata": {},
   "outputs": [],
   "source": [
    "d = deque()"
   ]
  },
  {
   "cell_type": "code",
   "execution_count": 34,
   "metadata": {},
   "outputs": [],
   "source": [
    "d.appendleft(1)"
   ]
  },
  {
   "cell_type": "code",
   "execution_count": 32,
   "metadata": {},
   "outputs": [
    {
     "data": {
      "text/plain": [
       "deque([[1, 2, 3, 4]])"
      ]
     },
     "execution_count": 32,
     "metadata": {},
     "output_type": "execute_result"
    }
   ],
   "source": [
    "d\n"
   ]
  },
  {
   "cell_type": "code",
   "execution_count": 29,
   "metadata": {},
   "outputs": [
    {
     "name": "stdout",
     "output_type": "stream",
     "text": [
      "__________________________________________________________________________________________________\n",
      "Layer (type)                    Output Shape         Param #     Connected to                     \n",
      "==================================================================================================\n",
      "X_pitch (InputLayer)            (None, 10, 25)       0                                            \n",
      "__________________________________________________________________________________________________\n",
      "X_rythm (InputLayer)            (None, 10, 5)        0                                            \n",
      "__________________________________________________________________________________________________\n",
      "lambda_1 (Lambda)               (None, 25, 1)        0           X_pitch[0][0]                    \n",
      "__________________________________________________________________________________________________\n",
      "pitch_state_0 (InputLayer)      (None, 50)           0                                            \n",
      "__________________________________________________________________________________________________\n",
      "lambda_2 (Lambda)               (None, 5, 1)         0           X_rythm[0][0]                    \n",
      "__________________________________________________________________________________________________\n",
      "rythm_state_0 (InputLayer)      (None, 50)           0                                            \n",
      "__________________________________________________________________________________________________\n",
      "gru_2 (GRU)                     (None, 50)           7800        lambda_1[0][0]                   \n",
      "                                                                 pitch_state_0[0][0]              \n",
      "                                                                 lambda_3[0][0]                   \n",
      "                                                                 gru_2[0][0]                      \n",
      "                                                                 lambda_5[0][0]                   \n",
      "                                                                 gru_2[1][0]                      \n",
      "                                                                 lambda_7[0][0]                   \n",
      "                                                                 gru_2[2][0]                      \n",
      "                                                                 lambda_9[0][0]                   \n",
      "                                                                 gru_2[3][0]                      \n",
      "                                                                 lambda_11[0][0]                  \n",
      "                                                                 gru_2[4][0]                      \n",
      "                                                                 lambda_13[0][0]                  \n",
      "                                                                 gru_2[5][0]                      \n",
      "                                                                 lambda_15[0][0]                  \n",
      "                                                                 gru_2[6][0]                      \n",
      "                                                                 lambda_17[0][0]                  \n",
      "                                                                 gru_2[7][0]                      \n",
      "                                                                 lambda_19[0][0]                  \n",
      "                                                                 gru_2[8][0]                      \n",
      "__________________________________________________________________________________________________\n",
      "lambda_3 (Lambda)               (None, 25, 1)        0           X_pitch[0][0]                    \n",
      "__________________________________________________________________________________________________\n",
      "gru_3 (GRU)                     (None, 50)           7800        lambda_2[0][0]                   \n",
      "                                                                 rythm_state_0[0][0]              \n",
      "                                                                 lambda_4[0][0]                   \n",
      "                                                                 gru_3[0][0]                      \n",
      "                                                                 lambda_6[0][0]                   \n",
      "                                                                 gru_3[1][0]                      \n",
      "                                                                 lambda_8[0][0]                   \n",
      "                                                                 gru_3[2][0]                      \n",
      "                                                                 lambda_10[0][0]                  \n",
      "                                                                 gru_3[3][0]                      \n",
      "                                                                 lambda_12[0][0]                  \n",
      "                                                                 gru_3[4][0]                      \n",
      "                                                                 lambda_14[0][0]                  \n",
      "                                                                 gru_3[5][0]                      \n",
      "                                                                 lambda_16[0][0]                  \n",
      "                                                                 gru_3[6][0]                      \n",
      "                                                                 lambda_18[0][0]                  \n",
      "                                                                 gru_3[7][0]                      \n",
      "                                                                 lambda_20[0][0]                  \n",
      "                                                                 gru_3[8][0]                      \n",
      "__________________________________________________________________________________________________\n",
      "lambda_4 (Lambda)               (None, 5, 1)         0           X_rythm[0][0]                    \n",
      "__________________________________________________________________________________________________\n",
      "lambda_5 (Lambda)               (None, 25, 1)        0           X_pitch[0][0]                    \n",
      "__________________________________________________________________________________________________\n",
      "lambda_6 (Lambda)               (None, 5, 1)         0           X_rythm[0][0]                    \n",
      "__________________________________________________________________________________________________\n",
      "lambda_7 (Lambda)               (None, 25, 1)        0           X_pitch[0][0]                    \n",
      "__________________________________________________________________________________________________\n",
      "lambda_8 (Lambda)               (None, 5, 1)         0           X_rythm[0][0]                    \n",
      "__________________________________________________________________________________________________\n",
      "lambda_9 (Lambda)               (None, 25, 1)        0           X_pitch[0][0]                    \n",
      "__________________________________________________________________________________________________\n",
      "lambda_10 (Lambda)              (None, 5, 1)         0           X_rythm[0][0]                    \n",
      "__________________________________________________________________________________________________\n",
      "lambda_11 (Lambda)              (None, 25, 1)        0           X_pitch[0][0]                    \n",
      "__________________________________________________________________________________________________\n",
      "lambda_12 (Lambda)              (None, 5, 1)         0           X_rythm[0][0]                    \n",
      "__________________________________________________________________________________________________\n",
      "lambda_13 (Lambda)              (None, 25, 1)        0           X_pitch[0][0]                    \n",
      "__________________________________________________________________________________________________\n",
      "lambda_14 (Lambda)              (None, 5, 1)         0           X_rythm[0][0]                    \n",
      "__________________________________________________________________________________________________\n",
      "lambda_15 (Lambda)              (None, 25, 1)        0           X_pitch[0][0]                    \n",
      "__________________________________________________________________________________________________\n",
      "lambda_16 (Lambda)              (None, 5, 1)         0           X_rythm[0][0]                    \n",
      "__________________________________________________________________________________________________\n",
      "lambda_17 (Lambda)              (None, 25, 1)        0           X_pitch[0][0]                    \n",
      "__________________________________________________________________________________________________\n",
      "lambda_18 (Lambda)              (None, 5, 1)         0           X_rythm[0][0]                    \n",
      "__________________________________________________________________________________________________\n",
      "lambda_19 (Lambda)              (None, 25, 1)        0           X_pitch[0][0]                    \n",
      "__________________________________________________________________________________________________\n",
      "lambda_20 (Lambda)              (None, 5, 1)         0           X_rythm[0][0]                    \n",
      "__________________________________________________________________________________________________\n",
      "dense_1 (Dense)                 (None, 25)           1275        gru_2[0][0]                      \n",
      "                                                                 gru_2[1][0]                      \n",
      "                                                                 gru_2[2][0]                      \n",
      "                                                                 gru_2[3][0]                      \n",
      "                                                                 gru_2[4][0]                      \n",
      "                                                                 gru_2[5][0]                      \n",
      "                                                                 gru_2[6][0]                      \n",
      "                                                                 gru_2[7][0]                      \n",
      "                                                                 gru_2[8][0]                      \n",
      "                                                                 gru_2[9][0]                      \n",
      "__________________________________________________________________________________________________\n",
      "dense_2 (Dense)                 (None, 25)           1275        gru_3[0][0]                      \n",
      "                                                                 gru_3[1][0]                      \n",
      "                                                                 gru_3[2][0]                      \n",
      "                                                                 gru_3[3][0]                      \n",
      "                                                                 gru_3[4][0]                      \n",
      "                                                                 gru_3[5][0]                      \n",
      "                                                                 gru_3[6][0]                      \n",
      "                                                                 gru_3[7][0]                      \n",
      "                                                                 gru_3[8][0]                      \n",
      "                                                                 gru_3[9][0]                      \n",
      "__________________________________________________________________________________________________\n",
      "concatenate_10 (Concatenate)    (None, 50)           0           dense_1[9][0]                    \n",
      "                                                                 dense_2[9][0]                    \n",
      "__________________________________________________________________________________________________\n",
      "concatenate_9 (Concatenate)     (None, 50)           0           dense_1[8][0]                    \n",
      "                                                                 dense_2[8][0]                    \n",
      "__________________________________________________________________________________________________\n",
      "concatenate_8 (Concatenate)     (None, 50)           0           dense_1[7][0]                    \n",
      "                                                                 dense_2[7][0]                    \n",
      "__________________________________________________________________________________________________\n",
      "concatenate_7 (Concatenate)     (None, 50)           0           dense_1[6][0]                    \n",
      "                                                                 dense_2[6][0]                    \n",
      "__________________________________________________________________________________________________\n",
      "concatenate_6 (Concatenate)     (None, 50)           0           dense_1[5][0]                    \n",
      "                                                                 dense_2[5][0]                    \n",
      "__________________________________________________________________________________________________\n",
      "concatenate_5 (Concatenate)     (None, 50)           0           dense_1[4][0]                    \n",
      "                                                                 dense_2[4][0]                    \n",
      "__________________________________________________________________________________________________\n",
      "concatenate_4 (Concatenate)     (None, 50)           0           dense_1[3][0]                    \n",
      "                                                                 dense_2[3][0]                    \n",
      "__________________________________________________________________________________________________\n",
      "concatenate_3 (Concatenate)     (None, 50)           0           dense_1[2][0]                    \n",
      "                                                                 dense_2[2][0]                    \n",
      "__________________________________________________________________________________________________\n",
      "concatenate_2 (Concatenate)     (None, 50)           0           dense_1[1][0]                    \n",
      "                                                                 dense_2[1][0]                    \n",
      "__________________________________________________________________________________________________\n",
      "concatenate_1 (Concatenate)     (None, 50)           0           dense_1[0][0]                    \n",
      "                                                                 dense_2[0][0]                    \n",
      "__________________________________________________________________________________________________\n",
      "reshape_3 (Reshape)             (None, 50, 1)        0           concatenate_1[0][0]              \n",
      "                                                                 concatenate_2[0][0]              \n",
      "                                                                 concatenate_3[0][0]              \n",
      "                                                                 concatenate_4[0][0]              \n",
      "                                                                 concatenate_5[0][0]              \n",
      "                                                                 concatenate_6[0][0]              \n",
      "                                                                 concatenate_7[0][0]              \n",
      "                                                                 concatenate_8[0][0]              \n",
      "                                                                 concatenate_9[0][0]              \n",
      "                                                                 concatenate_10[0][0]             \n",
      "__________________________________________________________________________________________________\n",
      "manager_state_0 (InputLayer)    (None, 50)           0                                            \n",
      "__________________________________________________________________________________________________\n",
      "gru_1 (GRU)                     (None, 50)           7800        reshape_3[0][0]                  \n",
      "                                                                 manager_state_0[0][0]            \n",
      "                                                                 reshape_3[1][0]                  \n",
      "                                                                 gru_1[0][0]                      \n",
      "                                                                 reshape_3[2][0]                  \n",
      "                                                                 gru_1[1][0]                      \n",
      "                                                                 reshape_3[3][0]                  \n",
      "                                                                 gru_1[2][0]                      \n",
      "                                                                 reshape_3[4][0]                  \n",
      "                                                                 gru_1[3][0]                      \n",
      "                                                                 reshape_3[5][0]                  \n",
      "                                                                 gru_1[4][0]                      \n",
      "                                                                 reshape_3[6][0]                  \n",
      "                                                                 gru_1[5][0]                      \n",
      "                                                                 reshape_3[7][0]                  \n",
      "                                                                 gru_1[6][0]                      \n",
      "                                                                 reshape_3[8][0]                  \n",
      "                                                                 gru_1[7][0]                      \n",
      "                                                                 reshape_3[9][0]                  \n",
      "                                                                 gru_1[8][0]                      \n",
      "__________________________________________________________________________________________________\n",
      "dense_3 (Dense)                 (None, 40)           2040        gru_1[9][0]                      \n",
      "__________________________________________________________________________________________________\n",
      "dense_4 (Dense)                 (None, 20)           1020        gru_1[9][0]                      \n",
      "__________________________________________________________________________________________________\n",
      "dense_5 (Dense)                 (None, 25)           1025        dense_3[0][0]                    \n",
      "__________________________________________________________________________________________________\n",
      "dense_6 (Dense)                 (None, 5)            105         dense_4[0][0]                    \n",
      "==================================================================================================\n",
      "Total params: 30,140\n",
      "Trainable params: 30,140\n",
      "Non-trainable params: 0\n",
      "__________________________________________________________________________________________________\n"
     ]
    }
   ],
   "source": [
    "model.summary()"
   ]
  },
  {
   "cell_type": "code",
   "execution_count": null,
   "metadata": {},
   "outputs": [],
   "source": []
  }
 ],
 "metadata": {
  "kernelspec": {
   "display_name": "Python [conda env:condathree]",
   "language": "python",
   "name": "conda-env-condathree-py"
  },
  "language_info": {
   "codemirror_mode": {
    "name": "ipython",
    "version": 3
   },
   "file_extension": ".py",
   "mimetype": "text/x-python",
   "name": "python",
   "nbconvert_exporter": "python",
   "pygments_lexer": "ipython3",
   "version": "3.5.5"
  }
 },
 "nbformat": 4,
 "nbformat_minor": 2
}
