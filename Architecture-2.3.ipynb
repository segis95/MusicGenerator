{
 "cells": [
  {
   "cell_type": "markdown",
   "metadata": {},
   "source": [
    " In this Release we chqnge the following:\n",
    " - encoder-decoder architecture + VAE; \n"
   ]
  },
  {
   "cell_type": "code",
   "execution_count": 196,
   "metadata": {},
   "outputs": [],
   "source": [
    "import keras\n",
    "from keras import backend as K\n",
    "from keras.models import Sequential, Model\n",
    "from keras.layers import Input, LSTM, RepeatVector, Concatenate\n",
    "from keras.layers.core import Flatten, Dense, Dropout, Lambda\n",
    "from keras.optimizers import SGD, RMSprop, Adam\n",
    "from keras import objectives\n",
    "import pickle\n",
    "\n",
    "\n",
    "def create_lstm_vae(input_dim_pitch, input_dim_rythm,\n",
    "    timesteps, \n",
    "    batch_size, \n",
    "    intermediate_dim_pitch, intermediate_dim_rythm,\n",
    "    latent_dim,\n",
    "    epsilon_std=1.):\n",
    "\n",
    "    \"\"\"\n",
    "    Creates an LSTM Variational Autoencoder (VAE). Returns VAE, Encoder, Generator. \n",
    "    # Arguments\n",
    "        input_dim: int.\n",
    "        timesteps: int, input timestep dimension.\n",
    "        batch_size: int.\n",
    "        intermediate_dim: int, output shape of LSTM. \n",
    "        latent_dim: int, latent z-layer shape. \n",
    "        epsilon_std: float, z-layer sigma.\n",
    "    # References\n",
    "        - [Building Autoencoders in Keras](https://blog.keras.io/building-autoencoders-in-keras.html)\n",
    "        - [Generating sentences from a continuous space](https://arxiv.org/abs/1511.06349)\n",
    "    \"\"\"\n",
    "    x_pitch = Input(shape=(timesteps, input_dim_pitch,), name = \"pitch_input\")\n",
    "    x_rythm = Input(shape=(timesteps, input_dim_rythm,), name = \"rythm_input\")\n",
    "\n",
    "    # LSTM encoding\n",
    "    h_pitch = LSTM(intermediate_dim_pitch)(x_pitch)\n",
    "    h_rythm = LSTM(intermediate_dim_rythm)(x_rythm)\n",
    "\n",
    "    h = Concatenate(axis = -1)([h_pitch, h_rythm])\n",
    "    # VAE Z layer\n",
    "    z_mean= Dense(latent_dim)(h)\n",
    "    z_log_sigma = Dense(latent_dim)(h)\n",
    "\n",
    "    \n",
    "    def sampling(args):\n",
    "        z_mean, z_log_sigma = args\n",
    "        epsilon = K.random_normal(shape=(batch_size, latent_dim),\n",
    "            mean=0., stddev=epsilon_std)\n",
    "        \n",
    "        print(z_log_sigma.shape)\n",
    "        print(epsilon.shape)\n",
    "        return z_mean + z_log_sigma * epsilon\n",
    "    \n",
    "\n",
    "\n",
    "    # note that \"output_shape\" isn't necessary with the TensorFlow backend\n",
    "    # so you could write `Lambda(sampling)([z_mean, z_log_sigma])`\n",
    "    z = Lambda(sampling, output_shape=(latent_dim,))([z_mean, z_log_sigma])\n",
    "\n",
    "    \n",
    "    # decoded LSTM layer\n",
    "    decoder_h_pitch = LSTM(intermediate_dim_pitch, return_sequences=True)\n",
    "    decoder_mean_pitch = LSTM(input_dim_pitch, return_sequences=True, name = \"pitch\")\n",
    "    \n",
    "    decoder_h_rythm = LSTM(intermediate_dim_rythm, return_sequences=True)\n",
    "    decoder_mean_rythm = LSTM(input_dim_rythm, return_sequences=True, name = \"rythm\")\n",
    "\n",
    "    h_decoded_pitch = RepeatVector(timesteps)(z)\n",
    "    h_decoded_pitch = decoder_h_pitch(h_decoded_pitch)\n",
    "    \n",
    "    h_decoded_rythm = RepeatVector(timesteps)(z)\n",
    "    h_decoded_rythm = decoder_h_rythm(h_decoded_rythm)\n",
    "\n",
    "    # decoded layer\n",
    "    x_decoded_mean_pitch = decoder_mean_pitch(h_decoded_pitch)\n",
    "    \n",
    "    x_decoded_mean_rythm = decoder_mean_rythm(h_decoded_rythm)\n",
    "    \n",
    "    # end-to-end autoencoder\n",
    "    vae = Model([x_pitch, x_rythm], [x_decoded_mean_pitch, x_decoded_mean_rythm])\n",
    "    # encoder, from inputs to latent space\n",
    "    \n",
    "    encoder_pitch = Model([x_pitch, x_rythm], z_mean)\n",
    "    encoder_rythm = Model([x_pitch, x_rythm], z_mean)\n",
    "\n",
    "    # generator, from latent space to reconstructed inputs\n",
    "    decoder_input_pitch = Input(shape=(latent_dim,))\n",
    "    decoder_input_rythm = Input(shape=(latent_dim,))\n",
    "\n",
    "    _h_decoded_pitch = RepeatVector(timesteps)(decoder_input_pitch)\n",
    "    _h_decoded_pitch = decoder_h_pitch(_h_decoded_pitch)\n",
    "    \n",
    "    _h_decoded_rythm = RepeatVector(timesteps)(decoder_input_rythm)\n",
    "    _h_decoded_rythm = decoder_h_rythm(_h_decoded_rythm)\n",
    "\n",
    "    \n",
    "    _x_decoded_mean_pitch = decoder_mean_pitch(_h_decoded_pitch)\n",
    "    generator_pitch = Model(decoder_input_pitch, _x_decoded_mean_pitch)\n",
    "    \n",
    "    _x_decoded_mean_rythm = decoder_mean_rythm(_h_decoded_rythm)\n",
    "    generator_rythm = Model(decoder_input_rythm, _x_decoded_mean_rythm)\n",
    "    \n",
    "    def vae_loss_pitch(x, x_decoded_mean):\n",
    "        xent_loss = objectives.mse(x, x_decoded_mean)\n",
    "        kl_loss = - 0.5 * K.mean(1 + z_log_sigma - K.square(z_mean) - K.exp(z_log_sigma))\n",
    "        loss = xent_loss + kl_loss\n",
    "        return loss\n",
    "    \n",
    "    def vae_loss_rythm(x, x_decoded_mean):\n",
    "        loss = objectives.mse(x, x_decoded_mean)\n",
    "        return loss\n",
    "    encoder_pitch = Model([x_pitch, x_rythm], z_mean)\n",
    "    vae.compile(optimizer='adam', loss={\"pitch\":vae_loss_pitch, \"rythm\":vae_loss_rythm})\n",
    "    \n",
    "    return vae, encoder_pitch, encoder_rythm, generator_pitch, generator_rythm"
   ]
  },
  {
   "cell_type": "code",
   "execution_count": 197,
   "metadata": {},
   "outputs": [
    {
     "name": "stdout",
     "output_type": "stream",
     "text": [
      "(?, 100)\n",
      "(100, 100)\n"
     ]
    }
   ],
   "source": [
    "vae, encoder_pitch, encoder_rythm, generator_pitch, generator_rythm = create_lstm_vae(\n",
    "    input_dim_pitch = 25, input_dim_rythm = 5,\n",
    "    timesteps = 10, \n",
    "    batch_size = 100, \n",
    "    intermediate_dim_pitch = 100, intermediate_dim_rythm = 100,\n",
    "    latent_dim = 100)"
   ]
  },
  {
   "cell_type": "code",
   "execution_count": 198,
   "metadata": {},
   "outputs": [
    {
     "name": "stdout",
     "output_type": "stream",
     "text": [
      "__________________________________________________________________________________________________\n",
      "Layer (type)                    Output Shape         Param #     Connected to                     \n",
      "==================================================================================================\n",
      "pitch_input (InputLayer)        (None, 10, 25)       0                                            \n",
      "__________________________________________________________________________________________________\n",
      "rythm_input (InputLayer)        (None, 10, 5)        0                                            \n",
      "__________________________________________________________________________________________________\n",
      "lstm_49 (LSTM)                  (None, 100)          50400       pitch_input[0][0]                \n",
      "__________________________________________________________________________________________________\n",
      "lstm_50 (LSTM)                  (None, 100)          42400       rythm_input[0][0]                \n",
      "__________________________________________________________________________________________________\n",
      "concatenate_13 (Concatenate)    (None, 200)          0           lstm_49[0][0]                    \n",
      "                                                                 lstm_50[0][0]                    \n",
      "__________________________________________________________________________________________________\n",
      "dense_25 (Dense)                (None, 100)          20100       concatenate_13[0][0]             \n",
      "__________________________________________________________________________________________________\n",
      "dense_26 (Dense)                (None, 100)          20100       concatenate_13[0][0]             \n",
      "__________________________________________________________________________________________________\n",
      "lambda_13 (Lambda)              (None, 100)          0           dense_25[0][0]                   \n",
      "                                                                 dense_26[0][0]                   \n",
      "__________________________________________________________________________________________________\n",
      "repeat_vector_27 (RepeatVector) (None, 10, 100)      0           lambda_13[0][0]                  \n",
      "__________________________________________________________________________________________________\n",
      "repeat_vector_28 (RepeatVector) (None, 10, 100)      0           lambda_13[0][0]                  \n",
      "__________________________________________________________________________________________________\n",
      "lstm_51 (LSTM)                  (None, 10, 100)      80400       repeat_vector_27[0][0]           \n",
      "__________________________________________________________________________________________________\n",
      "lstm_52 (LSTM)                  (None, 10, 100)      80400       repeat_vector_28[0][0]           \n",
      "__________________________________________________________________________________________________\n",
      "pitch (LSTM)                    (None, 10, 25)       12600       lstm_51[0][0]                    \n",
      "__________________________________________________________________________________________________\n",
      "rythm (LSTM)                    (None, 10, 5)        2120        lstm_52[0][0]                    \n",
      "==================================================================================================\n",
      "Total params: 308,520\n",
      "Trainable params: 308,520\n",
      "Non-trainable params: 0\n",
      "__________________________________________________________________________________________________\n"
     ]
    }
   ],
   "source": [
    "vae.summary()"
   ]
  },
  {
   "cell_type": "code",
   "execution_count": null,
   "metadata": {},
   "outputs": [
    {
     "name": "stdout",
     "output_type": "stream",
     "text": [
      "Epoch 1/1\n",
      " 771400/1189307 [==================>...........] - ETA: 4:02 - loss: 0.0435 - pitch_loss: 0.0215 - rythm_loss: 0.0219"
     ]
    }
   ],
   "source": [
    "vae.fit({\"pitch_input\":X_pitch_np, \"rythm_input\":X_rythm_np}, {\"pitch\":X_pitch_np, \"rythm\":X_rythm_np}, batch_size = 100, epochs = 1)"
   ]
  },
  {
   "cell_type": "code",
   "execution_count": 23,
   "metadata": {},
   "outputs": [
    {
     "ename": "InvalidArgumentError",
     "evalue": "Incompatible shapes: [32,87] vs. [100,87]\n\t [[Node: lambda_6/mul = Mul[T=DT_FLOAT, _device=\"/job:localhost/replica:0/task:0/device:GPU:0\"](dense_12/BiasAdd, lambda_6/random_normal)]]\n\t [[Node: pitch_5/transpose_1/_709 = _Recv[client_terminated=false, recv_device=\"/job:localhost/replica:0/task:0/device:CPU:0\", send_device=\"/job:localhost/replica:0/task:0/device:GPU:0\", send_device_incarnation=1, tensor_name=\"edge_1275_pitch_5/transpose_1\", tensor_type=DT_FLOAT, _device=\"/job:localhost/replica:0/task:0/device:CPU:0\"]()]]\n\nCaused by op 'lambda_6/mul', defined at:\n  File \"C:\\Users\\Charles\\Anaconda3\\envs\\condathree\\lib\\runpy.py\", line 193, in _run_module_as_main\n    \"__main__\", mod_spec)\n  File \"C:\\Users\\Charles\\Anaconda3\\envs\\condathree\\lib\\runpy.py\", line 85, in _run_code\n    exec(code, run_globals)\n  File \"C:\\Users\\Charles\\Anaconda3\\envs\\condathree\\lib\\site-packages\\ipykernel\\__main__.py\", line 3, in <module>\n    app.launch_new_instance()\n  File \"C:\\Users\\Charles\\Anaconda3\\envs\\condathree\\lib\\site-packages\\traitlets\\config\\application.py\", line 658, in launch_instance\n    app.start()\n  File \"C:\\Users\\Charles\\Anaconda3\\envs\\condathree\\lib\\site-packages\\ipykernel\\kernelapp.py\", line 486, in start\n    self.io_loop.start()\n  File \"C:\\Users\\Charles\\Anaconda3\\envs\\condathree\\lib\\site-packages\\tornado\\platform\\asyncio.py\", line 127, in start\n    self.asyncio_loop.run_forever()\n  File \"C:\\Users\\Charles\\Anaconda3\\envs\\condathree\\lib\\asyncio\\base_events.py\", line 421, in run_forever\n    self._run_once()\n  File \"C:\\Users\\Charles\\Anaconda3\\envs\\condathree\\lib\\asyncio\\base_events.py\", line 1425, in _run_once\n    handle._run()\n  File \"C:\\Users\\Charles\\Anaconda3\\envs\\condathree\\lib\\asyncio\\events.py\", line 127, in _run\n    self._callback(*self._args)\n  File \"C:\\Users\\Charles\\Anaconda3\\envs\\condathree\\lib\\site-packages\\tornado\\platform\\asyncio.py\", line 117, in _handle_events\n    handler_func(fileobj, events)\n  File \"C:\\Users\\Charles\\Anaconda3\\envs\\condathree\\lib\\site-packages\\tornado\\stack_context.py\", line 276, in null_wrapper\n    return fn(*args, **kwargs)\n  File \"C:\\Users\\Charles\\Anaconda3\\envs\\condathree\\lib\\site-packages\\zmq\\eventloop\\zmqstream.py\", line 450, in _handle_events\n    self._handle_recv()\n  File \"C:\\Users\\Charles\\Anaconda3\\envs\\condathree\\lib\\site-packages\\zmq\\eventloop\\zmqstream.py\", line 480, in _handle_recv\n    self._run_callback(callback, msg)\n  File \"C:\\Users\\Charles\\Anaconda3\\envs\\condathree\\lib\\site-packages\\zmq\\eventloop\\zmqstream.py\", line 432, in _run_callback\n    callback(*args, **kwargs)\n  File \"C:\\Users\\Charles\\Anaconda3\\envs\\condathree\\lib\\site-packages\\tornado\\stack_context.py\", line 276, in null_wrapper\n    return fn(*args, **kwargs)\n  File \"C:\\Users\\Charles\\Anaconda3\\envs\\condathree\\lib\\site-packages\\ipykernel\\kernelbase.py\", line 283, in dispatcher\n    return self.dispatch_shell(stream, msg)\n  File \"C:\\Users\\Charles\\Anaconda3\\envs\\condathree\\lib\\site-packages\\ipykernel\\kernelbase.py\", line 233, in dispatch_shell\n    handler(stream, idents, msg)\n  File \"C:\\Users\\Charles\\Anaconda3\\envs\\condathree\\lib\\site-packages\\ipykernel\\kernelbase.py\", line 399, in execute_request\n    user_expressions, allow_stdin)\n  File \"C:\\Users\\Charles\\Anaconda3\\envs\\condathree\\lib\\site-packages\\ipykernel\\ipkernel.py\", line 208, in do_execute\n    res = shell.run_cell(code, store_history=store_history, silent=silent)\n  File \"C:\\Users\\Charles\\Anaconda3\\envs\\condathree\\lib\\site-packages\\ipykernel\\zmqshell.py\", line 537, in run_cell\n    return super(ZMQInteractiveShell, self).run_cell(*args, **kwargs)\n  File \"C:\\Users\\Charles\\Anaconda3\\envs\\condathree\\lib\\site-packages\\IPython\\core\\interactiveshell.py\", line 2662, in run_cell\n    raw_cell, store_history, silent, shell_futures)\n  File \"C:\\Users\\Charles\\Anaconda3\\envs\\condathree\\lib\\site-packages\\IPython\\core\\interactiveshell.py\", line 2785, in _run_cell\n    interactivity=interactivity, compiler=compiler, result=result)\n  File \"C:\\Users\\Charles\\Anaconda3\\envs\\condathree\\lib\\site-packages\\IPython\\core\\interactiveshell.py\", line 2903, in run_ast_nodes\n    if self.run_code(code, result):\n  File \"C:\\Users\\Charles\\Anaconda3\\envs\\condathree\\lib\\site-packages\\IPython\\core\\interactiveshell.py\", line 2963, in run_code\n    exec(code_obj, self.user_global_ns, self.user_ns)\n  File \"<ipython-input-21-ad2ae365328d>\", line 6, in <module>\n    latent_dim = 87)\n  File \"<ipython-input-20-9dee9869d878>\", line 57, in create_lstm_vae\n    z = Lambda(sampling, output_shape=(latent_dim,))([z_mean, z_log_sigma])\n  File \"C:\\Users\\Charles\\Anaconda3\\envs\\condathree\\lib\\site-packages\\keras\\engine\\topology.py\", line 619, in __call__\n    output = self.call(inputs, **kwargs)\n  File \"C:\\Users\\Charles\\Anaconda3\\envs\\condathree\\lib\\site-packages\\keras\\layers\\core.py\", line 685, in call\n    return self.function(inputs, **arguments)\n  File \"<ipython-input-20-9dee9869d878>\", line 51, in sampling\n    return z_mean + z_log_sigma * epsilon\n  File \"C:\\Users\\Charles\\Anaconda3\\envs\\condathree\\lib\\site-packages\\tensorflow\\python\\ops\\math_ops.py\", line 979, in binary_op_wrapper\n    return func(x, y, name=name)\n  File \"C:\\Users\\Charles\\Anaconda3\\envs\\condathree\\lib\\site-packages\\tensorflow\\python\\ops\\math_ops.py\", line 1211, in _mul_dispatch\n    return gen_math_ops.mul(x, y, name=name)\n  File \"C:\\Users\\Charles\\Anaconda3\\envs\\condathree\\lib\\site-packages\\tensorflow\\python\\ops\\gen_math_ops.py\", line 5066, in mul\n    \"Mul\", x=x, y=y, name=name)\n  File \"C:\\Users\\Charles\\Anaconda3\\envs\\condathree\\lib\\site-packages\\tensorflow\\python\\framework\\op_def_library.py\", line 787, in _apply_op_helper\n    op_def=op_def)\n  File \"C:\\Users\\Charles\\Anaconda3\\envs\\condathree\\lib\\site-packages\\tensorflow\\python\\framework\\ops.py\", line 3392, in create_op\n    op_def=op_def)\n  File \"C:\\Users\\Charles\\Anaconda3\\envs\\condathree\\lib\\site-packages\\tensorflow\\python\\framework\\ops.py\", line 1718, in __init__\n    self._traceback = self._graph._extract_stack()  # pylint: disable=protected-access\n\nInvalidArgumentError (see above for traceback): Incompatible shapes: [32,87] vs. [100,87]\n\t [[Node: lambda_6/mul = Mul[T=DT_FLOAT, _device=\"/job:localhost/replica:0/task:0/device:GPU:0\"](dense_12/BiasAdd, lambda_6/random_normal)]]\n\t [[Node: pitch_5/transpose_1/_709 = _Recv[client_terminated=false, recv_device=\"/job:localhost/replica:0/task:0/device:CPU:0\", send_device=\"/job:localhost/replica:0/task:0/device:GPU:0\", send_device_incarnation=1, tensor_name=\"edge_1275_pitch_5/transpose_1\", tensor_type=DT_FLOAT, _device=\"/job:localhost/replica:0/task:0/device:CPU:0\"]()]]\n",
     "output_type": "error",
     "traceback": [
      "\u001b[1;31m---------------------------------------------------------------------------\u001b[0m",
      "\u001b[1;31mInvalidArgumentError\u001b[0m                      Traceback (most recent call last)",
      "\u001b[1;32m~\\Anaconda3\\envs\\condathree\\lib\\site-packages\\tensorflow\\python\\client\\session.py\u001b[0m in \u001b[0;36m_do_call\u001b[1;34m(self, fn, *args)\u001b[0m\n\u001b[0;32m   1321\u001b[0m     \u001b[1;32mtry\u001b[0m\u001b[1;33m:\u001b[0m\u001b[1;33m\u001b[0m\u001b[0m\n\u001b[1;32m-> 1322\u001b[1;33m       \u001b[1;32mreturn\u001b[0m \u001b[0mfn\u001b[0m\u001b[1;33m(\u001b[0m\u001b[1;33m*\u001b[0m\u001b[0margs\u001b[0m\u001b[1;33m)\u001b[0m\u001b[1;33m\u001b[0m\u001b[0m\n\u001b[0m\u001b[0;32m   1323\u001b[0m     \u001b[1;32mexcept\u001b[0m \u001b[0merrors\u001b[0m\u001b[1;33m.\u001b[0m\u001b[0mOpError\u001b[0m \u001b[1;32mas\u001b[0m \u001b[0me\u001b[0m\u001b[1;33m:\u001b[0m\u001b[1;33m\u001b[0m\u001b[0m\n",
      "\u001b[1;32m~\\Anaconda3\\envs\\condathree\\lib\\site-packages\\tensorflow\\python\\client\\session.py\u001b[0m in \u001b[0;36m_run_fn\u001b[1;34m(feed_dict, fetch_list, target_list, options, run_metadata)\u001b[0m\n\u001b[0;32m   1306\u001b[0m       return self._call_tf_sessionrun(\n\u001b[1;32m-> 1307\u001b[1;33m           options, feed_dict, fetch_list, target_list, run_metadata)\n\u001b[0m\u001b[0;32m   1308\u001b[0m \u001b[1;33m\u001b[0m\u001b[0m\n",
      "\u001b[1;32m~\\Anaconda3\\envs\\condathree\\lib\\site-packages\\tensorflow\\python\\client\\session.py\u001b[0m in \u001b[0;36m_call_tf_sessionrun\u001b[1;34m(self, options, feed_dict, fetch_list, target_list, run_metadata)\u001b[0m\n\u001b[0;32m   1408\u001b[0m           \u001b[0mself\u001b[0m\u001b[1;33m.\u001b[0m\u001b[0m_session\u001b[0m\u001b[1;33m,\u001b[0m \u001b[0moptions\u001b[0m\u001b[1;33m,\u001b[0m \u001b[0mfeed_dict\u001b[0m\u001b[1;33m,\u001b[0m \u001b[0mfetch_list\u001b[0m\u001b[1;33m,\u001b[0m \u001b[0mtarget_list\u001b[0m\u001b[1;33m,\u001b[0m\u001b[1;33m\u001b[0m\u001b[0m\n\u001b[1;32m-> 1409\u001b[1;33m           run_metadata)\n\u001b[0m\u001b[0;32m   1410\u001b[0m     \u001b[1;32melse\u001b[0m\u001b[1;33m:\u001b[0m\u001b[1;33m\u001b[0m\u001b[0m\n",
      "\u001b[1;31mInvalidArgumentError\u001b[0m: Incompatible shapes: [32,87] vs. [100,87]\n\t [[Node: lambda_6/mul = Mul[T=DT_FLOAT, _device=\"/job:localhost/replica:0/task:0/device:GPU:0\"](dense_12/BiasAdd, lambda_6/random_normal)]]\n\t [[Node: pitch_5/transpose_1/_709 = _Recv[client_terminated=false, recv_device=\"/job:localhost/replica:0/task:0/device:CPU:0\", send_device=\"/job:localhost/replica:0/task:0/device:GPU:0\", send_device_incarnation=1, tensor_name=\"edge_1275_pitch_5/transpose_1\", tensor_type=DT_FLOAT, _device=\"/job:localhost/replica:0/task:0/device:CPU:0\"]()]]",
      "\nDuring handling of the above exception, another exception occurred:\n",
      "\u001b[1;31mInvalidArgumentError\u001b[0m                      Traceback (most recent call last)",
      "\u001b[1;32m<ipython-input-23-5d12dfa48329>\u001b[0m in \u001b[0;36m<module>\u001b[1;34m()\u001b[0m\n\u001b[1;32m----> 1\u001b[1;33m \u001b[0mvae\u001b[0m\u001b[1;33m.\u001b[0m\u001b[0mpredict\u001b[0m\u001b[1;33m(\u001b[0m\u001b[1;33m[\u001b[0m\u001b[0mX_pitch_np\u001b[0m\u001b[1;33m,\u001b[0m \u001b[0mX_rythm_np\u001b[0m\u001b[1;33m]\u001b[0m\u001b[1;33m)\u001b[0m\u001b[1;33m\u001b[0m\u001b[0m\n\u001b[0m",
      "\u001b[1;32m~\\Anaconda3\\envs\\condathree\\lib\\site-packages\\keras\\engine\\training.py\u001b[0m in \u001b[0;36mpredict\u001b[1;34m(self, x, batch_size, verbose, steps)\u001b[0m\n\u001b[0;32m   1833\u001b[0m         \u001b[0mf\u001b[0m \u001b[1;33m=\u001b[0m \u001b[0mself\u001b[0m\u001b[1;33m.\u001b[0m\u001b[0mpredict_function\u001b[0m\u001b[1;33m\u001b[0m\u001b[0m\n\u001b[0;32m   1834\u001b[0m         return self._predict_loop(f, ins, batch_size=batch_size,\n\u001b[1;32m-> 1835\u001b[1;33m                                   verbose=verbose, steps=steps)\n\u001b[0m\u001b[0;32m   1836\u001b[0m \u001b[1;33m\u001b[0m\u001b[0m\n\u001b[0;32m   1837\u001b[0m     def train_on_batch(self, x, y,\n",
      "\u001b[1;32m~\\Anaconda3\\envs\\condathree\\lib\\site-packages\\keras\\engine\\training.py\u001b[0m in \u001b[0;36m_predict_loop\u001b[1;34m(self, f, ins, batch_size, verbose, steps)\u001b[0m\n\u001b[0;32m   1329\u001b[0m                     \u001b[0mins_batch\u001b[0m\u001b[1;33m[\u001b[0m\u001b[0mi\u001b[0m\u001b[1;33m]\u001b[0m \u001b[1;33m=\u001b[0m \u001b[0mins_batch\u001b[0m\u001b[1;33m[\u001b[0m\u001b[0mi\u001b[0m\u001b[1;33m]\u001b[0m\u001b[1;33m.\u001b[0m\u001b[0mtoarray\u001b[0m\u001b[1;33m(\u001b[0m\u001b[1;33m)\u001b[0m\u001b[1;33m\u001b[0m\u001b[0m\n\u001b[0;32m   1330\u001b[0m \u001b[1;33m\u001b[0m\u001b[0m\n\u001b[1;32m-> 1331\u001b[1;33m                 \u001b[0mbatch_outs\u001b[0m \u001b[1;33m=\u001b[0m \u001b[0mf\u001b[0m\u001b[1;33m(\u001b[0m\u001b[0mins_batch\u001b[0m\u001b[1;33m)\u001b[0m\u001b[1;33m\u001b[0m\u001b[0m\n\u001b[0m\u001b[0;32m   1332\u001b[0m                 \u001b[1;32mif\u001b[0m \u001b[1;32mnot\u001b[0m \u001b[0misinstance\u001b[0m\u001b[1;33m(\u001b[0m\u001b[0mbatch_outs\u001b[0m\u001b[1;33m,\u001b[0m \u001b[0mlist\u001b[0m\u001b[1;33m)\u001b[0m\u001b[1;33m:\u001b[0m\u001b[1;33m\u001b[0m\u001b[0m\n\u001b[0;32m   1333\u001b[0m                     \u001b[0mbatch_outs\u001b[0m \u001b[1;33m=\u001b[0m \u001b[1;33m[\u001b[0m\u001b[0mbatch_outs\u001b[0m\u001b[1;33m]\u001b[0m\u001b[1;33m\u001b[0m\u001b[0m\n",
      "\u001b[1;32m~\\Anaconda3\\envs\\condathree\\lib\\site-packages\\keras\\backend\\tensorflow_backend.py\u001b[0m in \u001b[0;36m__call__\u001b[1;34m(self, inputs)\u001b[0m\n\u001b[0;32m   2480\u001b[0m         \u001b[0msession\u001b[0m \u001b[1;33m=\u001b[0m \u001b[0mget_session\u001b[0m\u001b[1;33m(\u001b[0m\u001b[1;33m)\u001b[0m\u001b[1;33m\u001b[0m\u001b[0m\n\u001b[0;32m   2481\u001b[0m         updated = session.run(fetches=fetches, feed_dict=feed_dict,\n\u001b[1;32m-> 2482\u001b[1;33m                               **self.session_kwargs)\n\u001b[0m\u001b[0;32m   2483\u001b[0m         \u001b[1;32mreturn\u001b[0m \u001b[0mupdated\u001b[0m\u001b[1;33m[\u001b[0m\u001b[1;33m:\u001b[0m\u001b[0mlen\u001b[0m\u001b[1;33m(\u001b[0m\u001b[0mself\u001b[0m\u001b[1;33m.\u001b[0m\u001b[0moutputs\u001b[0m\u001b[1;33m)\u001b[0m\u001b[1;33m]\u001b[0m\u001b[1;33m\u001b[0m\u001b[0m\n\u001b[0;32m   2484\u001b[0m \u001b[1;33m\u001b[0m\u001b[0m\n",
      "\u001b[1;32m~\\Anaconda3\\envs\\condathree\\lib\\site-packages\\tensorflow\\python\\client\\session.py\u001b[0m in \u001b[0;36mrun\u001b[1;34m(self, fetches, feed_dict, options, run_metadata)\u001b[0m\n\u001b[0;32m    898\u001b[0m     \u001b[1;32mtry\u001b[0m\u001b[1;33m:\u001b[0m\u001b[1;33m\u001b[0m\u001b[0m\n\u001b[0;32m    899\u001b[0m       result = self._run(None, fetches, feed_dict, options_ptr,\n\u001b[1;32m--> 900\u001b[1;33m                          run_metadata_ptr)\n\u001b[0m\u001b[0;32m    901\u001b[0m       \u001b[1;32mif\u001b[0m \u001b[0mrun_metadata\u001b[0m\u001b[1;33m:\u001b[0m\u001b[1;33m\u001b[0m\u001b[0m\n\u001b[0;32m    902\u001b[0m         \u001b[0mproto_data\u001b[0m \u001b[1;33m=\u001b[0m \u001b[0mtf_session\u001b[0m\u001b[1;33m.\u001b[0m\u001b[0mTF_GetBuffer\u001b[0m\u001b[1;33m(\u001b[0m\u001b[0mrun_metadata_ptr\u001b[0m\u001b[1;33m)\u001b[0m\u001b[1;33m\u001b[0m\u001b[0m\n",
      "\u001b[1;32m~\\Anaconda3\\envs\\condathree\\lib\\site-packages\\tensorflow\\python\\client\\session.py\u001b[0m in \u001b[0;36m_run\u001b[1;34m(self, handle, fetches, feed_dict, options, run_metadata)\u001b[0m\n\u001b[0;32m   1133\u001b[0m     \u001b[1;32mif\u001b[0m \u001b[0mfinal_fetches\u001b[0m \u001b[1;32mor\u001b[0m \u001b[0mfinal_targets\u001b[0m \u001b[1;32mor\u001b[0m \u001b[1;33m(\u001b[0m\u001b[0mhandle\u001b[0m \u001b[1;32mand\u001b[0m \u001b[0mfeed_dict_tensor\u001b[0m\u001b[1;33m)\u001b[0m\u001b[1;33m:\u001b[0m\u001b[1;33m\u001b[0m\u001b[0m\n\u001b[0;32m   1134\u001b[0m       results = self._do_run(handle, final_targets, final_fetches,\n\u001b[1;32m-> 1135\u001b[1;33m                              feed_dict_tensor, options, run_metadata)\n\u001b[0m\u001b[0;32m   1136\u001b[0m     \u001b[1;32melse\u001b[0m\u001b[1;33m:\u001b[0m\u001b[1;33m\u001b[0m\u001b[0m\n\u001b[0;32m   1137\u001b[0m       \u001b[0mresults\u001b[0m \u001b[1;33m=\u001b[0m \u001b[1;33m[\u001b[0m\u001b[1;33m]\u001b[0m\u001b[1;33m\u001b[0m\u001b[0m\n",
      "\u001b[1;32m~\\Anaconda3\\envs\\condathree\\lib\\site-packages\\tensorflow\\python\\client\\session.py\u001b[0m in \u001b[0;36m_do_run\u001b[1;34m(self, handle, target_list, fetch_list, feed_dict, options, run_metadata)\u001b[0m\n\u001b[0;32m   1314\u001b[0m     \u001b[1;32mif\u001b[0m \u001b[0mhandle\u001b[0m \u001b[1;32mis\u001b[0m \u001b[1;32mNone\u001b[0m\u001b[1;33m:\u001b[0m\u001b[1;33m\u001b[0m\u001b[0m\n\u001b[0;32m   1315\u001b[0m       return self._do_call(_run_fn, feeds, fetches, targets, options,\n\u001b[1;32m-> 1316\u001b[1;33m                            run_metadata)\n\u001b[0m\u001b[0;32m   1317\u001b[0m     \u001b[1;32melse\u001b[0m\u001b[1;33m:\u001b[0m\u001b[1;33m\u001b[0m\u001b[0m\n\u001b[0;32m   1318\u001b[0m       \u001b[1;32mreturn\u001b[0m \u001b[0mself\u001b[0m\u001b[1;33m.\u001b[0m\u001b[0m_do_call\u001b[0m\u001b[1;33m(\u001b[0m\u001b[0m_prun_fn\u001b[0m\u001b[1;33m,\u001b[0m \u001b[0mhandle\u001b[0m\u001b[1;33m,\u001b[0m \u001b[0mfeeds\u001b[0m\u001b[1;33m,\u001b[0m \u001b[0mfetches\u001b[0m\u001b[1;33m)\u001b[0m\u001b[1;33m\u001b[0m\u001b[0m\n",
      "\u001b[1;32m~\\Anaconda3\\envs\\condathree\\lib\\site-packages\\tensorflow\\python\\client\\session.py\u001b[0m in \u001b[0;36m_do_call\u001b[1;34m(self, fn, *args)\u001b[0m\n\u001b[0;32m   1333\u001b[0m         \u001b[1;32mexcept\u001b[0m \u001b[0mKeyError\u001b[0m\u001b[1;33m:\u001b[0m\u001b[1;33m\u001b[0m\u001b[0m\n\u001b[0;32m   1334\u001b[0m           \u001b[1;32mpass\u001b[0m\u001b[1;33m\u001b[0m\u001b[0m\n\u001b[1;32m-> 1335\u001b[1;33m       \u001b[1;32mraise\u001b[0m \u001b[0mtype\u001b[0m\u001b[1;33m(\u001b[0m\u001b[0me\u001b[0m\u001b[1;33m)\u001b[0m\u001b[1;33m(\u001b[0m\u001b[0mnode_def\u001b[0m\u001b[1;33m,\u001b[0m \u001b[0mop\u001b[0m\u001b[1;33m,\u001b[0m \u001b[0mmessage\u001b[0m\u001b[1;33m)\u001b[0m\u001b[1;33m\u001b[0m\u001b[0m\n\u001b[0m\u001b[0;32m   1336\u001b[0m \u001b[1;33m\u001b[0m\u001b[0m\n\u001b[0;32m   1337\u001b[0m   \u001b[1;32mdef\u001b[0m \u001b[0m_extend_graph\u001b[0m\u001b[1;33m(\u001b[0m\u001b[0mself\u001b[0m\u001b[1;33m)\u001b[0m\u001b[1;33m:\u001b[0m\u001b[1;33m\u001b[0m\u001b[0m\n",
      "\u001b[1;31mInvalidArgumentError\u001b[0m: Incompatible shapes: [32,87] vs. [100,87]\n\t [[Node: lambda_6/mul = Mul[T=DT_FLOAT, _device=\"/job:localhost/replica:0/task:0/device:GPU:0\"](dense_12/BiasAdd, lambda_6/random_normal)]]\n\t [[Node: pitch_5/transpose_1/_709 = _Recv[client_terminated=false, recv_device=\"/job:localhost/replica:0/task:0/device:CPU:0\", send_device=\"/job:localhost/replica:0/task:0/device:GPU:0\", send_device_incarnation=1, tensor_name=\"edge_1275_pitch_5/transpose_1\", tensor_type=DT_FLOAT, _device=\"/job:localhost/replica:0/task:0/device:CPU:0\"]()]]\n\nCaused by op 'lambda_6/mul', defined at:\n  File \"C:\\Users\\Charles\\Anaconda3\\envs\\condathree\\lib\\runpy.py\", line 193, in _run_module_as_main\n    \"__main__\", mod_spec)\n  File \"C:\\Users\\Charles\\Anaconda3\\envs\\condathree\\lib\\runpy.py\", line 85, in _run_code\n    exec(code, run_globals)\n  File \"C:\\Users\\Charles\\Anaconda3\\envs\\condathree\\lib\\site-packages\\ipykernel\\__main__.py\", line 3, in <module>\n    app.launch_new_instance()\n  File \"C:\\Users\\Charles\\Anaconda3\\envs\\condathree\\lib\\site-packages\\traitlets\\config\\application.py\", line 658, in launch_instance\n    app.start()\n  File \"C:\\Users\\Charles\\Anaconda3\\envs\\condathree\\lib\\site-packages\\ipykernel\\kernelapp.py\", line 486, in start\n    self.io_loop.start()\n  File \"C:\\Users\\Charles\\Anaconda3\\envs\\condathree\\lib\\site-packages\\tornado\\platform\\asyncio.py\", line 127, in start\n    self.asyncio_loop.run_forever()\n  File \"C:\\Users\\Charles\\Anaconda3\\envs\\condathree\\lib\\asyncio\\base_events.py\", line 421, in run_forever\n    self._run_once()\n  File \"C:\\Users\\Charles\\Anaconda3\\envs\\condathree\\lib\\asyncio\\base_events.py\", line 1425, in _run_once\n    handle._run()\n  File \"C:\\Users\\Charles\\Anaconda3\\envs\\condathree\\lib\\asyncio\\events.py\", line 127, in _run\n    self._callback(*self._args)\n  File \"C:\\Users\\Charles\\Anaconda3\\envs\\condathree\\lib\\site-packages\\tornado\\platform\\asyncio.py\", line 117, in _handle_events\n    handler_func(fileobj, events)\n  File \"C:\\Users\\Charles\\Anaconda3\\envs\\condathree\\lib\\site-packages\\tornado\\stack_context.py\", line 276, in null_wrapper\n    return fn(*args, **kwargs)\n  File \"C:\\Users\\Charles\\Anaconda3\\envs\\condathree\\lib\\site-packages\\zmq\\eventloop\\zmqstream.py\", line 450, in _handle_events\n    self._handle_recv()\n  File \"C:\\Users\\Charles\\Anaconda3\\envs\\condathree\\lib\\site-packages\\zmq\\eventloop\\zmqstream.py\", line 480, in _handle_recv\n    self._run_callback(callback, msg)\n  File \"C:\\Users\\Charles\\Anaconda3\\envs\\condathree\\lib\\site-packages\\zmq\\eventloop\\zmqstream.py\", line 432, in _run_callback\n    callback(*args, **kwargs)\n  File \"C:\\Users\\Charles\\Anaconda3\\envs\\condathree\\lib\\site-packages\\tornado\\stack_context.py\", line 276, in null_wrapper\n    return fn(*args, **kwargs)\n  File \"C:\\Users\\Charles\\Anaconda3\\envs\\condathree\\lib\\site-packages\\ipykernel\\kernelbase.py\", line 283, in dispatcher\n    return self.dispatch_shell(stream, msg)\n  File \"C:\\Users\\Charles\\Anaconda3\\envs\\condathree\\lib\\site-packages\\ipykernel\\kernelbase.py\", line 233, in dispatch_shell\n    handler(stream, idents, msg)\n  File \"C:\\Users\\Charles\\Anaconda3\\envs\\condathree\\lib\\site-packages\\ipykernel\\kernelbase.py\", line 399, in execute_request\n    user_expressions, allow_stdin)\n  File \"C:\\Users\\Charles\\Anaconda3\\envs\\condathree\\lib\\site-packages\\ipykernel\\ipkernel.py\", line 208, in do_execute\n    res = shell.run_cell(code, store_history=store_history, silent=silent)\n  File \"C:\\Users\\Charles\\Anaconda3\\envs\\condathree\\lib\\site-packages\\ipykernel\\zmqshell.py\", line 537, in run_cell\n    return super(ZMQInteractiveShell, self).run_cell(*args, **kwargs)\n  File \"C:\\Users\\Charles\\Anaconda3\\envs\\condathree\\lib\\site-packages\\IPython\\core\\interactiveshell.py\", line 2662, in run_cell\n    raw_cell, store_history, silent, shell_futures)\n  File \"C:\\Users\\Charles\\Anaconda3\\envs\\condathree\\lib\\site-packages\\IPython\\core\\interactiveshell.py\", line 2785, in _run_cell\n    interactivity=interactivity, compiler=compiler, result=result)\n  File \"C:\\Users\\Charles\\Anaconda3\\envs\\condathree\\lib\\site-packages\\IPython\\core\\interactiveshell.py\", line 2903, in run_ast_nodes\n    if self.run_code(code, result):\n  File \"C:\\Users\\Charles\\Anaconda3\\envs\\condathree\\lib\\site-packages\\IPython\\core\\interactiveshell.py\", line 2963, in run_code\n    exec(code_obj, self.user_global_ns, self.user_ns)\n  File \"<ipython-input-21-ad2ae365328d>\", line 6, in <module>\n    latent_dim = 87)\n  File \"<ipython-input-20-9dee9869d878>\", line 57, in create_lstm_vae\n    z = Lambda(sampling, output_shape=(latent_dim,))([z_mean, z_log_sigma])\n  File \"C:\\Users\\Charles\\Anaconda3\\envs\\condathree\\lib\\site-packages\\keras\\engine\\topology.py\", line 619, in __call__\n    output = self.call(inputs, **kwargs)\n  File \"C:\\Users\\Charles\\Anaconda3\\envs\\condathree\\lib\\site-packages\\keras\\layers\\core.py\", line 685, in call\n    return self.function(inputs, **arguments)\n  File \"<ipython-input-20-9dee9869d878>\", line 51, in sampling\n    return z_mean + z_log_sigma * epsilon\n  File \"C:\\Users\\Charles\\Anaconda3\\envs\\condathree\\lib\\site-packages\\tensorflow\\python\\ops\\math_ops.py\", line 979, in binary_op_wrapper\n    return func(x, y, name=name)\n  File \"C:\\Users\\Charles\\Anaconda3\\envs\\condathree\\lib\\site-packages\\tensorflow\\python\\ops\\math_ops.py\", line 1211, in _mul_dispatch\n    return gen_math_ops.mul(x, y, name=name)\n  File \"C:\\Users\\Charles\\Anaconda3\\envs\\condathree\\lib\\site-packages\\tensorflow\\python\\ops\\gen_math_ops.py\", line 5066, in mul\n    \"Mul\", x=x, y=y, name=name)\n  File \"C:\\Users\\Charles\\Anaconda3\\envs\\condathree\\lib\\site-packages\\tensorflow\\python\\framework\\op_def_library.py\", line 787, in _apply_op_helper\n    op_def=op_def)\n  File \"C:\\Users\\Charles\\Anaconda3\\envs\\condathree\\lib\\site-packages\\tensorflow\\python\\framework\\ops.py\", line 3392, in create_op\n    op_def=op_def)\n  File \"C:\\Users\\Charles\\Anaconda3\\envs\\condathree\\lib\\site-packages\\tensorflow\\python\\framework\\ops.py\", line 1718, in __init__\n    self._traceback = self._graph._extract_stack()  # pylint: disable=protected-access\n\nInvalidArgumentError (see above for traceback): Incompatible shapes: [32,87] vs. [100,87]\n\t [[Node: lambda_6/mul = Mul[T=DT_FLOAT, _device=\"/job:localhost/replica:0/task:0/device:GPU:0\"](dense_12/BiasAdd, lambda_6/random_normal)]]\n\t [[Node: pitch_5/transpose_1/_709 = _Recv[client_terminated=false, recv_device=\"/job:localhost/replica:0/task:0/device:CPU:0\", send_device=\"/job:localhost/replica:0/task:0/device:GPU:0\", send_device_incarnation=1, tensor_name=\"edge_1275_pitch_5/transpose_1\", tensor_type=DT_FLOAT, _device=\"/job:localhost/replica:0/task:0/device:CPU:0\"]()]]\n"
     ]
    }
   ],
   "source": [
    "vae.predict([X_pitch_np, X_rythm_np])"
   ]
  },
  {
   "cell_type": "code",
   "execution_count": 33,
   "metadata": {},
   "outputs": [],
   "source": [
    "from keras.utils import np_utils\n",
    "import numpy as np\n",
    "\n",
    "rythm_X = pickle.load(open( \"jazz_rythm.txt\", \"rb\" ), encoding = 'bytes')\n",
    "pitch_X = pickle.load(open( \"jazz_pitch.txt\", \"rb\" ), encoding = 'bytes')\n",
    "\n",
    "non_trainable_first = 10\n",
    "\n",
    "\n",
    "pitch_output_shape = 25\n",
    "rythm_output_shape = 5\n",
    "\n",
    "X_pitch = []\n",
    "X_rythm = []\n",
    "\n",
    "y_pitch = []\n",
    "y_rythm = []\n",
    "\n",
    "encode_lengths = {1:0, 2:1, 4:2, 8:3, 16:4}\n",
    "\n",
    "def enc_l(arr):\n",
    "    return [encode_lengths[x] for x in arr]\n",
    "\n",
    "for pitch_s, rythm_s in zip(pitch_X, rythm_X):\n",
    "    '''\n",
    "    lgth = (len(pitch_s) - 1) // Tx\n",
    "    for i in range(lgth):\n",
    "        \n",
    "        \n",
    "        X_pitch.append(np_utils.to_categorical(pitch_s[i * Tx: (i + 1) * Tx],pitch_output_shape ))\n",
    "        y_pitch.append(np_utils.to_categorical(pitch_s[i * Tx + non_trainable_first + 1: (i + 1) * Tx + 1],pitch_output_shape))\n",
    "        \n",
    "        X_rythm.append(np_utils.to_categorical(enc_l(rythm_s[i * Tx: (i + 1) * Tx]),rythm_output_shape))\n",
    "        y_rythm.append(np_utils.to_categorical(enc_l(rythm_s[i * Tx + non_trainable_first + 1: (i + 1) * Tx + 1]),rythm_output_shape))\n",
    "    '''\n",
    "    if len(pitch_s) < 24:\n",
    "        continue\n",
    "    lgth = (len(pitch_s) - 24)\n",
    "    \n",
    "    for i in range(lgth):\n",
    "        X_pitch.append(np_utils.to_categorical(pitch_s[i : i + 10], pitch_output_shape ))\n",
    "        y_pitch.append(np_utils.to_categorical(pitch_s[i + 10: i + 20],pitch_output_shape))\n",
    "        \n",
    "        X_rythm.append(np_utils.to_categorical(enc_l(rythm_s[i : i + 10]),rythm_output_shape))\n",
    "        y_rythm.append(np_utils.to_categorical(enc_l(rythm_s[i + 10: i + 20]),rythm_output_shape))\n",
    "        \n",
    "Y_pitch = [list(y_pitch[i]) for i in range(len(y_pitch))]#\n",
    "Y_pitch = np.array([y[0] for y in Y_pitch])#[:100000]\n",
    "\n",
    "Y_rythm = [list(y_rythm[i]) for i in range(len(y_rythm))]#\n",
    "Y_rythm = np.array([y[0] for y in Y_rythm])#[:100000]\n",
    "\n",
    "\n",
    "X_pitch_np = np.array(X_pitch)#[:100000]#[x for x in X_pitch]\n",
    "X_rythm_np = np.array(X_rythm)#[:100000]\n"
   ]
  },
  {
   "cell_type": "code",
   "execution_count": 24,
   "metadata": {},
   "outputs": [
    {
     "data": {
      "text/plain": [
       "(100000, 10, 25)"
      ]
     },
     "execution_count": 24,
     "metadata": {},
     "output_type": "execute_result"
    }
   ],
   "source": []
  },
  {
   "cell_type": "code",
   "execution_count": null,
   "metadata": {},
   "outputs": [],
   "source": []
  },
  {
   "cell_type": "code",
   "execution_count": null,
   "metadata": {},
   "outputs": [],
   "source": [
    "def create_track_new(seq, seq_pitch):\n",
    "    \n",
    "    #num_to_len = {1:1, 2:2, 3:4, 4:8, 5:16, 6:32}\n",
    "    grain = 32\n",
    "    one_tact = 128\n",
    "    tacts_per_min = 75\n",
    "    tempo    = one_tact * tacts_per_min  # In BPM\n",
    "    volume   = 100  # 0-127, as per the MIDI standard\n",
    "    track    = 0\n",
    "    channel  = 0\n",
    "    time     = 0# to learn\n",
    "    \n",
    "    MyMIDI = MIDIFile(1)\n",
    "    MyMIDI.addTempo(track, time, tempo)\n",
    "    \n",
    "    MyMIDI.addNote(track, channel, 120, 0, one_tact / grain, volume)\n",
    "    tick_count = one_tact / grain\n",
    "    \n",
    "    current_pitch = 80\n",
    "    \n",
    "    tick_counts = [tick_count]\n",
    "    pitches = [current_pitch]\n",
    "    \n",
    "    decode_lengths  = {0:1, 1:2, 2:4, 3:8, 4:16}\n",
    "    for l,p in zip(seq, seq_pitch):\n",
    "        current_pitch += (p - 12)\n",
    "        if current_pitch < 50:\n",
    "            current_pitch += 50\n",
    "        if current_pitch > 100:\n",
    "            current_pitch -= 50\n",
    "        pitches += [current_pitch]\n",
    "        #length = num_to_len[l]\n",
    "        MyMIDI.addNote(track, channel, current_pitch, tick_count, one_tact / grain * (decode_lengths[l]), volume)\n",
    "        tick_count = tick_count + one_tact / grain * (decode_lengths[l])\n",
    "        tick_counts += [tick_count]\n",
    "    \n",
    "    plt.scatter(tick_counts, pitches, s = 1)\n",
    "    plt.show()\n",
    "    print(track)\n",
    "\n",
    "    with open(\"zzz.mid\", \"wb\") as output_file:\n",
    "        MyMIDI.writeFile(output_file) \n",
    "                \n",
    "                            \n",
    "                    \n"
   ]
  },
  {
   "cell_type": "code",
   "execution_count": 195,
   "metadata": {
    "scrolled": true
   },
   "outputs": [
    {
     "name": "stdout",
     "output_type": "stream",
     "text": [
      "0\n",
      "1\n",
      "2\n",
      "3\n"
     ]
    },
    {
     "name": "stderr",
     "output_type": "stream",
     "text": [
      "C:\\Users\\Charles\\Anaconda3\\envs\\condathree\\lib\\site-packages\\ipykernel\\__main__.py:2: RuntimeWarning: divide by zero encountered in log\n",
      "  from ipykernel import kernelapp as app\n",
      "C:\\Users\\Charles\\Anaconda3\\envs\\condathree\\lib\\site-packages\\ipykernel\\__main__.py:2: RuntimeWarning: invalid value encountered in log\n",
      "  from ipykernel import kernelapp as app\n",
      "C:\\Users\\Charles\\Anaconda3\\envs\\condathree\\lib\\site-packages\\ipykernel\\__main__.py:5: RuntimeWarning: invalid value encountered in less\n",
      "C:\\Users\\Charles\\Anaconda3\\envs\\condathree\\lib\\site-packages\\ipykernel\\__main__.py:3: RuntimeWarning: invalid value encountered in true_divide\n",
      "  app.launch_new_instance()\n"
     ]
    },
    {
     "name": "stdout",
     "output_type": "stream",
     "text": [
      "4\n",
      "5\n",
      "6\n",
      "7\n",
      "8\n",
      "9\n",
      "[0, 0, 3, 0, 3, 0, 3, 0, 2, 0, 0, 0, 0, 0, 0, 0, 0, 0, 0, 0, 0, 0, 0, 0, 0, 0, 0, 0, 0, 0, 0, 0, 0, 0, 0, 0, 0, 0, 0, 0, 0, 0, 2, 0, 0, 2, 0, 0, 0, 0, 0, 0, 2, 0, 0, 0, 0, 0, 0, 0, 0, 0, 2, 0, 0, 0, 0, 0, 0, 0, 0, 0, 0, 0, 0, 0, 1, 0, 0, 0, 0, 0, 0, 0, 0, 0, 1, 0, 0, 0, 0, 0, 0, 0, 0, 1, 0, 0, 0, 0]\n",
      "[0, 0, 7, 8, 14, 21, 14, 14, 14, 7, 0, 0, 0, 7, 8, 10, 14, 0, 8, 8, 0, 18, 6, 12, 13, 0, 0, 10, 12, 20, 0, 0, 11, 18, 0, 0, 0, 0, 0, 6, 0, 0, 8, 12, 4, 0, 3, 0, 0, 0, 5, 0, 0, 0, 4, 13, 4, 0, 0, 0, 0, 5, 2, 0, 0, 0, 12, 17, 0, 17, 0, 0, 0, 15, 17, 15, 0, 0, 0, 0, 0, 0, 0, 15, 17, 4, 0, 4, 0, 0, 0, 0, 0, 15, 4, 4, 0, 15, 0, 0]\n"
     ]
    },
    {
     "data": {
      "image/png": "[encoded data removed]",
      "text/plain": [
       "<Figure size 432x288 with 1 Axes>"
      ]
     },
     "metadata": {},
     "output_type": "display_data"
    },
    {
     "name": "stdout",
     "output_type": "stream",
     "text": [
      "0\n"
     ]
    }
   ],
   "source": [
    "z = np.random.multivariate_normal(np.zeros(100), np.identity(100), 1 )\n",
    "\n",
    "generated_rythms = []\n",
    "generated_pitches = []\n",
    "alpha = 0.07\n",
    "\n",
    "for t in range(10):\n",
    "    print(t)\n",
    "    \n",
    "    pred_rythm = generator_rythm.predict(z)\n",
    "    pred_pitch = generator_pitch.predict(z)\n",
    "\n",
    "    gen_r = [take_one(x) for x in [pred_rythm[0][i] for i in range(pred_rythm.shape[1])] ]\n",
    "    gen_p = [take_one(x) for x in [pred_pitch[0][i] for i in range(pred_pitch.shape[1])]]\n",
    "    \n",
    "    generated_rythms += gen_r\n",
    "    generated_pitches += gen_p\n",
    "    \n",
    "\n",
    "    generated_pitches_vec = np.array([[np_utils.to_categorical(x, 25 ) for x in gen_p]])\n",
    "    generated_rythms_vec = np.array([[np_utils.to_categorical(x, 5 ) for x in gen_r]])\n",
    "    \n",
    "    z = ((1. - alpha) * encoder_rythm.predict([generated_pitches_vec, generated_rythms_vec])\n",
    "         + alpha * np.random.multivariate_normal(np.zeros(100), np.identity(100), 100)) / np.sqrt((1.0 - alpha)**2 + alpha**2)\n",
    "\n",
    "print(generated_rythms)\n",
    "print(generated_pitches)\n",
    "create_track_new(generated_rythms, generated_pitches)"
   ]
  },
  {
   "cell_type": "code",
   "execution_count": null,
   "metadata": {},
   "outputs": [],
   "source": [
    "z = np.random.multivariate_normal(np.zeros(100), np.identity(100), 1 )\n",
    "\n",
    "generated_rythms = []\n",
    "generated_pitches = []\n",
    "for t in range(10):\n",
    "    print(t)\n",
    "    \n",
    "    pred_rythm = generator_rythm.predict(z)\n",
    "    pred_pitch = generator_pitch.predict(z)\n",
    "\n",
    "    gen_r = [take_one(x) for x in [pred_rythm[0][i] for i in range(pred_rythm.shape[1])] ]\n",
    "    gen_p = [take_one(x) for x in [pred_pitch[0][i] for i in range(pred_pitch.shape[1])]]\n",
    "    \n",
    "    generated_rythms += gen_r\n",
    "    generated_pitches += gen_p\n",
    "    \n",
    "\n",
    "    generated_pitches_vec = np.array([[np_utils.to_categorical(x, 25 ) for x in gen_p]])\n",
    "    generated_rythms_vec = np.array([[np_utils.to_categorical(x, 5 ) for x in gen_r]])\n",
    "    \n",
    "    z = encoder_rythm.predict([generated_pitches_vec, generated_rythms_vec])\n",
    "\n",
    "print(generated_rythms)\n",
    "print(generated_pitches)\n",
    "create_track_new(generated_rythms, generated_pitches)"
   ]
  },
  {
   "cell_type": "code",
   "execution_count": 161,
   "metadata": {},
   "outputs": [],
   "source": [
    "import matplotlib.pyplot as plt"
   ]
  },
  {
   "cell_type": "code",
   "execution_count": 111,
   "metadata": {},
   "outputs": [
    {
     "data": {
      "text/plain": [
       "[array([ 0.7611949,  0.       ,  0.       ,  0.0284371, -0.       ],\n",
       "       dtype=float32),\n",
       " array([-0.05047647,  0.        ,  0.        ,  0.69215477, -0.        ],\n",
       "       dtype=float32),\n",
       " array([-0.       ,  0.       ,  0.       ,  0.9950524, -0.       ],\n",
       "       dtype=float32),\n",
       " array([-0.        ,  0.        ,  0.        ,  0.99932885, -0.        ],\n",
       "       dtype=float32),\n",
       " array([-0.       ,  0.       ,  0.       ,  0.9999091, -0.       ],\n",
       "       dtype=float32),\n",
       " array([-0.       ,  0.       ,  0.       ,  0.9999877, -0.       ],\n",
       "       dtype=float32),\n",
       " array([-0.        ,  0.        ,  0.        ,  0.99999833, -0.        ],\n",
       "       dtype=float32),\n",
       " array([-0.        ,  0.        ,  0.        ,  0.99999976, -0.        ],\n",
       "       dtype=float32),\n",
       " array([-0.        ,  0.        ,  0.        ,  0.99999994, -0.        ],\n",
       "       dtype=float32),\n",
       " array([-0.,  0.,  0.,  1., -0.], dtype=float32)]"
      ]
     },
     "execution_count": 111,
     "metadata": {},
     "output_type": "execute_result"
    }
   ],
   "source": [
    "pred_rythm = generator_rythm.predict(z)\n",
    "[pred_rythm[0][i] for i in range(pred_rythm.shape[1])]"
   ]
  },
  {
   "cell_type": "code",
   "execution_count": 113,
   "metadata": {},
   "outputs": [],
   "source": [
    "def take_one(pred):\n",
    "    a = np.log(pred) / 1.0 \n",
    "    dist = np.exp(a)/np.sum(np.exp(a), axis = -1) \n",
    "    choices = np.arange(len(a))\n",
    "    return np.random.choice(choices, p=dist)"
   ]
  },
  {
   "cell_type": "code",
   "execution_count": 89,
   "metadata": {},
   "outputs": [],
   "source": [
    "s = 0\n",
    "for i in range(100):\n",
    "    s += take_one(np.array([[0.5, 0.25, 0.25]])) % 2"
   ]
  },
  {
   "cell_type": "code",
   "execution_count": 90,
   "metadata": {},
   "outputs": [
    {
     "data": {
      "text/plain": [
       "22"
      ]
     },
     "execution_count": 90,
     "metadata": {},
     "output_type": "execute_result"
    }
   ],
   "source": [
    "s"
   ]
  },
  {
   "cell_type": "code",
   "execution_count": null,
   "metadata": {},
   "outputs": [],
   "source": []
  },
  {
   "cell_type": "code",
   "execution_count": 56,
   "metadata": {
    "collapsed": true
   },
   "outputs": [
    {
     "data": {
      "text/plain": [
       "array([[17, 17, 17, 17, 17, 17, 17, 17, 17, 17],\n",
       "       [19,  6, 18, 18, 18, 18, 18, 18, 18, 18],\n",
       "       [16, 16, 16, 16, 16, 16, 16, 16, 16, 16],\n",
       "       [ 8,  8,  0,  8,  8,  8,  8,  8,  8,  8],\n",
       "       [ 0, 16, 16,  0,  0,  0,  0,  3,  0,  3],\n",
       "       [12, 12, 12, 12, 12, 12, 12, 12, 12, 12],\n",
       "       [10, 18, 21, 18, 24, 24, 24, 14, 14, 14],\n",
       "       [16, 16, 16, 16, 12, 12, 12, 12, 12, 12],\n",
       "       [ 8,  0,  8,  8,  8,  8,  8,  8,  8,  8],\n",
       "       [11,  0,  0,  0, 17, 17, 17, 17, 17, 17],\n",
       "       [11, 12, 12, 12, 12, 12, 12, 12, 12, 12],\n",
       "       [ 9,  9,  9,  9,  9,  9,  9,  9,  9,  9],\n",
       "       [ 5,  3, 15,  3, 15, 14, 14, 14, 14, 14],\n",
       "       [11, 11, 11,  0,  0,  0,  0,  0,  0,  0],\n",
       "       [15, 15, 15, 15, 15, 15, 15, 15, 15, 15],\n",
       "       [10, 10, 13, 13, 13, 13, 13, 13, 13, 13],\n",
       "       [12, 24,  5, 24,  9,  9,  9,  9,  4,  4],\n",
       "       [ 7,  5,  5,  5,  5,  5,  5,  5,  5,  5],\n",
       "       [12, 12, 12, 12, 12, 12, 12, 12, 12, 12],\n",
       "       [ 8, 11, 17, 11, 11, 11, 11, 11, 11, 11],\n",
       "       [12, 12, 12, 12, 12, 12, 12, 12, 12, 12],\n",
       "       [12, 12, 12, 12, 12, 12, 12, 12, 12, 12],\n",
       "       [12, 12, 12, 12, 12, 12, 12, 12, 12, 12],\n",
       "       [12, 12, 12, 12, 12, 12, 12, 12, 12, 12],\n",
       "       [21, 21, 10, 16, 16, 16, 16, 16, 16, 16],\n",
       "       [12, 12, 12, 12, 12, 12, 12, 12, 12, 12],\n",
       "       [11, 11, 11, 11, 11, 11, 11, 11, 11,  3],\n",
       "       [ 0,  0,  0,  0,  0,  0,  0,  0,  0,  0],\n",
       "       [12, 12, 12, 12, 12, 12, 12, 12, 12, 12],\n",
       "       [ 7,  7,  7,  7,  7,  7,  7,  7,  7,  7],\n",
       "       [14, 14, 14, 14, 14, 14, 14, 14, 14, 14],\n",
       "       [14, 14,  0, 14,  0,  0, 14,  0, 14,  0],\n",
       "       [15, 15, 15,  0,  0,  0,  0,  0,  0,  0],\n",
       "       [17, 17, 17, 17, 17, 17, 17, 16, 16,  9],\n",
       "       [10, 12, 12, 12, 12, 12, 12, 12, 12, 12],\n",
       "       [ 0,  0,  0,  0,  0,  0,  0,  0,  0,  0],\n",
       "       [13, 13, 11, 11,  9,  9, 11, 11, 11, 11],\n",
       "       [15, 15, 15, 15, 15, 15, 15, 15,  5,  5],\n",
       "       [ 9,  9,  9,  9,  9,  9,  9,  9,  9,  9],\n",
       "       [17,  3,  3,  3,  3,  3,  3,  3,  3,  3],\n",
       "       [ 9, 12, 12, 12, 12, 12, 12, 12, 12, 12],\n",
       "       [ 6,  6,  6,  6,  6,  6,  6,  6,  6,  6],\n",
       "       [18,  8, 10, 10, 10,  8,  8,  8,  8,  8],\n",
       "       [12, 12, 12, 12, 12, 12, 12, 12, 12, 12],\n",
       "       [12, 12, 12, 12, 12, 12, 12, 12, 12, 12],\n",
       "       [ 6,  0,  0,  0,  0,  0,  0,  0,  0,  0],\n",
       "       [11, 23, 12, 12,  8, 12, 12, 12, 12, 12],\n",
       "       [14, 10, 12, 12, 12, 12, 12, 12, 12, 12],\n",
       "       [15, 11, 11, 11, 11, 11, 11, 11, 11, 11],\n",
       "       [11, 11, 10, 10, 10, 10, 18, 18, 18, 18],\n",
       "       [12, 12, 12, 16, 16, 16, 16, 16, 16, 16],\n",
       "       [ 6, 13,  0,  5,  0,  5,  5,  5,  5,  5],\n",
       "       [14, 19, 13, 19, 13,  7, 13,  7,  7,  7],\n",
       "       [13, 13, 13, 13, 13, 13, 13, 13, 13, 13],\n",
       "       [ 0,  3,  3,  3,  3,  3,  3,  3,  3,  3],\n",
       "       [17,  3, 21,  3, 21,  3, 21,  3, 21,  3],\n",
       "       [12, 12, 12, 12, 12, 12, 12, 12, 12, 12],\n",
       "       [13, 11, 17, 17, 17, 17, 17, 17, 17, 17],\n",
       "       [12, 12, 12, 12, 12, 12, 12, 12, 12, 12],\n",
       "       [ 9, 12, 23, 23, 23, 23, 23, 23, 23, 23],\n",
       "       [13, 15, 17, 17, 17, 17, 17, 17, 17, 17],\n",
       "       [12, 12, 12, 12, 12, 12, 12, 12, 12, 12],\n",
       "       [11, 13, 11,  9,  9,  9,  9,  9, 11, 11],\n",
       "       [ 0,  5, 19, 19, 19,  5,  5,  5,  5,  5],\n",
       "       [12, 12, 12, 12, 12, 12, 12, 12, 12, 12],\n",
       "       [10, 14, 17, 14, 14, 14, 14, 14, 14, 14],\n",
       "       [12, 12, 12, 12, 12, 12, 12, 12, 12, 12],\n",
       "       [10, 10, 10, 10, 10, 10, 10, 10, 10, 10],\n",
       "       [12, 12, 12, 12, 12, 12, 12, 12, 12, 12],\n",
       "       [17, 11, 17, 17,  0,  0, 14, 14, 14, 14],\n",
       "       [11, 11, 11, 11, 11, 11, 11, 11, 11, 11],\n",
       "       [17, 17, 17, 17, 17, 17, 17, 17, 17,  3],\n",
       "       [15, 15, 15, 15, 15, 15, 15, 15, 15, 15],\n",
       "       [10, 10, 10, 10, 10, 10, 10, 10, 10, 10],\n",
       "       [14, 14, 15, 15, 15, 15, 16, 16, 16, 16],\n",
       "       [12, 12, 12, 12, 12, 12,  3,  3,  3,  3],\n",
       "       [12, 12, 12, 13, 12, 13, 12, 12, 12, 12],\n",
       "       [14, 14, 14, 14,  0,  0,  0,  0,  0,  0],\n",
       "       [10, 10, 10, 10, 10, 10, 10, 10, 10, 10],\n",
       "       [12, 12, 12, 12, 12, 12, 12, 12, 12, 12],\n",
       "       [12, 12, 12, 12, 12, 12, 12, 12, 12, 12],\n",
       "       [12, 12, 12, 12, 12, 12, 12, 12, 12, 12],\n",
       "       [11, 11, 11, 10, 11, 11, 11, 11, 11, 11],\n",
       "       [ 9, 12,  9,  9,  9,  9,  9,  9,  9,  9],\n",
       "       [12, 12, 12, 12, 12, 12, 12, 12, 12, 12],\n",
       "       [13, 14,  2, 16,  2, 16, 16, 16, 16, 16],\n",
       "       [ 8,  9,  9,  9,  9,  9,  9,  9,  9,  9],\n",
       "       [ 5,  5,  7,  5,  5,  5,  5,  5,  5,  7],\n",
       "       [12, 12, 12, 12, 12, 12, 12, 12, 12, 12],\n",
       "       [ 7, 14, 24, 24, 24, 24, 24, 24, 24, 24],\n",
       "       [19, 19, 19, 19, 19, 19, 19, 19, 19, 19],\n",
       "       [12, 12, 12, 12, 10, 10, 10, 10, 10, 10],\n",
       "       [12, 11, 11, 11, 12, 12, 12, 12, 12, 12],\n",
       "       [ 0,  0,  0,  0,  9,  9,  9, 24, 18,  7],\n",
       "       [15, 15, 15, 15, 15, 15, 15, 15, 15, 15],\n",
       "       [12, 18, 18, 18,  6,  6,  6,  6,  6,  6],\n",
       "       [15, 14, 10, 10, 10, 10, 10, 14, 14, 14],\n",
       "       [ 5,  5,  5,  5,  5,  5,  5,  5,  5,  5],\n",
       "       [12, 12, 12, 12, 12, 12, 12, 12, 12, 12],\n",
       "       [12, 12, 12, 12, 12, 12, 12, 12, 12, 12]], dtype=int64)"
      ]
     },
     "execution_count": 56,
     "metadata": {},
     "output_type": "execute_result"
    }
   ],
   "source": [
    "generated_pitches = generator_pitch.predict(np.random.multivariate_normal(np.zeros(100), np.identity(100), 100 ))\n",
    "np.argmax(generated_pitches, axis = -1)"
   ]
  },
  {
   "cell_type": "code",
   "execution_count": 53,
   "metadata": {},
   "outputs": [
    {
     "data": {
      "text/plain": [
       "array([[14,  9, 17, 17, 17,  9,  9,  9,  9,  9],\n",
       "       [11, 17, 11, 14, 12, 12, 12, 12, 12, 14]], dtype=int64)"
      ]
     },
     "execution_count": 53,
     "metadata": {},
     "output_type": "execute_result"
    }
   ],
   "source": [
    "np.argmax(generated_pitches, axis = -1)"
   ]
  },
  {
   "cell_type": "code",
   "execution_count": null,
   "metadata": {},
   "outputs": [],
   "source": [
    "    y = Lambda(lambda x: K.mean(-0.5 * K.mean(1 + x[1] - K.square(x[0]) - K.exp(x[1]), axis=-1)))\n",
    "    y = y([z_mean, z_log_var])\n",
    "    out_z.append(y)\n",
    "    "
   ]
  },
  {
   "cell_type": "code",
   "execution_count": 48,
   "metadata": {},
   "outputs": [],
   "source": [
    "\n",
    "\n",
    "from keras.losses import categorical_crossentropy#(y_true, y_pred)\n",
    "from keras import backend as K\n",
    "\n",
    "     \n",
    "\n",
    "opt = Adam(lr=0.01, beta_1=0.9, beta_2=0.999, decay=0.01)#lr=0.01, beta_1=0.9, beta_2=0.999, decay=0.01\n",
    "\n",
    "model.compile(optimizer=opt, loss={'pitch':categorical_crossentropy, 'rythm':vae_lossvae_loss}, metrics=['accuracy'])"
   ]
  },
  {
   "cell_type": "code",
   "execution_count": 28,
   "metadata": {
    "scrolled": true
   },
   "outputs": [
    {
     "name": "stdout",
     "output_type": "stream",
     "text": [
      "Epoch 1/3\n",
      "100000/100000 [==============================] - 250s 3ms/step - loss: 0.4639 - inter_to_pitch_loss: 0.1582 - inter_to_rythm_loss: 0.3057 - inter_to_pitch_acc: 0.2639 - inter_to_rythm_acc: 0.4739\n",
      "Epoch 2/3\n",
      "100000/100000 [==============================] - 241s 2ms/step - loss: 0.4620 - inter_to_pitch_loss: 0.1573 - inter_to_rythm_loss: 0.3046 - inter_to_pitch_acc: 0.2641 - inter_to_rythm_acc: 0.4743\n",
      "Epoch 3/3\n",
      "100000/100000 [==============================] - 241s 2ms/step - loss: 0.4618 - inter_to_pitch_loss: 0.1573 - inter_to_rythm_loss: 0.3046 - inter_to_pitch_acc: 0.2641 - inter_to_rythm_acc: 0.4743\n"
     ]
    },
    {
     "data": {
      "text/plain": [
       "<keras.callbacks.History at 0x28ab462f128>"
      ]
     },
     "execution_count": 28,
     "metadata": {},
     "output_type": "execute_result"
    }
   ],
   "source": [
    "import pickle\n",
    "from keras.utils import np_utils\n",
    "from keras.callbacks import ModelCheckpoint\n",
    "\n",
    "rythm_X = pickle.load(open( \"jazz_rythm.txt\", \"rb\" ), encoding = 'bytes')\n",
    "pitch_X = pickle.load(open( \"jazz_pitch.txt\", \"rb\" ), encoding = 'bytes')\n",
    "\n",
    "non_trainable_first = setting.non_trainable_first\n",
    "Tx = setting.Tx\n",
    "\n",
    "pitch_output_shape = setting.pitch_output_shape\n",
    "rythm_output_shape = setting.rythm_output_shape\n",
    "\n",
    "X_pitch = []\n",
    "X_rythm = []\n",
    "\n",
    "y_pitch = []\n",
    "y_rythm = []\n",
    "\n",
    "encode_lengths = {1:0, 2:1, 4:2, 8:3, 16:4}\n",
    "\n",
    "def enc_l(arr):\n",
    "    return [encode_lengths[x] for x in arr]\n",
    "\n",
    "for pitch_s, rythm_s in zip(pitch_X, rythm_X):\n",
    "    '''\n",
    "    lgth = (len(pitch_s) - 1) // Tx\n",
    "    for i in range(lgth):\n",
    "        \n",
    "        \n",
    "        X_pitch.append(np_utils.to_categorical(pitch_s[i * Tx: (i + 1) * Tx],pitch_output_shape ))\n",
    "        y_pitch.append(np_utils.to_categorical(pitch_s[i * Tx + non_trainable_first + 1: (i + 1) * Tx + 1],pitch_output_shape))\n",
    "        \n",
    "        X_rythm.append(np_utils.to_categorical(enc_l(rythm_s[i * Tx: (i + 1) * Tx]),rythm_output_shape))\n",
    "        y_rythm.append(np_utils.to_categorical(enc_l(rythm_s[i * Tx + non_trainable_first + 1: (i + 1) * Tx + 1]),rythm_output_shape))\n",
    "    '''\n",
    "    if len(pitch_s) < 24:\n",
    "        continue\n",
    "    lgth = (len(pitch_s) - 24)\n",
    "    \n",
    "    for i in range(lgth):\n",
    "        X_pitch.append(np_utils.to_categorical(pitch_s[i : i + 10], pitch_output_shape ))\n",
    "        y_pitch.append(np_utils.to_categorical(pitch_s[i + 10: i + 20],pitch_output_shape))\n",
    "        \n",
    "        X_rythm.append(np_utils.to_categorical(enc_l(rythm_s[i : i + 10]),rythm_output_shape))\n",
    "        y_rythm.append(np_utils.to_categorical(enc_l(rythm_s[i + 10: i + 20]),rythm_output_shape))\n",
    "        \n",
    "Y_pitch = [list(y_pitch[i]) for i in range(len(y_pitch))]#\n",
    "Y_pitch = np.array([y[0] for y in Y_pitch[:100000]])\n",
    "\n",
    "Y_rythm = [list(y_rythm[i]) for i in range(len(y_rythm))]#\n",
    "Y_rythm = np.array([y[0] for y in Y_rythm[:100000]])\n",
    "\n",
    "\n",
    "X_pitch_np = np.array(X_pitch)[:100000]#[x for x in X_pitch]\n",
    "X_rythm_np = np.array(X_rythm)[:100000]\n",
    "\n",
    "\n",
    "\n",
    "m = X_pitch_np.shape[0]\n",
    "\n",
    "manager_internal_shape = setting.manager_internal_shape\n",
    "pitch_internal_shape = setting.pitch_internal_shape\n",
    "rythm_internal_shape = setting.rythm_internal_shape\n",
    "\n",
    "pitch_state_0 = np.zeros((m, pitch_internal_shape))\n",
    "rythm_state_0 = np.zeros((m, rythm_internal_shape))\n",
    "manager_state_0 = np.zeros((m, manager_internal_shape))\n",
    "\n",
    "\n",
    "\n",
    "model.fit([X_pitch_np, X_rythm_np,  pitch_state_0, rythm_state_0, manager_state_0],\\\n",
    "          {'inter_to_pitch':Y_pitch, 'inter_to_rythm':Y_rythm}, batch_size = 100, epochs=3, verbose = 1, shuffle = True)\n"
   ]
  },
  {
   "cell_type": "code",
   "execution_count": 3,
   "metadata": {},
   "outputs": [
    {
     "name": "stdout",
     "output_type": "stream",
     "text": [
      "__________________________________________________________________________________________________\n",
      "Layer (type)                    Output Shape         Param #     Connected to                     \n",
      "==================================================================================================\n",
      "X_pitch (InputLayer)            (None, 10, 25)       0                                            \n",
      "__________________________________________________________________________________________________\n",
      "X_rythm (InputLayer)            (None, 10, 5)        0                                            \n",
      "__________________________________________________________________________________________________\n",
      "lambda_1 (Lambda)               (None, 25, 1)        0           X_pitch[0][0]                    \n",
      "__________________________________________________________________________________________________\n",
      "pitch_state_0 (InputLayer)      (None, 100)          0                                            \n",
      "__________________________________________________________________________________________________\n",
      "lambda_2 (Lambda)               (None, 5, 1)         0           X_rythm[0][0]                    \n",
      "__________________________________________________________________________________________________\n",
      "rythm_state_0 (InputLayer)      (None, 100)          0                                            \n",
      "__________________________________________________________________________________________________\n",
      "pitch_gru (GRU)                 (None, 100)          30600       lambda_1[0][0]                   \n",
      "                                                                 pitch_state_0[0][0]              \n",
      "                                                                 lambda_3[0][0]                   \n",
      "                                                                 pitch_gru[0][0]                  \n",
      "                                                                 lambda_5[0][0]                   \n",
      "                                                                 pitch_gru[1][0]                  \n",
      "                                                                 lambda_7[0][0]                   \n",
      "                                                                 pitch_gru[2][0]                  \n",
      "                                                                 lambda_9[0][0]                   \n",
      "                                                                 pitch_gru[3][0]                  \n",
      "                                                                 lambda_11[0][0]                  \n",
      "                                                                 pitch_gru[4][0]                  \n",
      "                                                                 lambda_13[0][0]                  \n",
      "                                                                 pitch_gru[5][0]                  \n",
      "                                                                 lambda_15[0][0]                  \n",
      "                                                                 pitch_gru[6][0]                  \n",
      "                                                                 lambda_17[0][0]                  \n",
      "                                                                 pitch_gru[7][0]                  \n",
      "                                                                 lambda_19[0][0]                  \n",
      "                                                                 pitch_gru[8][0]                  \n",
      "__________________________________________________________________________________________________\n",
      "lambda_3 (Lambda)               (None, 25, 1)        0           X_pitch[0][0]                    \n",
      "__________________________________________________________________________________________________\n",
      "rythm_gru (GRU)                 (None, 100)          30600       lambda_2[0][0]                   \n",
      "                                                                 rythm_state_0[0][0]              \n",
      "                                                                 lambda_4[0][0]                   \n",
      "                                                                 rythm_gru[0][0]                  \n",
      "                                                                 lambda_6[0][0]                   \n",
      "                                                                 rythm_gru[1][0]                  \n",
      "                                                                 lambda_8[0][0]                   \n",
      "                                                                 rythm_gru[2][0]                  \n",
      "                                                                 lambda_10[0][0]                  \n",
      "                                                                 rythm_gru[3][0]                  \n",
      "                                                                 lambda_12[0][0]                  \n",
      "                                                                 rythm_gru[4][0]                  \n",
      "                                                                 lambda_14[0][0]                  \n",
      "                                                                 rythm_gru[5][0]                  \n",
      "                                                                 lambda_16[0][0]                  \n",
      "                                                                 rythm_gru[6][0]                  \n",
      "                                                                 lambda_18[0][0]                  \n",
      "                                                                 rythm_gru[7][0]                  \n",
      "                                                                 lambda_20[0][0]                  \n",
      "                                                                 rythm_gru[8][0]                  \n",
      "__________________________________________________________________________________________________\n",
      "lambda_4 (Lambda)               (None, 5, 1)         0           X_rythm[0][0]                    \n",
      "__________________________________________________________________________________________________\n",
      "lambda_5 (Lambda)               (None, 25, 1)        0           X_pitch[0][0]                    \n",
      "__________________________________________________________________________________________________\n",
      "lambda_6 (Lambda)               (None, 5, 1)         0           X_rythm[0][0]                    \n",
      "__________________________________________________________________________________________________\n",
      "lambda_7 (Lambda)               (None, 25, 1)        0           X_pitch[0][0]                    \n",
      "__________________________________________________________________________________________________\n",
      "lambda_8 (Lambda)               (None, 5, 1)         0           X_rythm[0][0]                    \n",
      "__________________________________________________________________________________________________\n",
      "lambda_9 (Lambda)               (None, 25, 1)        0           X_pitch[0][0]                    \n",
      "__________________________________________________________________________________________________\n",
      "lambda_10 (Lambda)              (None, 5, 1)         0           X_rythm[0][0]                    \n",
      "__________________________________________________________________________________________________\n",
      "lambda_11 (Lambda)              (None, 25, 1)        0           X_pitch[0][0]                    \n",
      "__________________________________________________________________________________________________\n",
      "lambda_12 (Lambda)              (None, 5, 1)         0           X_rythm[0][0]                    \n",
      "__________________________________________________________________________________________________\n",
      "lambda_13 (Lambda)              (None, 25, 1)        0           X_pitch[0][0]                    \n",
      "__________________________________________________________________________________________________\n",
      "lambda_14 (Lambda)              (None, 5, 1)         0           X_rythm[0][0]                    \n",
      "__________________________________________________________________________________________________\n",
      "lambda_15 (Lambda)              (None, 25, 1)        0           X_pitch[0][0]                    \n",
      "__________________________________________________________________________________________________\n",
      "lambda_16 (Lambda)              (None, 5, 1)         0           X_rythm[0][0]                    \n",
      "__________________________________________________________________________________________________\n",
      "lambda_17 (Lambda)              (None, 25, 1)        0           X_pitch[0][0]                    \n",
      "__________________________________________________________________________________________________\n",
      "lambda_18 (Lambda)              (None, 5, 1)         0           X_rythm[0][0]                    \n",
      "__________________________________________________________________________________________________\n",
      "lambda_19 (Lambda)              (None, 25, 1)        0           X_pitch[0][0]                    \n",
      "__________________________________________________________________________________________________\n",
      "lambda_20 (Lambda)              (None, 5, 1)         0           X_rythm[0][0]                    \n",
      "__________________________________________________________________________________________________\n",
      "pitch_to_manager (Dense)        (None, 25)           2525        pitch_gru[9][0]                  \n",
      "__________________________________________________________________________________________________\n",
      "rythm_to_manager (Dense)        (None, 25)           2525        rythm_gru[9][0]                  \n",
      "__________________________________________________________________________________________________\n",
      "concatenate_10 (Concatenate)    (None, 50)           0           pitch_to_manager[9][0]           \n",
      "                                                                 rythm_to_manager[9][0]           \n",
      "__________________________________________________________________________________________________\n",
      "manager_gru (Dense)             (None, 50)           2550        concatenate_10[0][0]             \n",
      "__________________________________________________________________________________________________\n",
      "manager_to_inter_pitch (Dense)  (None, 40)           2040        manager_gru[9][0]                \n",
      "__________________________________________________________________________________________________\n",
      "manager_to_inter_rythm (Dense)  (None, 20)           1020        manager_gru[9][0]                \n",
      "__________________________________________________________________________________________________\n",
      "inter_to_pitch (Dense)          (None, 25)           1025        manager_to_inter_pitch[0][0]     \n",
      "__________________________________________________________________________________________________\n",
      "inter_to_rythm (Dense)          (None, 5)            105         manager_to_inter_rythm[0][0]     \n",
      "==================================================================================================\n",
      "Total params: 72,990\n",
      "Trainable params: 72,990\n",
      "Non-trainable params: 0\n",
      "__________________________________________________________________________________________________\n"
     ]
    }
   ],
   "source": [
    "model.summary()"
   ]
  },
  {
   "cell_type": "code",
   "execution_count": 102,
   "metadata": {},
   "outputs": [
    {
     "data": {
      "text/plain": [
       "array([[-0.00303974,  0.01886736,  0.00392841, -0.01842227,  0.00013647,\n",
       "        -0.00563659, -0.01032083,  0.00584648, -0.00346822,  0.0241624 ,\n",
       "         0.00054345, -0.00762069, -0.02385939, -0.00364046, -0.00440928,\n",
       "         0.00369517,  0.00283302,  0.01686856,  0.00075944,  0.00324114,\n",
       "        -0.00750755,  0.0016992 ,  0.00205383, -0.00329115,  0.00167905,\n",
       "        -0.00539649,  0.00516429,  0.00055218,  0.00847614,  0.00336826,\n",
       "        -0.00218078,  0.00959649, -0.00207382,  0.00411171,  0.00456343,\n",
       "        -0.00243597, -0.00496944, -0.01918453, -0.00143453, -0.00519804,\n",
       "        -0.00333782,  0.00389768,  0.00318724, -0.00197877, -0.00155421,\n",
       "         0.0232743 , -0.01861566,  0.00743173, -0.00796284,  0.00015538,\n",
       "         0.00155061,  0.00525048, -0.01116654, -0.00073952, -0.01000661,\n",
       "        -0.0152561 , -0.0030193 ,  0.00052883,  0.02785456, -0.00092636,\n",
       "         0.00263312,  0.00427835,  0.00212559,  0.00173554, -0.02528634,\n",
       "         0.02076484,  0.00462911,  0.00630576,  0.0112776 ,  0.01012975,\n",
       "         0.00156908, -0.01051525, -0.00983557, -0.0164377 , -0.02821422,\n",
       "         0.02268887,  0.00034591, -0.00013769,  0.02066932,  0.00059021,\n",
       "         0.00305941, -0.0122254 ,  0.00320004, -0.00428293,  0.02134067,\n",
       "        -0.00444869, -0.00502408, -0.00371888,  0.00645998, -0.01294471,\n",
       "        -0.01001865, -0.00489579, -0.014148  , -0.01459313,  0.00545017,\n",
       "        -0.00218607, -0.01052067, -0.00145383,  0.00336791,  0.00084177]],\n",
       "      dtype=float32)"
      ]
     },
     "execution_count": 102,
     "metadata": {},
     "output_type": "execute_result"
    }
   ],
   "source": [
    "element = 1000\n",
    "\n",
    "Y_pitch = [list(y_pitch[i]) for i in range(len(y_pitch))]#\n",
    "Y_pitch = np.array([y[0] for y in Y_pitch[element]])\n",
    "\n",
    "Y_rythm = [list(y_rythm[i]) for i in range(len(y_rythm))]#\n",
    "Y_rythm = np.array([y[0] for y in Y_rythm[element]])\n",
    "\n",
    "\n",
    "X_pitch_np = np.array(X_pitch)[element:element + 1]#[x for x in X_pitch]\n",
    "X_rythm_np = np.array(X_rythm)[element:element + 1]\n",
    "\n",
    "\n",
    "m = X_pitch_np.shape[0]\n",
    "\n",
    "manager_internal_shape = setting.manager_internal_shape\n",
    "pitch_internal_shape = setting.pitch_internal_shape\n",
    "rythm_internal_shape = setting.rythm_internal_shape\n",
    "\n",
    "pitch_state_0 = np.zeros((m, pitch_internal_shape))\n",
    "rythm_state_0 = np.zeros((m, rythm_internal_shape))\n",
    "manager_state_0 = np.zeros((m, manager_internal_shape))\n",
    "\n",
    "layer_name = 'pitch_gru'\n",
    "intermediate_layer_model = Model(inputs=model.input,\n",
    "                                 outputs=model.get_layer(layer_name).get_output_at(0))\n",
    "intermediate_layer_model.predict([X_pitch_np, X_rythm_np,  pitch_state_0, rythm_state_0, manager_state_0])"
   ]
  },
  {
   "cell_type": "code",
   "execution_count": 101,
   "metadata": {},
   "outputs": [
    {
     "data": {
      "text/plain": [
       "array([[-0.00361132,  0.01873892,  0.00460489, -0.0188433 , -0.00026344,\n",
       "        -0.00626706, -0.01000399,  0.00605333, -0.00357501,  0.02389743,\n",
       "         0.00056244, -0.00812239, -0.02412687, -0.00366494, -0.00474457,\n",
       "         0.00424624,  0.00304369,  0.01643826,  0.00083183,  0.00274095,\n",
       "        -0.00750325,  0.00175363,  0.0017711 , -0.00265339,  0.0018587 ,\n",
       "        -0.0050061 ,  0.006204  ,  0.00074088,  0.00894731,  0.00335177,\n",
       "        -0.00177686,  0.00921258, -0.00203514,  0.00452002,  0.00534161,\n",
       "        -0.0025859 , -0.00480505, -0.01841985, -0.00212035, -0.00461425,\n",
       "        -0.00311361,  0.00426954,  0.00272169, -0.00230937, -0.0018312 ,\n",
       "         0.02289029, -0.01818012,  0.00767828, -0.00764846,  0.00080984,\n",
       "         0.00122366,  0.00527267, -0.01103281, -0.00069241, -0.0103082 ,\n",
       "        -0.01592911, -0.00265925,  0.00059422,  0.02734835, -0.00045626,\n",
       "         0.00272808,  0.0045769 ,  0.00127139,  0.00160058, -0.02557486,\n",
       "         0.02080528,  0.00524872,  0.00623439,  0.01069896,  0.01023731,\n",
       "         0.00086824, -0.01076188, -0.01039971, -0.01665107, -0.02726377,\n",
       "         0.0229337 ,  0.00036264, -0.00016896,  0.02078515,  0.00041637,\n",
       "         0.00245587, -0.01150901,  0.00372202, -0.00485508,  0.02187854,\n",
       "        -0.00371085, -0.00511165, -0.00373974,  0.00668083, -0.01268301,\n",
       "        -0.01001723, -0.00467524, -0.01380512, -0.01414278,  0.00556358,\n",
       "        -0.00197954, -0.01127381, -0.00170571,  0.00389464,  0.00040761]],\n",
       "      dtype=float32)"
      ]
     },
     "execution_count": 101,
     "metadata": {},
     "output_type": "execute_result"
    }
   ],
   "source": [
    "element = 2345\n",
    "\n",
    "Y_pitch = [list(y_pitch[i]) for i in range(len(y_pitch))]#\n",
    "Y_pitch = np.array([y[0] for y in Y_pitch[element]])\n",
    "\n",
    "Y_rythm = [list(y_rythm[i]) for i in range(len(y_rythm))]#\n",
    "Y_rythm = np.array([y[0] for y in Y_rythm[element]])\n",
    "\n",
    "\n",
    "X_pitch_np = np.array(X_pitch)[element:element + 1]#[x for x in X_pitch]\n",
    "X_rythm_np = np.array(X_rythm)[element:element + 1]\n",
    "\n",
    "\n",
    "m = X_pitch_np.shape[0]\n",
    "\n",
    "manager_internal_shape = setting.manager_internal_shape\n",
    "pitch_internal_shape = setting.pitch_internal_shape\n",
    "rythm_internal_shape = setting.rythm_internal_shape\n",
    "\n",
    "pitch_state_0 = np.zeros((m, pitch_internal_shape))\n",
    "rythm_state_0 = np.zeros((m, rythm_internal_shape))\n",
    "manager_state_0 = np.zeros((m, manager_internal_shape))\n",
    "\n",
    "layer_name = 'pitch_gru'\n",
    "intermediate_layer_model = Model(inputs=model.input,\n",
    "                                 outputs=model.get_layer(layer_name).get_output_at(0))\n",
    "intermediate_layer_model.predict([X_pitch_np, X_rythm_np,  pitch_state_0, rythm_state_0, manager_state_0])"
   ]
  },
  {
   "cell_type": "code",
   "execution_count": 82,
   "metadata": {},
   "outputs": [
    {
     "data": {
      "image/png": "[encoded data removed]",
      "text/plain": [
       "<Figure size 432x288 with 1 Axes>"
      ]
     },
     "metadata": {},
     "output_type": "display_data"
    }
   ],
   "source": [
    "h = plt.hist(reduce(lambda x,y:x+y,rythm_X), bins = 5)"
   ]
  },
  {
   "cell_type": "code",
   "execution_count": 83,
   "metadata": {},
   "outputs": [
    {
     "data": {
      "text/plain": [
       "array([0.81278173, 0.1345765 , 0.04761897, 0.        , 0.00502279])"
      ]
     },
     "execution_count": 83,
     "metadata": {},
     "output_type": "execute_result"
    }
   ],
   "source": [
    "h[0] / np.sum(h[0])"
   ]
  },
  {
   "cell_type": "code",
   "execution_count": 44,
   "metadata": {},
   "outputs": [
    {
     "data": {
      "text/plain": [
       "[<tf.Tensor 'dense_35/Softmax:0' shape=(?, 25) dtype=float32>,\n",
       " <tf.Tensor 'dense_36/Softmax:0' shape=(?, 5) dtype=float32>]"
      ]
     },
     "execution_count": 44,
     "metadata": {},
     "output_type": "execute_result"
    }
   ],
   "source": [
    "\n",
    "model.get_output_at(0)"
   ]
  },
  {
   "cell_type": "code",
   "execution_count": 78,
   "metadata": {
    "scrolled": true
   },
   "outputs": [
    {
     "name": "stdout",
     "output_type": "stream",
     "text": [
      "__________________________________________________________________________________________________\n",
      "Layer (type)                    Output Shape         Param #     Connected to                     \n",
      "==================================================================================================\n",
      "X_pitch (InputLayer)            (None, 10, 25)       0                                            \n",
      "__________________________________________________________________________________________________\n",
      "X_rythm (InputLayer)            (None, 10, 5)        0                                            \n",
      "__________________________________________________________________________________________________\n",
      "lambda_741 (Lambda)             (None, 25, 1)        0           X_pitch[0][0]                    \n",
      "__________________________________________________________________________________________________\n",
      "pitch_state_0 (InputLayer)      (None, 100)          0                                            \n",
      "__________________________________________________________________________________________________\n",
      "lambda_742 (Lambda)             (None, 5, 1)         0           X_rythm[0][0]                    \n",
      "__________________________________________________________________________________________________\n",
      "rythm_state_0 (InputLayer)      (None, 100)          0                                            \n",
      "__________________________________________________________________________________________________\n",
      "pitch_gru (GRU)                 (None, 100)          30600       lambda_741[0][0]                 \n",
      "                                                                 pitch_state_0[0][0]              \n",
      "                                                                 lambda_743[0][0]                 \n",
      "                                                                 pitch_gru[0][0]                  \n",
      "                                                                 lambda_745[0][0]                 \n",
      "                                                                 pitch_gru[1][0]                  \n",
      "                                                                 lambda_747[0][0]                 \n",
      "                                                                 pitch_gru[2][0]                  \n",
      "                                                                 lambda_749[0][0]                 \n",
      "                                                                 pitch_gru[3][0]                  \n",
      "                                                                 lambda_751[0][0]                 \n",
      "                                                                 pitch_gru[4][0]                  \n",
      "                                                                 lambda_753[0][0]                 \n",
      "                                                                 pitch_gru[5][0]                  \n",
      "                                                                 lambda_755[0][0]                 \n",
      "                                                                 pitch_gru[6][0]                  \n",
      "                                                                 lambda_757[0][0]                 \n",
      "                                                                 pitch_gru[7][0]                  \n",
      "                                                                 lambda_759[0][0]                 \n",
      "                                                                 pitch_gru[8][0]                  \n",
      "__________________________________________________________________________________________________\n",
      "lambda_743 (Lambda)             (None, 25, 1)        0           X_pitch[0][0]                    \n",
      "__________________________________________________________________________________________________\n",
      "rythm_gru (GRU)                 (None, 100)          30600       lambda_742[0][0]                 \n",
      "                                                                 rythm_state_0[0][0]              \n",
      "                                                                 lambda_744[0][0]                 \n",
      "                                                                 rythm_gru[0][0]                  \n",
      "                                                                 lambda_746[0][0]                 \n",
      "                                                                 rythm_gru[1][0]                  \n",
      "                                                                 lambda_748[0][0]                 \n",
      "                                                                 rythm_gru[2][0]                  \n",
      "                                                                 lambda_750[0][0]                 \n",
      "                                                                 rythm_gru[3][0]                  \n",
      "                                                                 lambda_752[0][0]                 \n",
      "                                                                 rythm_gru[4][0]                  \n",
      "                                                                 lambda_754[0][0]                 \n",
      "                                                                 rythm_gru[5][0]                  \n",
      "                                                                 lambda_756[0][0]                 \n",
      "                                                                 rythm_gru[6][0]                  \n",
      "                                                                 lambda_758[0][0]                 \n",
      "                                                                 rythm_gru[7][0]                  \n",
      "                                                                 lambda_760[0][0]                 \n",
      "                                                                 rythm_gru[8][0]                  \n",
      "__________________________________________________________________________________________________\n",
      "lambda_744 (Lambda)             (None, 5, 1)         0           X_rythm[0][0]                    \n",
      "__________________________________________________________________________________________________\n",
      "lambda_745 (Lambda)             (None, 25, 1)        0           X_pitch[0][0]                    \n",
      "__________________________________________________________________________________________________\n",
      "lambda_746 (Lambda)             (None, 5, 1)         0           X_rythm[0][0]                    \n",
      "__________________________________________________________________________________________________\n",
      "lambda_747 (Lambda)             (None, 25, 1)        0           X_pitch[0][0]                    \n",
      "__________________________________________________________________________________________________\n",
      "lambda_748 (Lambda)             (None, 5, 1)         0           X_rythm[0][0]                    \n",
      "__________________________________________________________________________________________________\n",
      "lambda_749 (Lambda)             (None, 25, 1)        0           X_pitch[0][0]                    \n",
      "__________________________________________________________________________________________________\n",
      "lambda_750 (Lambda)             (None, 5, 1)         0           X_rythm[0][0]                    \n",
      "__________________________________________________________________________________________________\n",
      "lambda_751 (Lambda)             (None, 25, 1)        0           X_pitch[0][0]                    \n",
      "__________________________________________________________________________________________________\n",
      "lambda_752 (Lambda)             (None, 5, 1)         0           X_rythm[0][0]                    \n",
      "__________________________________________________________________________________________________\n",
      "lambda_753 (Lambda)             (None, 25, 1)        0           X_pitch[0][0]                    \n",
      "__________________________________________________________________________________________________\n",
      "lambda_754 (Lambda)             (None, 5, 1)         0           X_rythm[0][0]                    \n",
      "__________________________________________________________________________________________________\n",
      "lambda_755 (Lambda)             (None, 25, 1)        0           X_pitch[0][0]                    \n",
      "__________________________________________________________________________________________________\n",
      "lambda_756 (Lambda)             (None, 5, 1)         0           X_rythm[0][0]                    \n",
      "__________________________________________________________________________________________________\n",
      "lambda_757 (Lambda)             (None, 25, 1)        0           X_pitch[0][0]                    \n",
      "__________________________________________________________________________________________________\n",
      "lambda_758 (Lambda)             (None, 5, 1)         0           X_rythm[0][0]                    \n",
      "__________________________________________________________________________________________________\n",
      "lambda_759 (Lambda)             (None, 25, 1)        0           X_pitch[0][0]                    \n",
      "__________________________________________________________________________________________________\n",
      "lambda_760 (Lambda)             (None, 5, 1)         0           X_rythm[0][0]                    \n",
      "__________________________________________________________________________________________________\n",
      "pitch_to_manager (Dense)        (None, 25)           2525        pitch_gru[0][0]                  \n",
      "                                                                 pitch_gru[1][0]                  \n",
      "                                                                 pitch_gru[2][0]                  \n",
      "                                                                 pitch_gru[3][0]                  \n",
      "                                                                 pitch_gru[4][0]                  \n",
      "                                                                 pitch_gru[5][0]                  \n",
      "                                                                 pitch_gru[6][0]                  \n",
      "                                                                 pitch_gru[7][0]                  \n",
      "                                                                 pitch_gru[8][0]                  \n",
      "                                                                 pitch_gru[9][0]                  \n",
      "__________________________________________________________________________________________________\n",
      "rythm_to_manager (Dense)        (None, 25)           2525        rythm_gru[0][0]                  \n",
      "                                                                 rythm_gru[1][0]                  \n",
      "                                                                 rythm_gru[2][0]                  \n",
      "                                                                 rythm_gru[3][0]                  \n",
      "                                                                 rythm_gru[4][0]                  \n",
      "                                                                 rythm_gru[5][0]                  \n",
      "                                                                 rythm_gru[6][0]                  \n",
      "                                                                 rythm_gru[7][0]                  \n",
      "                                                                 rythm_gru[8][0]                  \n",
      "                                                                 rythm_gru[9][0]                  \n",
      "__________________________________________________________________________________________________\n",
      "concatenate_380 (Concatenate)   (None, 50)           0           pitch_to_manager[9][0]           \n",
      "                                                                 rythm_to_manager[9][0]           \n",
      "__________________________________________________________________________________________________\n",
      "concatenate_379 (Concatenate)   (None, 50)           0           pitch_to_manager[8][0]           \n",
      "                                                                 rythm_to_manager[8][0]           \n",
      "__________________________________________________________________________________________________\n",
      "concatenate_378 (Concatenate)   (None, 50)           0           pitch_to_manager[7][0]           \n",
      "                                                                 rythm_to_manager[7][0]           \n",
      "__________________________________________________________________________________________________\n",
      "concatenate_377 (Concatenate)   (None, 50)           0           pitch_to_manager[6][0]           \n",
      "                                                                 rythm_to_manager[6][0]           \n",
      "__________________________________________________________________________________________________\n",
      "concatenate_376 (Concatenate)   (None, 50)           0           pitch_to_manager[5][0]           \n",
      "                                                                 rythm_to_manager[5][0]           \n",
      "__________________________________________________________________________________________________\n",
      "concatenate_375 (Concatenate)   (None, 50)           0           pitch_to_manager[4][0]           \n",
      "                                                                 rythm_to_manager[4][0]           \n",
      "__________________________________________________________________________________________________\n",
      "concatenate_374 (Concatenate)   (None, 50)           0           pitch_to_manager[3][0]           \n",
      "                                                                 rythm_to_manager[3][0]           \n",
      "__________________________________________________________________________________________________\n",
      "concatenate_373 (Concatenate)   (None, 50)           0           pitch_to_manager[2][0]           \n",
      "                                                                 rythm_to_manager[2][0]           \n",
      "__________________________________________________________________________________________________\n",
      "concatenate_372 (Concatenate)   (None, 50)           0           pitch_to_manager[1][0]           \n",
      "                                                                 rythm_to_manager[1][0]           \n",
      "__________________________________________________________________________________________________\n",
      "concatenate_371 (Concatenate)   (None, 50)           0           pitch_to_manager[0][0]           \n",
      "                                                                 rythm_to_manager[0][0]           \n",
      "__________________________________________________________________________________________________\n",
      "reshapor_concat (Reshape)       (None, 50, 1)        0           concatenate_371[0][0]            \n",
      "                                                                 concatenate_372[0][0]            \n",
      "                                                                 concatenate_373[0][0]            \n",
      "                                                                 concatenate_374[0][0]            \n",
      "                                                                 concatenate_375[0][0]            \n",
      "                                                                 concatenate_376[0][0]            \n",
      "                                                                 concatenate_377[0][0]            \n",
      "                                                                 concatenate_378[0][0]            \n",
      "                                                                 concatenate_379[0][0]            \n",
      "                                                                 concatenate_380[0][0]            \n",
      "__________________________________________________________________________________________________\n",
      "manager_state_0 (InputLayer)    (None, 100)          0                                            \n",
      "__________________________________________________________________________________________________\n",
      "manager_gru (GRU)               (None, 100)          30600       reshapor_concat[0][0]            \n",
      "                                                                 manager_state_0[0][0]            \n",
      "                                                                 reshapor_concat[1][0]            \n",
      "                                                                 manager_gru[0][0]                \n",
      "                                                                 reshapor_concat[2][0]            \n",
      "                                                                 manager_gru[1][0]                \n",
      "                                                                 reshapor_concat[3][0]            \n",
      "                                                                 manager_gru[2][0]                \n",
      "                                                                 reshapor_concat[4][0]            \n",
      "                                                                 manager_gru[3][0]                \n",
      "                                                                 reshapor_concat[5][0]            \n",
      "                                                                 manager_gru[4][0]                \n",
      "                                                                 reshapor_concat[6][0]            \n",
      "                                                                 manager_gru[5][0]                \n",
      "                                                                 reshapor_concat[7][0]            \n",
      "                                                                 manager_gru[6][0]                \n",
      "                                                                 reshapor_concat[8][0]            \n",
      "                                                                 manager_gru[7][0]                \n",
      "                                                                 reshapor_concat[9][0]            \n",
      "                                                                 manager_gru[8][0]                \n",
      "__________________________________________________________________________________________________\n",
      "manager_to_inter_pitch (Dense)  (None, 40)           4040        manager_gru[9][0]                \n",
      "__________________________________________________________________________________________________\n",
      "manager_to_inter_rythm (Dense)  (None, 20)           2020        manager_gru[9][0]                \n",
      "__________________________________________________________________________________________________\n",
      "inter_to_pitch (Dense)          (None, 25)           1025        manager_to_inter_pitch[0][0]     \n",
      "__________________________________________________________________________________________________\n",
      "inter_to_rythm (Dense)          (None, 5)            105         manager_to_inter_rythm[0][0]     \n",
      "==================================================================================================\n",
      "Total params: 104,040\n",
      "Trainable params: 104,040\n",
      "Non-trainable params: 0\n",
      "__________________________________________________________________________________________________\n"
     ]
    }
   ],
   "source": [
    "model.summary()"
   ]
  },
  {
   "cell_type": "code",
   "execution_count": 25,
   "metadata": {},
   "outputs": [],
   "source": [
    "h = np.array(np.log2(np.array(reduce(lambda x,y:x+y,rythm_X))) , dtype = 'int32')"
   ]
  },
  {
   "cell_type": "code",
   "execution_count": 26,
   "metadata": {},
   "outputs": [
    {
     "data": {
      "text/plain": [
       "{0, 1, 2, 3, 4}"
      ]
     },
     "execution_count": 26,
     "metadata": {},
     "output_type": "execute_result"
    }
   ],
   "source": [
    "set(h)"
   ]
  },
  {
   "cell_type": "code",
   "execution_count": 18,
   "metadata": {},
   "outputs": [
    {
     "data": {
      "text/plain": [
       "{1, 2, 4, 8, 16}"
      ]
     },
     "execution_count": 18,
     "metadata": {},
     "output_type": "execute_result"
    }
   ],
   "source": [
    "set(h)"
   ]
  },
  {
   "cell_type": "code",
   "execution_count": 19,
   "metadata": {},
   "outputs": [
    {
     "data": {
      "text/plain": [
       "0.0"
      ]
     },
     "execution_count": 19,
     "metadata": {},
     "output_type": "execute_result"
    }
   ],
   "source": [
    "np.log(1)"
   ]
  },
  {
   "cell_type": "code",
   "execution_count": null,
   "metadata": {},
   "outputs": [],
   "source": []
  },
  {
   "cell_type": "code",
   "execution_count": null,
   "metadata": {},
   "outputs": [],
   "source": [
    "rythm_X[0]"
   ]
  },
  {
   "cell_type": "code",
   "execution_count": null,
   "metadata": {},
   "outputs": [],
   "source": []
  },
  {
   "cell_type": "code",
   "execution_count": null,
   "metadata": {},
   "outputs": [],
   "source": [
    "      "
   ]
  },
  {
   "cell_type": "code",
   "execution_count": null,
   "metadata": {},
   "outputs": [],
   "source": []
  },
  {
   "cell_type": "code",
   "execution_count": null,
   "metadata": {},
   "outputs": [],
   "source": [
    "#Y = [[y_pitch[i], y_rythm[i]] for i in range(len(y_pitch))] \n",
    "np.array([len(y) for y in y_pitch])[np.array([len(y) for y in y_pitch]) != 1]"
   ]
  },
  {
   "cell_type": "code",
   "execution_count": null,
   "metadata": {},
   "outputs": [],
   "source": [
    "Y[0][0].shape"
   ]
  },
  {
   "cell_type": "code",
   "execution_count": null,
   "metadata": {},
   "outputs": [],
   "source": []
  },
  {
   "cell_type": "code",
   "execution_count": null,
   "metadata": {},
   "outputs": [],
   "source": [
    "np.min(X_pitch_np[0],axis = 1)"
   ]
  },
  {
   "cell_type": "code",
   "execution_count": null,
   "metadata": {},
   "outputs": [],
   "source": [
    "len(X_pitch)"
   ]
  },
  {
   "cell_type": "code",
   "execution_count": null,
   "metadata": {},
   "outputs": [],
   "source": []
  },
  {
   "cell_type": "code",
   "execution_count": null,
   "metadata": {},
   "outputs": [],
   "source": [
    "model.summ"
   ]
  },
  {
   "cell_type": "code",
   "execution_count": null,
   "metadata": {},
   "outputs": [],
   "source": [
    "X_pitch, X_rythm, pitch_state_0, rythm_state_0, manager_state_0"
   ]
  },
  {
   "cell_type": "code",
   "execution_count": null,
   "metadata": {},
   "outputs": [],
   "source": [
    "model.summary()"
   ]
  },
  {
   "cell_type": "code",
   "execution_count": null,
   "metadata": {},
   "outputs": [],
   "source": []
  },
  {
   "cell_type": "code",
   "execution_count": 24,
   "metadata": {},
   "outputs": [],
   "source": [
    "def make_prediction(setting, to_generate):\n",
    "\n",
    "    X_pitch = Input(shape = (setting.Tx, setting.pitch_output_shape), name = 'X_pitch')\n",
    "    X_rythm = Input(shape = (setting.Tx, setting.rythm_output_shape), name = 'X_rythm')\n",
    "    \n",
    "    reshapor_pitch = Reshape((setting.pitch_output_shape, 1))#?\n",
    "    reshapor_rythm = Reshape((setting.rythm_output_shape, 1))\n",
    "    \n",
    "    manager_state_0 = Input(shape=(setting.manager_internal_shape, ), name = 'manager_state_0')\n",
    "    pitch_state_0 = Input(shape = (setting.pitch_internal_shape, ), name = 'pitch_state_0')\n",
    "    rythm_state_0 = Input(shape = (setting.rythm_internal_shape, ), name = 'rythm_state_0')\n",
    "\n",
    "    manager_state = manager_state_0\n",
    "    pitch_state = pitch_state_0\n",
    "    rythm_state = rythm_state_0\n",
    "    \n",
    "    reshapor_pitch = Reshape((setting.pitch_output_shape, 1))\n",
    "    reshapor_rhythm = Reshape((setting.rythm_output_shape, 1))\n",
    "    \n",
    "    reshapor_concat = Reshape((setting.pitch_to_manager_shape + setting.rythm_to_manager_shape, 1))\n",
    "    \n",
    "\n",
    "    out_pitches = []\n",
    "    out_rythms = []\n",
    "\n",
    "\n",
    "    for t in range(non_trainable_first):\n",
    "        #print(t)\n",
    "\n",
    "        get_pitch_t =  Lambda(lambda x: reshapor_pitch(x[:, t, :])) \n",
    "        get_rythm_t = Lambda(lambda x: reshapor_rythm(x[:, t, :]))  \n",
    "\n",
    "        pitch_state = setting.pitch_gru(get_pitch_t(X_pitch), initial_state = [pitch_state])\n",
    "        rythm_state = setting.rythm_gru(get_rythm_t(X_rythm), initial_state = [rythm_state])\n",
    "        \n",
    "        \n",
    "        concat = reshapor_concat(Concatenate(axis = 1)([setting.pitch_to_manager(pitch_state),\\\n",
    "                                                        setting.rythm_to_manager(rythm_state)]))\n",
    "        \n",
    "        manager_state = setting.manager_gru(concat, initial_state = [manager_state])\n",
    "    \n",
    "        output_pitch = setting.inter_to_pitch(setting.manager_to_inter_pitch(manager_state))\n",
    "        output_rythm = setting.inter_to_rythm(setting.manager_to_inter_rythm(manager_state))\n",
    "        \n",
    "\n",
    "    \n",
    "\n",
    "    for t in range(to_generate):\n",
    "        #print(t)\n",
    "        \n",
    "        #Sample pitch\n",
    "        #pitch = Lambda(lambda x: tf.one_hot(tf.multinomial(x, 1), pitch_output_shape))#np.random.choice(pitch_output_shape, output_pitch)\n",
    "        pitch = Lambda(lambda x: tf.one_hot(tf.argmax(x, axis = 1), pitch_output_shape))\n",
    "\n",
    "        \n",
    "        #Sample rythm        \n",
    "        #rythm = Lambda(lambda x: tf.one_hot(tf.multinomial(x, 1), rythm_output_shape))\n",
    "        rythm = Lambda(lambda x: tf.one_hot(tf.argmax(x, axis = 1), rythm_output_shape))\n",
    "        \n",
    "        pitch_sampled = reshapor_pitch(pitch(output_pitch))\n",
    "        rythm_sampled = reshapor_rythm(rythm(output_rythm))\n",
    "        \n",
    "        #print(pitch_sampled)\n",
    "        out_pitches.append(pitch_sampled)\n",
    "        out_rythms.append(rythm_sampled)\n",
    "        #####################################\n",
    "        \n",
    "        pitch_state = setting.pitch_gru(pitch_sampled, initial_state = [pitch_state])\n",
    "        rythm_state = setting.rythm_gru(rythm_sampled, initial_state = [rythm_state])\n",
    "        \n",
    "        concat = reshapor_concat(Concatenate(axis = 1)([setting.pitch_to_manager(pitch_state),\\\n",
    "                                                setting.rythm_to_manager(rythm_state)]))\n",
    "        \n",
    "        manager_state = setting.manager_gru(concat, initial_state = [manager_state])\n",
    "        \n",
    "        \n",
    "        output_pitch = setting.inter_to_pitch(setting.manager_to_inter_pitch(manager_state))\n",
    "        output_rythm = setting.inter_to_rythm(setting.manager_to_inter_rythm(manager_state))\n",
    "        \n",
    "\n",
    "        \n",
    "\n",
    "    out = out_pitches + out_rythms\n",
    "\n",
    "    model_general = Model(inputs = [X_pitch, X_rythm, pitch_state_0, rythm_state_0, manager_state_0], outputs = out)\n",
    "\n",
    "    return model_general"
   ]
  },
  {
   "cell_type": "code",
   "execution_count": 25,
   "metadata": {},
   "outputs": [],
   "source": [
    "number_of_notes_to_generate = 100\n",
    "model_predict = make_prediction(setting, number_of_notes_to_generate)"
   ]
  },
  {
   "cell_type": "code",
   "execution_count": 26,
   "metadata": {},
   "outputs": [],
   "source": [
    "#m = X_pitch_np.shape[0]\n",
    "\n",
    "manager_internal_shape = setting.manager_internal_shape\n",
    "pitch_internal_shape = setting.pitch_internal_shape\n",
    "rythm_internal_shape = setting.rythm_internal_shape\n",
    "\n",
    "pitch_state_0 = np.zeros((1, pitch_internal_shape))\n",
    "rythm_state_0 = np.zeros((1, rythm_internal_shape))\n",
    "manager_state_0 = np.zeros((1, manager_internal_shape))\n",
    "\n",
    "X_pitch_np = np.array(X_pitch)[1000,:setting.Tx].reshape((1,setting.Tx,setting.pitch_output_shape))\n",
    "X_rythm_np = np.array(X_rythm)[1000,:setting.Tx].reshape((1,setting.Tx,setting.rythm_output_shape))\n",
    "#X_pitch_np = [np.argmax(x) for x in X_pitch_np]\n",
    "#X_rythm_np = [np.argmax(x) for x in X_rythm_np]\n",
    "\n",
    "result = model_predict.predict([X_pitch_np, X_rythm_np,  pitch_state_0, rythm_state_0, manager_state_0])"
   ]
  },
  {
   "cell_type": "code",
   "execution_count": 27,
   "metadata": {},
   "outputs": [
    {
     "name": "stdout",
     "output_type": "stream",
     "text": [
      "[1, 1, 1, 1, 1, 1, 1, 1, 1, 1, 1, 1, 1, 1, 1, 1, 1, 1, 1, 1, 1, 1, 1, 1, 1, 1, 1, 1, 1, 1, 1, 1, 1, 1, 1, 1, 1, 1, 1, 1, 1, 1, 1, 1, 1, 1, 1, 1, 1, 1, 1, 1, 1, 1, 1, 1, 1, 1, 1, 1, 1, 1, 1, 1, 1, 1, 1, 1, 1, 1, 1, 1, 1, 1, 1, 1, 1, 1, 1, 1, 1, 1, 1, 1, 1, 1, 1, 1, 1, 1, 1, 1, 1, 1, 1, 1, 1, 1, 1, 1]\n",
      "[12, 12, 12, 12, 12, 12, 12, 12, 12, 12, 12, 12, 12, 12, 12, 12, 12, 12, 12, 12, 12, 12, 12, 12, 12, 12, 12, 12, 12, 12, 12, 12, 12, 12, 12, 12, 12, 12, 12, 12, 12, 12, 12, 12, 12, 12, 12, 12, 12, 12, 12, 12, 12, 12, 12, 12, 12, 12, 12, 12, 12, 12, 12, 12, 12, 12, 12, 12, 12, 12, 12, 12, 12, 12, 12, 12, 12, 12, 12, 12, 12, 12, 12, 12, 12, 12, 12, 12, 12, 12, 12, 12, 12, 12, 12, 12, 12, 12, 12, 12]\n"
     ]
    },
    {
     "data": {
      "image/png": "[encoded data removed]",
      "text/plain": [
       "<Figure size 432x288 with 1 Axes>"
      ]
     },
     "metadata": {},
     "output_type": "display_data"
    },
    {
     "name": "stdout",
     "output_type": "stream",
     "text": [
      "0\n"
     ]
    }
   ],
   "source": [
    "\n",
    "seq_p = result[:number_of_notes_to_generate]\n",
    "seq_r = result[number_of_notes_to_generate:]\n",
    "\n",
    "\n",
    "\n",
    "X_pitch_np = [np.argmax(x) for x in seq_p]\n",
    "X_rythm_np = [np.argmax(x) for x in seq_r]\n",
    "\n",
    "print(X_rythm_np)\n",
    "print(X_pitch_np)\n",
    "create_track_new(X_rythm_np,X_pitch_np)"
   ]
  },
  {
   "cell_type": "code",
   "execution_count": null,
   "metadata": {},
   "outputs": [],
   "source": [
    "X_pitch_np = np.array(X_pitch)[2035,:8].reshape((1,8,25))\n",
    "X_rythm_np = np.array(X_rythm)[2035,:8].reshape((1,8,5))\n",
    "np.argmax(X_pitch_np, axis = 2)"
   ]
  },
  {
   "cell_type": "code",
   "execution_count": null,
   "metadata": {},
   "outputs": [],
   "source": [
    "seq_p = result[:number_of_notes_to_generate]\n",
    "seq_r = result[number_of_notes_to_generate:]\n",
    "\n",
    "\n",
    "\n",
    "X_pitch_np = [np.argmax(x) for x in seq_p]\n",
    "X_rythm_np = [np.argmax(x) for x in seq_r]\n",
    "\n",
    "print(X_rythm_np)\n",
    "print(X_pitch_np)\n",
    "create_track_new(X_rythm_np,X_pitch_np)"
   ]
  },
  {
   "cell_type": "code",
   "execution_count": 185,
   "metadata": {},
   "outputs": [],
   "source": [
    "from midiutil import MIDIFile\n",
    "def create_track_new(seq, seq_pitch):\n",
    "    \n",
    "    #num_to_len = {1:1, 2:2, 3:4, 4:8, 5:16, 6:32}\n",
    "    grain = 8\n",
    "    one_tact = 128\n",
    "    tacts_per_min = 75\n",
    "    tempo    = one_tact * tacts_per_min  # In BPM\n",
    "    volume   = 100  # 0-127, as per the MIDI standard\n",
    "    track    = 0\n",
    "    channel  = 0\n",
    "    time     = 0# to learn\n",
    "    \n",
    "    MyMIDI = MIDIFile(1)\n",
    "    MyMIDI.addTempo(track, time, tempo)\n",
    "    \n",
    "    MyMIDI.addNote(track, channel, 120, 0, one_tact / grain, volume)\n",
    "    tick_count = one_tact / grain\n",
    "    \n",
    "    current_pitch = 80\n",
    "    \n",
    "    tick_counts = [tick_count]\n",
    "    pitches = [current_pitch]\n",
    "    \n",
    "    decode_lengths  = {0:1, 1:2, 2:4, 3:8, 4:16}\n",
    "    for l,p in zip(seq, seq_pitch):\n",
    "        current_pitch += (p - 12)\n",
    "        if current_pitch < 50:\n",
    "            current_pitch += 50\n",
    "        if current_pitch > 100:\n",
    "            current_pitch -= 50\n",
    "        pitches += [current_pitch]\n",
    "        #length = num_to_len[l]\n",
    "        MyMIDI.addNote(track, channel, current_pitch, tick_count, one_tact / grain * (decode_lengths[l]), volume)\n",
    "        tick_count = tick_count + one_tact / grain * (decode_lengths[l])\n",
    "        tick_counts += [tick_count]\n",
    "    \n",
    "    plt.scatter(tick_counts, pitches, s = 1)\n",
    "    plt.show()\n",
    "    print(track)\n",
    "\n",
    "    with open(\"zzz.mid\", \"wb\") as output_file:\n",
    "        MyMIDI.writeFile(output_file) \n",
    "                \n",
    "                            \n",
    "                    \n",
    "\n"
   ]
  },
  {
   "cell_type": "code",
   "execution_count": null,
   "metadata": {},
   "outputs": [],
   "source": [
    "X_pitch_np = np.array(X_pitch)[12,:8]\n",
    "X_rythm_np = np.array(X_rythm)[12,:8]\n",
    "X_pitch_np = [np.argmax(x) for x in X_pitch_np]\n",
    "X_rythm_np = [np.argmax(x) for x in X_rythm_np]\n",
    "\n",
    "create_track_new(X_rythm_np, X_pitch_np)\n",
    "#print(np.max(np.argmax(X_rythm_np, axis = 1),axis = 1))"
   ]
  },
  {
   "cell_type": "code",
   "execution_count": null,
   "metadata": {},
   "outputs": [],
   "source": [
    "np.argmax(X_rythm_np[0])"
   ]
  },
  {
   "cell_type": "code",
   "execution_count": null,
   "metadata": {},
   "outputs": [],
   "source": [
    "np.argmax(X_pitch_np[1])"
   ]
  },
  {
   "cell_type": "code",
   "execution_count": null,
   "metadata": {},
   "outputs": [],
   "source": [
    "import mingus.core.intervals as intervals"
   ]
  },
  {
   "cell_type": "code",
   "execution_count": null,
   "metadata": {},
   "outputs": [],
   "source": [
    "manager_gru(manager_input)"
   ]
  },
  {
   "cell_type": "code",
   "execution_count": null,
   "metadata": {},
   "outputs": [],
   "source": [
    "out = manager_gru(manager_input)\n",
    "opt = Adam(lr=0.01, beta_1=0.9, beta_2=0.999, decay=0.01)\n",
    "manager = Model(inputs = [manager_input], outputs = out[:2])\n",
    "manager.compile(optimizer=opt, loss='categorical_crossentropy', metrics=['accuracy'])"
   ]
  },
  {
   "cell_type": "code",
   "execution_count": null,
   "metadata": {},
   "outputs": [],
   "source": [
    "out"
   ]
  },
  {
   "cell_type": "code",
   "execution_count": null,
   "metadata": {},
   "outputs": [],
   "source": [
    "manager.predict(np.ones((1,1,100)))"
   ]
  },
  {
   "cell_type": "code",
   "execution_count": null,
   "metadata": {},
   "outputs": [],
   "source": [
    "seq = manager_gru(manager_input).compile()"
   ]
  },
  {
   "cell_type": "code",
   "execution_count": null,
   "metadata": {},
   "outputs": [],
   "source": [
    "pitch_gru(pitch_input)"
   ]
  },
  {
   "cell_type": "code",
   "execution_count": null,
   "metadata": {},
   "outputs": [],
   "source": [
    "import numpy as np"
   ]
  },
  {
   "cell_type": "code",
   "execution_count": null,
   "metadata": {},
   "outputs": [],
   "source": [
    "sess = tf.Session()"
   ]
  },
  {
   "cell_type": "code",
   "execution_count": null,
   "metadata": {},
   "outputs": [],
   "source": [
    "pitch_output_shape = 10\n",
    "\n",
    "choices_pitch = tf.constant( np.array( [np.arange(pitch_output_shape)]), dtype=tf.int64)\n",
    "\n",
    "output_pitch = list(np.zeros(pitch_output_shape, dtype = 'int64'))\n",
    "output_pitch[5] = 0.5\n",
    "output_pitch[4] = 0.5\n",
    "\n",
    "output_pitch = tf.constant(output_pitch)\n",
    "sampled_ids_pitch = tf.multinomial([output_pitch], 12)"
   ]
  },
  {
   "cell_type": "code",
   "execution_count": null,
   "metadata": {},
   "outputs": [],
   "source": [
    "list(np.zeros(pitch_output_shape, dtype = 'int64'))"
   ]
  },
  {
   "cell_type": "code",
   "execution_count": null,
   "metadata": {},
   "outputs": [],
   "source": [
    "with tf.Session() as sess:\n",
    "    sample = sess.run(sampled_ids_pitch)\n",
    "    print(sample)\n",
    "    "
   ]
  },
  {
   "cell_type": "code",
   "execution_count": null,
   "metadata": {},
   "outputs": [],
   "source": [
    "# L has shape [2, 5, 2]\n",
    "L = tf.constant([[0.9, 0.1]])\n",
    "\n",
    "dims = L.get_shape().as_list()\n",
    "N = dims[-1]  # here N = 2\n",
    "\n",
    "logits = tf.reshape(L, [-1, N])\n",
    "\n",
    "\n",
    "samples = tf.multinomial(logits, 1)\n",
    "# We reshape to match the initial shape minus the last dimension\n",
    "res = tf.reshape(samples, dims[:-1])"
   ]
  },
  {
   "cell_type": "code",
   "execution_count": null,
   "metadata": {},
   "outputs": [],
   "source": [
    "with tf.Session() as sess:\n",
    "    sample = sess.run(res)\n",
    "    print(sample)"
   ]
  },
  {
   "cell_type": "code",
   "execution_count": 21,
   "metadata": {},
   "outputs": [
    {
     "name": "stdout",
     "output_type": "stream",
     "text": [
      "=== Dijkstra ===\n",
      "[('A', 'B', 7), ('A', 'D', 5), ('B', 'C', 8), ('B', 'D', 9), ('B', 'E', 7), ('C', 'E', 5), ('D', 'E', 15), ('D', 'F', 6), ('E', 'F', 8), ('E', 'G', 9), ('F', 'G', 11)]\n",
      "A -> E:\n",
      "(14, ('E', ('B', ('A', ()))))\n",
      "F -> E:\n",
      "inf\n"
     ]
    }
   ],
   "source": [
    "from collections import defaultdict\n",
    "from heapq import *\n",
    "\n",
    "def dijkstra(edges, f, t):\n",
    "    g = defaultdict(list)\n",
    "    for l,r,c in edges:\n",
    "        g[l].append((c,r))\n",
    "\n",
    "    q, seen, mins = [(0,f,())], set(), {f: 0}\n",
    "    while q:\n",
    "        (cost,v1,path) = heappop(q)\n",
    "        if v1 not in seen:\n",
    "            seen.add(v1)\n",
    "            path = (v1, path)\n",
    "            if v1 == t: return (cost, path)\n",
    "\n",
    "            for c, v2 in g.get(v1, ()):\n",
    "                if v2 in seen: continue\n",
    "                prev = mins.get(v2, None)\n",
    "                next = cost + c\n",
    "                if prev is None or next < prev:\n",
    "                    mins[v2] = next\n",
    "                    heappush(q, (next, v2, path))\n",
    "\n",
    "    return float(\"inf\")\n",
    "\n",
    "\n",
    "edges = [\n",
    "    (\"A\", \"B\", 7),\n",
    "    (\"A\", \"D\", 5),\n",
    "    (\"B\", \"C\", 8),\n",
    "    (\"B\", \"D\", 9),\n",
    "    (\"B\", \"E\", 7),\n",
    "    (\"C\", \"E\", 5),\n",
    "    (\"D\", \"E\", 15),\n",
    "    (\"D\", \"F\", 6),\n",
    "    (\"E\", \"F\", 8),\n",
    "    (\"E\", \"G\", 9),\n",
    "    (\"F\", \"G\", 11)\n",
    "]\n",
    "\n",
    "print (\"=== Dijkstra ===\")\n",
    "print (edges)\n",
    "print (\"A -> E:\")\n",
    "print (dijkstra(edges, \"A\", \"E\"))\n",
    "print (\"F -> E:\")\n",
    "print (dijkstra(edges, \"F\", \"E\"))"
   ]
  },
  {
   "cell_type": "code",
   "execution_count": 28,
   "metadata": {},
   "outputs": [
    {
     "data": {
      "text/plain": [
       "{1: 1, '12': 3}"
      ]
     },
     "execution_count": 28,
     "metadata": {},
     "output_type": "execute_result"
    }
   ],
   "source": [
    "{1:1, \"12\":3}\n"
   ]
  },
  {
   "cell_type": "code",
   "execution_count": 16,
   "metadata": {},
   "outputs": [],
   "source": [
    "g = Graph()\n",
    "g.add_node(1)\n",
    "g.add_node(2)\n",
    "g.add_node(3)\n",
    "g.add_node(4)\n",
    "g.add_edge(1, 2, 20)\n",
    "g.add_edge(2, 3, 20)"
   ]
  },
  {
   "cell_type": "code",
   "execution_count": 18,
   "metadata": {},
   "outputs": [
    {
     "ename": "KeyError",
     "evalue": "(2, 1)",
     "output_type": "error",
     "traceback": [
      "\u001b[1;31m---------------------------------------------------------------------------\u001b[0m",
      "\u001b[1;31mKeyError\u001b[0m                                  Traceback (most recent call last)",
      "\u001b[1;32m<ipython-input-18-4a0bec660600>\u001b[0m in \u001b[0;36m<module>\u001b[1;34m()\u001b[0m\n\u001b[1;32m----> 1\u001b[1;33m \u001b[0mdijsktra\u001b[0m\u001b[1;33m(\u001b[0m\u001b[0mg\u001b[0m\u001b[1;33m,\u001b[0m\u001b[1;36m1\u001b[0m\u001b[1;33m)\u001b[0m\u001b[1;33m\u001b[0m\u001b[0m\n\u001b[0m",
      "\u001b[1;32m<ipython-input-9-39a0c2dcdeee>\u001b[0m in \u001b[0;36mdijsktra\u001b[1;34m(graph, initial)\u001b[0m\n\u001b[0;32m     38\u001b[0m \u001b[1;33m\u001b[0m\u001b[0m\n\u001b[0;32m     39\u001b[0m     \u001b[1;32mfor\u001b[0m \u001b[0medge\u001b[0m \u001b[1;32min\u001b[0m \u001b[0mgraph\u001b[0m\u001b[1;33m.\u001b[0m\u001b[0medges\u001b[0m\u001b[1;33m[\u001b[0m\u001b[0mmin_node\u001b[0m\u001b[1;33m]\u001b[0m\u001b[1;33m:\u001b[0m\u001b[1;33m\u001b[0m\u001b[0m\n\u001b[1;32m---> 40\u001b[1;33m       \u001b[0mweight\u001b[0m \u001b[1;33m=\u001b[0m \u001b[0mcurrent_weight\u001b[0m \u001b[1;33m+\u001b[0m \u001b[0mgraph\u001b[0m\u001b[1;33m.\u001b[0m\u001b[0mdistances\u001b[0m\u001b[1;33m[\u001b[0m\u001b[1;33m(\u001b[0m\u001b[0mmin_node\u001b[0m\u001b[1;33m,\u001b[0m \u001b[0medge\u001b[0m\u001b[1;33m)\u001b[0m\u001b[1;33m]\u001b[0m\u001b[1;33m\u001b[0m\u001b[0m\n\u001b[0m\u001b[0;32m     41\u001b[0m       \u001b[1;32mif\u001b[0m \u001b[0medge\u001b[0m \u001b[1;32mnot\u001b[0m \u001b[1;32min\u001b[0m \u001b[0mvisited\u001b[0m \u001b[1;32mor\u001b[0m \u001b[0mweight\u001b[0m \u001b[1;33m<\u001b[0m \u001b[0mvisited\u001b[0m\u001b[1;33m[\u001b[0m\u001b[0medge\u001b[0m\u001b[1;33m]\u001b[0m\u001b[1;33m:\u001b[0m\u001b[1;33m\u001b[0m\u001b[0m\n\u001b[0;32m     42\u001b[0m         \u001b[0mvisited\u001b[0m\u001b[1;33m[\u001b[0m\u001b[0medge\u001b[0m\u001b[1;33m]\u001b[0m \u001b[1;33m=\u001b[0m \u001b[0mweight\u001b[0m\u001b[1;33m\u001b[0m\u001b[0m\n",
      "\u001b[1;31mKeyError\u001b[0m: (2, 1)"
     ]
    }
   ],
   "source": [
    "dijsktra(g,1)"
   ]
  },
  {
   "cell_type": "code",
   "execution_count": 27,
   "metadata": {},
   "outputs": [
    {
     "data": {
      "text/plain": [
       "1"
      ]
     },
     "execution_count": 27,
     "metadata": {},
     "output_type": "execute_result"
    }
   ],
   "source": [
    "int(\"+01\")"
   ]
  },
  {
   "cell_type": "code",
   "execution_count": 29,
   "metadata": {},
   "outputs": [],
   "source": [
    "from collections import deque"
   ]
  },
  {
   "cell_type": "code",
   "execution_count": 30,
   "metadata": {},
   "outputs": [],
   "source": [
    "d = deque()"
   ]
  },
  {
   "cell_type": "code",
   "execution_count": 34,
   "metadata": {},
   "outputs": [],
   "source": [
    "d.appendleft(1)"
   ]
  },
  {
   "cell_type": "code",
   "execution_count": 32,
   "metadata": {},
   "outputs": [
    {
     "data": {
      "text/plain": [
       "deque([[1, 2, 3, 4]])"
      ]
     },
     "execution_count": 32,
     "metadata": {},
     "output_type": "execute_result"
    }
   ],
   "source": [
    "d\n"
   ]
  },
  {
   "cell_type": "code",
   "execution_count": 29,
   "metadata": {},
   "outputs": [
    {
     "name": "stdout",
     "output_type": "stream",
     "text": [
      "__________________________________________________________________________________________________\n",
      "Layer (type)                    Output Shape         Param #     Connected to                     \n",
      "==================================================================================================\n",
      "X_pitch (InputLayer)            (None, 10, 25)       0                                            \n",
      "__________________________________________________________________________________________________\n",
      "X_rythm (InputLayer)            (None, 10, 5)        0                                            \n",
      "__________________________________________________________________________________________________\n",
      "lambda_1 (Lambda)               (None, 25, 1)        0           X_pitch[0][0]                    \n",
      "__________________________________________________________________________________________________\n",
      "pitch_state_0 (InputLayer)      (None, 50)           0                                            \n",
      "__________________________________________________________________________________________________\n",
      "lambda_2 (Lambda)               (None, 5, 1)         0           X_rythm[0][0]                    \n",
      "__________________________________________________________________________________________________\n",
      "rythm_state_0 (InputLayer)      (None, 50)           0                                            \n",
      "__________________________________________________________________________________________________\n",
      "gru_2 (GRU)                     (None, 50)           7800        lambda_1[0][0]                   \n",
      "                                                                 pitch_state_0[0][0]              \n",
      "                                                                 lambda_3[0][0]                   \n",
      "                                                                 gru_2[0][0]                      \n",
      "                                                                 lambda_5[0][0]                   \n",
      "                                                                 gru_2[1][0]                      \n",
      "                                                                 lambda_7[0][0]                   \n",
      "                                                                 gru_2[2][0]                      \n",
      "                                                                 lambda_9[0][0]                   \n",
      "                                                                 gru_2[3][0]                      \n",
      "                                                                 lambda_11[0][0]                  \n",
      "                                                                 gru_2[4][0]                      \n",
      "                                                                 lambda_13[0][0]                  \n",
      "                                                                 gru_2[5][0]                      \n",
      "                                                                 lambda_15[0][0]                  \n",
      "                                                                 gru_2[6][0]                      \n",
      "                                                                 lambda_17[0][0]                  \n",
      "                                                                 gru_2[7][0]                      \n",
      "                                                                 lambda_19[0][0]                  \n",
      "                                                                 gru_2[8][0]                      \n",
      "__________________________________________________________________________________________________\n",
      "lambda_3 (Lambda)               (None, 25, 1)        0           X_pitch[0][0]                    \n",
      "__________________________________________________________________________________________________\n",
      "gru_3 (GRU)                     (None, 50)           7800        lambda_2[0][0]                   \n",
      "                                                                 rythm_state_0[0][0]              \n",
      "                                                                 lambda_4[0][0]                   \n",
      "                                                                 gru_3[0][0]                      \n",
      "                                                                 lambda_6[0][0]                   \n",
      "                                                                 gru_3[1][0]                      \n",
      "                                                                 lambda_8[0][0]                   \n",
      "                                                                 gru_3[2][0]                      \n",
      "                                                                 lambda_10[0][0]                  \n",
      "                                                                 gru_3[3][0]                      \n",
      "                                                                 lambda_12[0][0]                  \n",
      "                                                                 gru_3[4][0]                      \n",
      "                                                                 lambda_14[0][0]                  \n",
      "                                                                 gru_3[5][0]                      \n",
      "                                                                 lambda_16[0][0]                  \n",
      "                                                                 gru_3[6][0]                      \n",
      "                                                                 lambda_18[0][0]                  \n",
      "                                                                 gru_3[7][0]                      \n",
      "                                                                 lambda_20[0][0]                  \n",
      "                                                                 gru_3[8][0]                      \n",
      "__________________________________________________________________________________________________\n",
      "lambda_4 (Lambda)               (None, 5, 1)         0           X_rythm[0][0]                    \n",
      "__________________________________________________________________________________________________\n",
      "lambda_5 (Lambda)               (None, 25, 1)        0           X_pitch[0][0]                    \n",
      "__________________________________________________________________________________________________\n",
      "lambda_6 (Lambda)               (None, 5, 1)         0           X_rythm[0][0]                    \n",
      "__________________________________________________________________________________________________\n",
      "lambda_7 (Lambda)               (None, 25, 1)        0           X_pitch[0][0]                    \n",
      "__________________________________________________________________________________________________\n",
      "lambda_8 (Lambda)               (None, 5, 1)         0           X_rythm[0][0]                    \n",
      "__________________________________________________________________________________________________\n",
      "lambda_9 (Lambda)               (None, 25, 1)        0           X_pitch[0][0]                    \n",
      "__________________________________________________________________________________________________\n",
      "lambda_10 (Lambda)              (None, 5, 1)         0           X_rythm[0][0]                    \n",
      "__________________________________________________________________________________________________\n",
      "lambda_11 (Lambda)              (None, 25, 1)        0           X_pitch[0][0]                    \n",
      "__________________________________________________________________________________________________\n",
      "lambda_12 (Lambda)              (None, 5, 1)         0           X_rythm[0][0]                    \n",
      "__________________________________________________________________________________________________\n",
      "lambda_13 (Lambda)              (None, 25, 1)        0           X_pitch[0][0]                    \n",
      "__________________________________________________________________________________________________\n",
      "lambda_14 (Lambda)              (None, 5, 1)         0           X_rythm[0][0]                    \n",
      "__________________________________________________________________________________________________\n",
      "lambda_15 (Lambda)              (None, 25, 1)        0           X_pitch[0][0]                    \n",
      "__________________________________________________________________________________________________\n",
      "lambda_16 (Lambda)              (None, 5, 1)         0           X_rythm[0][0]                    \n",
      "__________________________________________________________________________________________________\n",
      "lambda_17 (Lambda)              (None, 25, 1)        0           X_pitch[0][0]                    \n",
      "__________________________________________________________________________________________________\n",
      "lambda_18 (Lambda)              (None, 5, 1)         0           X_rythm[0][0]                    \n",
      "__________________________________________________________________________________________________\n",
      "lambda_19 (Lambda)              (None, 25, 1)        0           X_pitch[0][0]                    \n",
      "__________________________________________________________________________________________________\n",
      "lambda_20 (Lambda)              (None, 5, 1)         0           X_rythm[0][0]                    \n",
      "__________________________________________________________________________________________________\n",
      "dense_1 (Dense)                 (None, 25)           1275        gru_2[0][0]                      \n",
      "                                                                 gru_2[1][0]                      \n",
      "                                                                 gru_2[2][0]                      \n",
      "                                                                 gru_2[3][0]                      \n",
      "                                                                 gru_2[4][0]                      \n",
      "                                                                 gru_2[5][0]                      \n",
      "                                                                 gru_2[6][0]                      \n",
      "                                                                 gru_2[7][0]                      \n",
      "                                                                 gru_2[8][0]                      \n",
      "                                                                 gru_2[9][0]                      \n",
      "__________________________________________________________________________________________________\n",
      "dense_2 (Dense)                 (None, 25)           1275        gru_3[0][0]                      \n",
      "                                                                 gru_3[1][0]                      \n",
      "                                                                 gru_3[2][0]                      \n",
      "                                                                 gru_3[3][0]                      \n",
      "                                                                 gru_3[4][0]                      \n",
      "                                                                 gru_3[5][0]                      \n",
      "                                                                 gru_3[6][0]                      \n",
      "                                                                 gru_3[7][0]                      \n",
      "                                                                 gru_3[8][0]                      \n",
      "                                                                 gru_3[9][0]                      \n",
      "__________________________________________________________________________________________________\n",
      "concatenate_10 (Concatenate)    (None, 50)           0           dense_1[9][0]                    \n",
      "                                                                 dense_2[9][0]                    \n",
      "__________________________________________________________________________________________________\n",
      "concatenate_9 (Concatenate)     (None, 50)           0           dense_1[8][0]                    \n",
      "                                                                 dense_2[8][0]                    \n",
      "__________________________________________________________________________________________________\n",
      "concatenate_8 (Concatenate)     (None, 50)           0           dense_1[7][0]                    \n",
      "                                                                 dense_2[7][0]                    \n",
      "__________________________________________________________________________________________________\n",
      "concatenate_7 (Concatenate)     (None, 50)           0           dense_1[6][0]                    \n",
      "                                                                 dense_2[6][0]                    \n",
      "__________________________________________________________________________________________________\n",
      "concatenate_6 (Concatenate)     (None, 50)           0           dense_1[5][0]                    \n",
      "                                                                 dense_2[5][0]                    \n",
      "__________________________________________________________________________________________________\n",
      "concatenate_5 (Concatenate)     (None, 50)           0           dense_1[4][0]                    \n",
      "                                                                 dense_2[4][0]                    \n",
      "__________________________________________________________________________________________________\n",
      "concatenate_4 (Concatenate)     (None, 50)           0           dense_1[3][0]                    \n",
      "                                                                 dense_2[3][0]                    \n",
      "__________________________________________________________________________________________________\n",
      "concatenate_3 (Concatenate)     (None, 50)           0           dense_1[2][0]                    \n",
      "                                                                 dense_2[2][0]                    \n",
      "__________________________________________________________________________________________________\n",
      "concatenate_2 (Concatenate)     (None, 50)           0           dense_1[1][0]                    \n",
      "                                                                 dense_2[1][0]                    \n",
      "__________________________________________________________________________________________________\n",
      "concatenate_1 (Concatenate)     (None, 50)           0           dense_1[0][0]                    \n",
      "                                                                 dense_2[0][0]                    \n",
      "__________________________________________________________________________________________________\n",
      "reshape_3 (Reshape)             (None, 50, 1)        0           concatenate_1[0][0]              \n",
      "                                                                 concatenate_2[0][0]              \n",
      "                                                                 concatenate_3[0][0]              \n",
      "                                                                 concatenate_4[0][0]              \n",
      "                                                                 concatenate_5[0][0]              \n",
      "                                                                 concatenate_6[0][0]              \n",
      "                                                                 concatenate_7[0][0]              \n",
      "                                                                 concatenate_8[0][0]              \n",
      "                                                                 concatenate_9[0][0]              \n",
      "                                                                 concatenate_10[0][0]             \n",
      "__________________________________________________________________________________________________\n",
      "manager_state_0 (InputLayer)    (None, 50)           0                                            \n",
      "__________________________________________________________________________________________________\n",
      "gru_1 (GRU)                     (None, 50)           7800        reshape_3[0][0]                  \n",
      "                                                                 manager_state_0[0][0]            \n",
      "                                                                 reshape_3[1][0]                  \n",
      "                                                                 gru_1[0][0]                      \n",
      "                                                                 reshape_3[2][0]                  \n",
      "                                                                 gru_1[1][0]                      \n",
      "                                                                 reshape_3[3][0]                  \n",
      "                                                                 gru_1[2][0]                      \n",
      "                                                                 reshape_3[4][0]                  \n",
      "                                                                 gru_1[3][0]                      \n",
      "                                                                 reshape_3[5][0]                  \n",
      "                                                                 gru_1[4][0]                      \n",
      "                                                                 reshape_3[6][0]                  \n",
      "                                                                 gru_1[5][0]                      \n",
      "                                                                 reshape_3[7][0]                  \n",
      "                                                                 gru_1[6][0]                      \n",
      "                                                                 reshape_3[8][0]                  \n",
      "                                                                 gru_1[7][0]                      \n",
      "                                                                 reshape_3[9][0]                  \n",
      "                                                                 gru_1[8][0]                      \n",
      "__________________________________________________________________________________________________\n",
      "dense_3 (Dense)                 (None, 40)           2040        gru_1[9][0]                      \n",
      "__________________________________________________________________________________________________\n",
      "dense_4 (Dense)                 (None, 20)           1020        gru_1[9][0]                      \n",
      "__________________________________________________________________________________________________\n",
      "dense_5 (Dense)                 (None, 25)           1025        dense_3[0][0]                    \n",
      "__________________________________________________________________________________________________\n",
      "dense_6 (Dense)                 (None, 5)            105         dense_4[0][0]                    \n",
      "==================================================================================================\n",
      "Total params: 30,140\n",
      "Trainable params: 30,140\n",
      "Non-trainable params: 0\n",
      "__________________________________________________________________________________________________\n"
     ]
    }
   ],
   "source": [
    "model.summary()"
   ]
  },
  {
   "cell_type": "code",
   "execution_count": null,
   "metadata": {},
   "outputs": [],
   "source": []
  }
 ],
 "metadata": {
  "kernelspec": {
   "display_name": "Python [conda env:condathree]",
   "language": "python",
   "name": "conda-env-condathree-py"
  },
  "language_info": {
   "codemirror_mode": {
    "name": "ipython",
    "version": 3
   },
   "file_extension": ".py",
   "mimetype": "text/x-python",
   "name": "python",
   "nbconvert_exporter": "python",
   "pygments_lexer": "ipython3",
   "version": "3.5.5"
  }
 },
 "nbformat": 4,
 "nbformat_minor": 2
}
